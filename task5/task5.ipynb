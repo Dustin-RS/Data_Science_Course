{
 "cells": [
  {
   "cell_type": "markdown",
   "metadata": {},
   "source": [
    "# <a href=\"https://mipt-stats.gitlab.io/courses/ad_fivt.html\">Введение в анализ данных</a>\n",
    "## Домашнее задание 5. Анализ вакансий.\n"
   ]
  },
  {
   "cell_type": "markdown",
   "metadata": {},
   "source": [
    "**Правила, <font color=\"red\">прочитайте внимательно</font>:**\n",
    "\n",
    "* Выполненную работу нужно отправить телеграм-боту `@miptstats_ds22_bot`. Для начала работы с ботом каждый раз отправляйте `/start`.  **Работы, присланные иным способом, не принимаются.**\n",
    "* Дедлайн см. в боте. После дедлайна работы не принимаются кроме случаев наличия уважительной причины.\n",
    "* Прислать нужно ноутбук в формате `ipynb` и полученные данные (подробности далее). \n",
    "* Если вы выполняете <b><a href=\"#Сложная-часть\" style=\"text-decoration: none;\"><font color=\"orange\">сложную часть</font></a></b>, то кроме `ipynb` прислать нужно также ноутбук, сконвертированный **в формате `html`**, который можно получить как `File -> Download as -> HTML`. **Внимательно проверьте, что plotly-графики в ней сохранились**.\n",
    "* Следите за размером файлов. **Бот не может принимать файлы весом более 20 Мб.** Если файл получается больше, заранее разделите его на несколько.\n",
    "* Будьте внимательны при работе со сбором данных. Ответственность за корректность ваших действий лежит на вас. Не нагружайте сервера, *делайте паузы между запросами*. Как следствие, начинайте выполнять задание заранее. **Если вас где-то забаннили и т.п., то это не является уважительной причиной продления дедлайна.**\n",
    "* Выполнять задание необходимо полностью самостоятельно. **При обнаружении списывания все участники списывания будут сдавать устный зачет.**\n",
    "* Решения, размещенные на каких-либо интернет-ресурсах, не принимаются. Кроме того, публикация решения в открытом доступе может быть приравнена к предоставлении возможности списать.\n",
    "* Для выполнения задания используйте этот ноутбук в качестве основы, ничего не удаляя из него. Можно добавлять необходимое количество ячеек.\n",
    "* Комментарии к решению пишите в markdown-ячейках.\n",
    "* Выполнение задания (ход решения, выводы и пр.) должно быть осуществлено на русском языке.\n",
    "* Если код будет не понятен проверяющему, оценка может быть снижена.\n",
    "* Никакой код из данного задания при проверке запускаться не будет. *Если код студента не выполнен, недописан и т.д., то он не оценивается.*\n",
    "\n",
    "\n",
    "**Баллы за задание:**\n",
    "\n",
    "<b><a href=\"#Легкая-часть\" style=\"text-decoration: none;\"><font color=\"blue\">Легкая часть</font></a></b> (достаточно на \"хор\"):\n",
    "* Задача 1 &mdash; 80 баллов\n",
    "\n",
    "<b><a href=\"#Сложная-часть\" style=\"text-decoration: none;\"><font color=\"orange\">Сложная часть</font></a></b> (необходимо на \"отл\"):\n",
    "* Задача 2 &mdash; 60 баллов"
   ]
  },
  {
   "cell_type": "code",
   "execution_count": 96,
   "metadata": {
    "ExecuteTime": {
     "end_time": "2022-03-06T09:57:49.335810Z",
     "start_time": "2022-03-06T09:57:47.863259Z"
    },
    "colab": {},
    "colab_type": "code",
    "id": "ht9Xm0EucoAr"
   },
   "outputs": [
    {
     "ename": "ModuleNotFoundError",
     "evalue": "No module named 'plotly'",
     "output_type": "error",
     "traceback": [
      "\u001b[0;31m---------------------------------------------------------------------------\u001b[0m",
      "\u001b[0;31mModuleNotFoundError\u001b[0m                       Traceback (most recent call last)",
      "\u001b[0;32m/tmp/ipykernel_2509/980858198.py\u001b[0m in \u001b[0;36m<module>\u001b[0;34m\u001b[0m\n\u001b[1;32m      3\u001b[0m \u001b[0;32mimport\u001b[0m \u001b[0mmatplotlib\u001b[0m\u001b[0;34m.\u001b[0m\u001b[0mpyplot\u001b[0m \u001b[0;32mas\u001b[0m \u001b[0mplt\u001b[0m\u001b[0;34m\u001b[0m\u001b[0;34m\u001b[0m\u001b[0m\n\u001b[1;32m      4\u001b[0m \u001b[0;32mimport\u001b[0m \u001b[0mseaborn\u001b[0m \u001b[0;32mas\u001b[0m \u001b[0msns\u001b[0m\u001b[0;34m\u001b[0m\u001b[0;34m\u001b[0m\u001b[0m\n\u001b[0;32m----> 5\u001b[0;31m \u001b[0;32mimport\u001b[0m \u001b[0mplotly\u001b[0m\u001b[0;34m.\u001b[0m\u001b[0mexpress\u001b[0m \u001b[0;32mas\u001b[0m \u001b[0mpx\u001b[0m\u001b[0;34m\u001b[0m\u001b[0;34m\u001b[0m\u001b[0m\n\u001b[0m\u001b[1;32m      6\u001b[0m \u001b[0;34m\u001b[0m\u001b[0m\n\u001b[1;32m      7\u001b[0m \u001b[0msns\u001b[0m\u001b[0;34m.\u001b[0m\u001b[0mset\u001b[0m\u001b[0;34m(\u001b[0m\u001b[0mstyle\u001b[0m\u001b[0;34m=\u001b[0m\u001b[0;34m'whitegrid'\u001b[0m\u001b[0;34m,\u001b[0m \u001b[0mfont_scale\u001b[0m\u001b[0;34m=\u001b[0m\u001b[0;36m1.3\u001b[0m\u001b[0;34m,\u001b[0m \u001b[0mpalette\u001b[0m\u001b[0;34m=\u001b[0m\u001b[0;34m'Set2'\u001b[0m\u001b[0;34m)\u001b[0m\u001b[0;34m\u001b[0m\u001b[0;34m\u001b[0m\u001b[0m\n",
      "\u001b[0;31mModuleNotFoundError\u001b[0m: No module named 'plotly'"
     ]
    }
   ],
   "source": [
    "import numpy as np\n",
    "import pandas as pd\n",
    "import matplotlib.pyplot as plt\n",
    "import seaborn as sns\n",
    "\n",
    "sns.set(style='whitegrid', font_scale=1.3, palette='Set2')\n",
    "%matplotlib inline\n",
    "\n",
    "import requests\n",
    "from time import sleep\n",
    "import json"
   ]
  },
  {
   "attachments": {
    "a47371.buy12r.1ets.rs.ii.jpg": {
     "image/jpeg": "[encoded data removed]"
    }
   },
   "cell_type": "markdown",
   "metadata": {},
   "source": [
    "\n",
    "Второй курс &mdash; самое время задуматься о будущей профессии и проанализировать существующие предложения. Дело тут даже не в том, чтобы найти интересную стажировку. В первую очередь сейчас стоит подумать о том, в какую сторону развиваться дальше. Например, если вы хотите работать в какой-либо конкретной профессии, то наверняка стоит развивать какие-то определенные навыки, и даже выбрать подходящую кафедру. Анализ существующих вакансий поможет определить, какие навыки вам нужны. \n",
    "\n",
    "В данном задании вам нужно проанализировать вакансии на сайте <a target=\"_blank\" href=\"https://hh.ru/\">hh.ru</a> с использованием <a target=\"_blank\" href=\"https://dev.hh.ru/\">официального API</a>.\n",
    "\n",
    "![a47371.buy12r.1ets.rs.ii.jpg](attachment:a47371.buy12r.1ets.rs.ii.jpg)"
   ]
  },
  {
   "cell_type": "markdown",
   "metadata": {},
   "source": [
    " ---\n",
    "### Справка по работе с API.   \n",
    "\n",
    "<b><font color=\"red\">Внимание!</font> При работе с API не забывайте делать паузы между запросами, чтобы не задудосить сервер HeadHunter. Если вас заблокируют, это не будет являться уважительной причиной переноса дедлайна.</b>\n",
    "\n",
    "Мы будем работать только с вакансиями. Для этого не требуется регистрироваться и получать токен. Ниже приведен краткий пример работы с API. Подробное описание работы с вакансиями, включая параметры запросов и формат ответа можно почитать в <a target=\"_blank\" href=\"https://github.com/hhru/api/blob/master/docs/vacancies.md#search\">документации</a>.\n",
    "\n",
    "Например, мы хотим найти вакансии по запросу `Data Scientist` в Москве. Тогда первую страницу поиска из 10 вакансий на страницу мы можем получить с запроса к API:"
   ]
  },
  {
   "cell_type": "code",
   "execution_count": 2,
   "metadata": {
    "ExecuteTime": {
     "end_time": "2022-03-06T09:57:51.274748Z",
     "start_time": "2022-03-06T09:57:51.046449Z"
    }
   },
   "outputs": [],
   "source": [
    "URL = 'https://api.hh.ru/vacancies'\n",
    "\n",
    "params = {\n",
    "    'text': \"Data Scientist\",\n",
    "    'area': 1,\n",
    "    'page': 0,\n",
    "    'per_page': 10\n",
    "}\n",
    "\n",
    "req = requests.get(URL, params)\n",
    "data = json.loads(req.content.decode())"
   ]
  },
  {
   "cell_type": "markdown",
   "metadata": {},
   "source": [
    "Если все прошло успешно, полученный словарь будет иметь следующие ключи"
   ]
  },
  {
   "cell_type": "code",
   "execution_count": 3,
   "metadata": {
    "ExecuteTime": {
     "end_time": "2022-03-06T09:57:52.396796Z",
     "start_time": "2022-03-06T09:57:52.385622Z"
    }
   },
   "outputs": [
    {
     "data": {
      "text/plain": [
       "dict_keys(['items', 'found', 'pages', 'per_page', 'page', 'clusters', 'arguments', 'alternate_url'])"
      ]
     },
     "execution_count": 3,
     "metadata": {},
     "output_type": "execute_result"
    }
   ],
   "source": [
    "data.keys()"
   ]
  },
  {
   "cell_type": "markdown",
   "metadata": {},
   "source": [
    "Можем посмотреть на краткое описание первой вакансии"
   ]
  },
  {
   "cell_type": "code",
   "execution_count": 4,
   "metadata": {
    "ExecuteTime": {
     "end_time": "2022-03-06T09:57:53.342588Z",
     "start_time": "2022-03-06T09:57:53.336102Z"
    },
    "scrolled": true
   },
   "outputs": [
    {
     "data": {
      "text/plain": [
       "{'id': '49423067',\n",
       " 'premium': False,\n",
       " 'name': 'Data Scientist',\n",
       " 'department': None,\n",
       " 'has_test': False,\n",
       " 'response_letter_required': False,\n",
       " 'area': {'id': '1', 'name': 'Москва', 'url': 'https://api.hh.ru/areas/1'},\n",
       " 'salary': {'from': None, 'to': 390000, 'currency': 'RUR', 'gross': False},\n",
       " 'type': {'id': 'open', 'name': 'Открытая'},\n",
       " 'address': None,\n",
       " 'response_url': None,\n",
       " 'sort_point_distance': None,\n",
       " 'published_at': '2022-03-17T12:37:57+0300',\n",
       " 'created_at': '2022-03-17T12:37:57+0300',\n",
       " 'archived': False,\n",
       " 'apply_alternate_url': 'https://hh.ru/applicant/vacancy_response?vacancyId=49423067',\n",
       " 'insider_interview': None,\n",
       " 'url': 'https://api.hh.ru/vacancies/49423067?host=hh.ru',\n",
       " 'alternate_url': 'https://hh.ru/vacancy/49423067',\n",
       " 'relations': [],\n",
       " 'employer': {'id': '2324020',\n",
       "  'name': 'Точка',\n",
       "  'url': 'https://api.hh.ru/employers/2324020',\n",
       "  'alternate_url': 'https://hh.ru/employer/2324020',\n",
       "  'logo_urls': {'240': 'https://hhcdn.ru/employer-logo/3414734.jpeg',\n",
       "   '90': 'https://hhcdn.ru/employer-logo/3414733.jpeg',\n",
       "   'original': 'https://hhcdn.ru/employer-logo-original/743443.jpg'},\n",
       "  'vacancies_url': 'https://api.hh.ru/vacancies?employer_id=2324020',\n",
       "  'trusted': True},\n",
       " 'snippet': {'requirement': 'Есть опыт работы с методами машинного обучения и основными инструментами <highlighttext>data</highlighttext> science: Scikit-learn, XGBoost, CatBoost и т.п. ',\n",
       "  'responsibility': 'Придумывать и проверять гипотезы, которые позволят построить новые скоринговые модели и улучшить текущие. В результате они должны определять благонадёжность компаний...'},\n",
       " 'contacts': None,\n",
       " 'schedule': {'id': 'fullDay', 'name': 'Полный день'},\n",
       " 'working_days': [],\n",
       " 'working_time_intervals': [],\n",
       " 'working_time_modes': [],\n",
       " 'accept_temporary': False}"
      ]
     },
     "execution_count": 4,
     "metadata": {},
     "output_type": "execute_result"
    }
   ],
   "source": [
    "data['items'][0]"
   ]
  },
  {
   "cell_type": "markdown",
   "metadata": {},
   "source": [
    "Сколько всего найдено вакансий"
   ]
  },
  {
   "cell_type": "code",
   "execution_count": 5,
   "metadata": {
    "ExecuteTime": {
     "end_time": "2022-03-06T09:57:54.128525Z",
     "start_time": "2022-03-06T09:57:54.120940Z"
    }
   },
   "outputs": [
    {
     "data": {
      "text/plain": [
       "278"
      ]
     },
     "execution_count": 5,
     "metadata": {},
     "output_type": "execute_result"
    }
   ],
   "source": [
    "data['found']"
   ]
  },
  {
   "cell_type": "markdown",
   "metadata": {},
   "source": [
    "Количество страниц в результатах поиска"
   ]
  },
  {
   "cell_type": "code",
   "execution_count": 6,
   "metadata": {
    "ExecuteTime": {
     "end_time": "2022-03-06T09:57:54.862967Z",
     "start_time": "2022-03-06T09:57:54.855949Z"
    }
   },
   "outputs": [
    {
     "data": {
      "text/plain": [
       "28"
      ]
     },
     "execution_count": 6,
     "metadata": {},
     "output_type": "execute_result"
    }
   ],
   "source": [
    "data['pages']"
   ]
  },
  {
   "cell_type": "markdown",
   "metadata": {},
   "source": [
    "Из результатов можем сделать удобную таблицу, причем в дальнейшем можно оставить только те колонки, которые необходимы для анализа."
   ]
  },
  {
   "cell_type": "code",
   "execution_count": 7,
   "metadata": {
    "ExecuteTime": {
     "end_time": "2022-03-06T09:57:56.421084Z",
     "start_time": "2022-03-06T09:57:56.378504Z"
    }
   },
   "outputs": [
    {
     "data": {
      "text/html": [
       "<div>\n",
       "<style scoped>\n",
       "    .dataframe tbody tr th:only-of-type {\n",
       "        vertical-align: middle;\n",
       "    }\n",
       "\n",
       "    .dataframe tbody tr th {\n",
       "        vertical-align: top;\n",
       "    }\n",
       "\n",
       "    .dataframe thead th {\n",
       "        text-align: right;\n",
       "    }\n",
       "</style>\n",
       "<table border=\"1\" class=\"dataframe\">\n",
       "  <thead>\n",
       "    <tr style=\"text-align: right;\">\n",
       "      <th></th>\n",
       "      <th>id</th>\n",
       "      <th>premium</th>\n",
       "      <th>name</th>\n",
       "      <th>department</th>\n",
       "      <th>has_test</th>\n",
       "      <th>response_letter_required</th>\n",
       "      <th>address</th>\n",
       "      <th>response_url</th>\n",
       "      <th>sort_point_distance</th>\n",
       "      <th>published_at</th>\n",
       "      <th>...</th>\n",
       "      <th>address.raw</th>\n",
       "      <th>address.metro.station_name</th>\n",
       "      <th>address.metro.line_name</th>\n",
       "      <th>address.metro.station_id</th>\n",
       "      <th>address.metro.line_id</th>\n",
       "      <th>address.metro.lat</th>\n",
       "      <th>address.metro.lng</th>\n",
       "      <th>address.metro_stations</th>\n",
       "      <th>address.id</th>\n",
       "      <th>address.metro</th>\n",
       "    </tr>\n",
       "  </thead>\n",
       "  <tbody>\n",
       "    <tr>\n",
       "      <th>0</th>\n",
       "      <td>49423067</td>\n",
       "      <td>False</td>\n",
       "      <td>Data Scientist</td>\n",
       "      <td>NaN</td>\n",
       "      <td>False</td>\n",
       "      <td>False</td>\n",
       "      <td>NaN</td>\n",
       "      <td>None</td>\n",
       "      <td>None</td>\n",
       "      <td>2022-03-17T12:37:57+0300</td>\n",
       "      <td>...</td>\n",
       "      <td>NaN</td>\n",
       "      <td>NaN</td>\n",
       "      <td>NaN</td>\n",
       "      <td>NaN</td>\n",
       "      <td>NaN</td>\n",
       "      <td>NaN</td>\n",
       "      <td>NaN</td>\n",
       "      <td>NaN</td>\n",
       "      <td>NaN</td>\n",
       "      <td>NaN</td>\n",
       "    </tr>\n",
       "    <tr>\n",
       "      <th>1</th>\n",
       "      <td>53929493</td>\n",
       "      <td>True</td>\n",
       "      <td>Data Scientist (CV+NLP)</td>\n",
       "      <td>NaN</td>\n",
       "      <td>False</td>\n",
       "      <td>False</td>\n",
       "      <td>NaN</td>\n",
       "      <td>None</td>\n",
       "      <td>None</td>\n",
       "      <td>2022-03-16T12:35:21+0300</td>\n",
       "      <td>...</td>\n",
       "      <td>NaN</td>\n",
       "      <td>NaN</td>\n",
       "      <td>NaN</td>\n",
       "      <td>NaN</td>\n",
       "      <td>NaN</td>\n",
       "      <td>NaN</td>\n",
       "      <td>NaN</td>\n",
       "      <td>NaN</td>\n",
       "      <td>NaN</td>\n",
       "      <td>NaN</td>\n",
       "    </tr>\n",
       "    <tr>\n",
       "      <th>2</th>\n",
       "      <td>53947371</td>\n",
       "      <td>True</td>\n",
       "      <td>Data Scientist (Корпоративный бизнес)</td>\n",
       "      <td>NaN</td>\n",
       "      <td>False</td>\n",
       "      <td>False</td>\n",
       "      <td>NaN</td>\n",
       "      <td>None</td>\n",
       "      <td>None</td>\n",
       "      <td>2022-03-16T17:25:13+0300</td>\n",
       "      <td>...</td>\n",
       "      <td>Москва, Кутузовский проспект, 32к1</td>\n",
       "      <td>Кутузовская</td>\n",
       "      <td>Филевская</td>\n",
       "      <td>4.73</td>\n",
       "      <td>4</td>\n",
       "      <td>55.740544</td>\n",
       "      <td>37.534100</td>\n",
       "      <td>[{'station_name': 'Кутузовская', 'line_name': ...</td>\n",
       "      <td>731097</td>\n",
       "      <td>NaN</td>\n",
       "    </tr>\n",
       "    <tr>\n",
       "      <th>3</th>\n",
       "      <td>53211742</td>\n",
       "      <td>False</td>\n",
       "      <td>Junior Data scientist/ Младший риск-аналитик</td>\n",
       "      <td>NaN</td>\n",
       "      <td>False</td>\n",
       "      <td>True</td>\n",
       "      <td>NaN</td>\n",
       "      <td>None</td>\n",
       "      <td>None</td>\n",
       "      <td>2022-03-16T11:16:44+0300</td>\n",
       "      <td>...</td>\n",
       "      <td>Москва, улица 8 Марта, 1с12</td>\n",
       "      <td>Динамо</td>\n",
       "      <td>Замоскворецкая</td>\n",
       "      <td>2.34</td>\n",
       "      <td>2</td>\n",
       "      <td>55.789704</td>\n",
       "      <td>37.558212</td>\n",
       "      <td>[{'station_name': 'Динамо', 'line_name': 'Замо...</td>\n",
       "      <td>1551673</td>\n",
       "      <td>NaN</td>\n",
       "    </tr>\n",
       "    <tr>\n",
       "      <th>4</th>\n",
       "      <td>53809111</td>\n",
       "      <td>False</td>\n",
       "      <td>Data scientist / Product analyst</td>\n",
       "      <td>NaN</td>\n",
       "      <td>False</td>\n",
       "      <td>False</td>\n",
       "      <td>NaN</td>\n",
       "      <td>None</td>\n",
       "      <td>None</td>\n",
       "      <td>2022-03-17T11:45:23+0300</td>\n",
       "      <td>...</td>\n",
       "      <td>Москва, Нижняя Красносельская улица, 35с9</td>\n",
       "      <td>Бауманская</td>\n",
       "      <td>Арбатско-Покровская</td>\n",
       "      <td>3.17</td>\n",
       "      <td>3</td>\n",
       "      <td>55.772405</td>\n",
       "      <td>37.679040</td>\n",
       "      <td>[{'station_name': 'Бауманская', 'line_name': '...</td>\n",
       "      <td>743543</td>\n",
       "      <td>NaN</td>\n",
       "    </tr>\n",
       "  </tbody>\n",
       "</table>\n",
       "<p>5 rows × 63 columns</p>\n",
       "</div>"
      ],
      "text/plain": [
       "         id  premium                                          name  \\\n",
       "0  49423067    False                                Data Scientist   \n",
       "1  53929493     True                       Data Scientist (CV+NLP)   \n",
       "2  53947371     True         Data Scientist (Корпоративный бизнес)   \n",
       "3  53211742    False  Junior Data scientist/ Младший риск-аналитик   \n",
       "4  53809111    False              Data scientist / Product analyst   \n",
       "\n",
       "   department  has_test  response_letter_required  address response_url  \\\n",
       "0         NaN     False                     False      NaN         None   \n",
       "1         NaN     False                     False      NaN         None   \n",
       "2         NaN     False                     False      NaN         None   \n",
       "3         NaN     False                      True      NaN         None   \n",
       "4         NaN     False                     False      NaN         None   \n",
       "\n",
       "  sort_point_distance              published_at  ...  \\\n",
       "0                None  2022-03-17T12:37:57+0300  ...   \n",
       "1                None  2022-03-16T12:35:21+0300  ...   \n",
       "2                None  2022-03-16T17:25:13+0300  ...   \n",
       "3                None  2022-03-16T11:16:44+0300  ...   \n",
       "4                None  2022-03-17T11:45:23+0300  ...   \n",
       "\n",
       "                                 address.raw  address.metro.station_name  \\\n",
       "0                                        NaN                         NaN   \n",
       "1                                        NaN                         NaN   \n",
       "2         Москва, Кутузовский проспект, 32к1                 Кутузовская   \n",
       "3                Москва, улица 8 Марта, 1с12                      Динамо   \n",
       "4  Москва, Нижняя Красносельская улица, 35с9                  Бауманская   \n",
       "\n",
       "  address.metro.line_name address.metro.station_id address.metro.line_id  \\\n",
       "0                     NaN                      NaN                   NaN   \n",
       "1                     NaN                      NaN                   NaN   \n",
       "2               Филевская                     4.73                     4   \n",
       "3          Замоскворецкая                     2.34                     2   \n",
       "4     Арбатско-Покровская                     3.17                     3   \n",
       "\n",
       "  address.metro.lat address.metro.lng  \\\n",
       "0               NaN               NaN   \n",
       "1               NaN               NaN   \n",
       "2         55.740544         37.534100   \n",
       "3         55.789704         37.558212   \n",
       "4         55.772405         37.679040   \n",
       "\n",
       "                              address.metro_stations address.id address.metro  \n",
       "0                                                NaN        NaN           NaN  \n",
       "1                                                NaN        NaN           NaN  \n",
       "2  [{'station_name': 'Кутузовская', 'line_name': ...     731097           NaN  \n",
       "3  [{'station_name': 'Динамо', 'line_name': 'Замо...    1551673           NaN  \n",
       "4  [{'station_name': 'Бауманская', 'line_name': '...     743543           NaN  \n",
       "\n",
       "[5 rows x 63 columns]"
      ]
     },
     "execution_count": 7,
     "metadata": {},
     "output_type": "execute_result"
    }
   ],
   "source": [
    "df = pd.json_normalize(data['items'])\n",
    "df.head()"
   ]
  },
  {
   "cell_type": "markdown",
   "metadata": {},
   "source": [
    "Для получения полного описания вакансии потребуется задать отдельный запрос, используя ее `id`."
   ]
  },
  {
   "cell_type": "code",
   "execution_count": 8,
   "metadata": {
    "ExecuteTime": {
     "end_time": "2022-03-06T09:57:57.923782Z",
     "start_time": "2022-03-06T09:57:57.799786Z"
    }
   },
   "outputs": [],
   "source": [
    "vacancy = df['id'].iloc[0]\n",
    "vacancy_url = f'https://api.hh.ru/vacancies/{vacancy}'\n",
    "\n",
    "req = requests.get(vacancy_url)\n",
    "vacancy_info = json.loads(req.content.decode())"
   ]
  },
  {
   "cell_type": "code",
   "execution_count": 9,
   "metadata": {
    "ExecuteTime": {
     "end_time": "2022-03-06T09:57:58.301695Z",
     "start_time": "2022-03-06T09:57:58.278420Z"
    }
   },
   "outputs": [
    {
     "data": {
      "text/plain": [
       "{'id': '49423067',\n",
       " 'premium': False,\n",
       " 'billing_type': {'id': 'standard_plus', 'name': 'Стандарт плюс'},\n",
       " 'relations': [],\n",
       " 'name': 'Data Scientist',\n",
       " 'insider_interview': None,\n",
       " 'response_letter_required': False,\n",
       " 'area': {'id': '1', 'name': 'Москва', 'url': 'https://api.hh.ru/areas/1'},\n",
       " 'salary': {'from': None, 'to': 390000, 'currency': 'RUR', 'gross': False},\n",
       " 'type': {'id': 'open', 'name': 'Открытая'},\n",
       " 'address': None,\n",
       " 'allow_messages': True,\n",
       " 'site': {'id': 'hh', 'name': 'hh.ru'},\n",
       " 'experience': {'id': 'between3And6', 'name': 'От 3 до 6 лет'},\n",
       " 'schedule': {'id': 'fullDay', 'name': 'Полный день'},\n",
       " 'employment': {'id': 'full', 'name': 'Полная занятость'},\n",
       " 'department': None,\n",
       " 'contacts': None,\n",
       " 'description': '<p>Ищем специалиста по Data Science, чтобы строить и улучшать модели машинного обучения, которые помогут усовершенствовать наш продукт и внутренние процессы. Мы стремимся к тому, чтобы мы стали быстрее и удобнее для клиентов. И в этом нам нужна твоя помощь.</p> <p><strong>Что нужно делать</strong></p> <p>Придумывать и проверять гипотезы, которые позволят построить новые скоринговые модели и улучшить текущие. В результате они должны определять благонадёжность компаний по данным о бизнесе.</p> <p>Ты будешь доставать данные из баз и других источников, приводить их к нужному виду, анализировать и затем строить модели. Тебе предстоит планировать и ставить эксперименты, анализировать результаты и их статистическую значимость. Использовать feature engineering, model selection и fine tuning.</p> <p><strong>Ты подойдешь, если</strong></p> <ul> <li> <p>Знаешь Python, умеешь обрабатывать данные с помощью pandas, NumPy, Plotly.</p> </li> <li> <p>У тебя есть опыт работы с SQL.</p> </li> <li> <p>Есть опыт работы с методами машинного обучения и основными инструментами data science: Scikit-learn, XGBoost, CatBoost и т.п.</p> </li> <li> <p>Разбираешься в математической статистике, теории вероятностей и знаешь, как проводить A/B тестирования.</p> </li> </ul> <p><strong>Будет плюсом, если</strong></p> <ul> <li> <p>Ты понимаешь принципы работы нейросетей и уже имеешь опыт с одним или несколькими фреймворками для глубокого обучения: TensorFlow или PyTorch.</p> </li> <li> <p>Умеешь вводить модели машинного обучения в работу production.</p> </li> </ul> <p><strong>Что будет твоим в Точке</strong></p> <ul> <li> <p>Зарплата от 100 000 ₽. Расскажи на собеседовании, какая зарплата будет комфортной для тебя. А мы определим твой грейд по хард и софт скиллам и назовём точную сумму.</p> </li> <li> <p>Официальное трудоустройство и бесплатная страховка здоровья даже за границей.</p> </li> <li> <p>Удобный график: гибкое начало и окончание рабочего дня.</p> </li> <li> <p>Современный и уютный офис со спортзалом и библиотекой, кофе-поинтами, кухнями и зонами отдыха.</p> </li> <li> <p>Гибкие методы управления: мы используем Agile и SCRUM, чтобы каждый день создавать новое и быстро реагировать на изменения.</p> </li> <li> <p>Бесплатное корпоративное обучение: мы ездим на IT-конференции, собираемся на митапы, раздаем призы на хакатонах и проходим курсы за счёт компании.</p> </li> <li> <p>Возможность принимать решения без тысячи согласований и предлагать идеи: от простых до самых амбициозных.</p> </li> </ul> <p>И всё это в комфортных условиях без бюрократии, дресс-кода и начальников.</p>',\n",
       " 'branded_description': '\\n<style>\\n.tmpl_hh_wrapper p,\\n.tmpl_hh_wrapper a,\\n.tmpl_hh_wrapper img,\\n.tmpl_hh_wrapper ol,\\n.tmpl_hh_wrapper ul,\\n.tmpl_hh_wrapper li {\\n    margin: 0;\\n    padding: 0;\\n    border: 0;\\n    font-size: 100%;\\n    font: inherit;\\n    vertical-align: baseline;\\n}\\n\\n.hht-vacancydescription {\\n    padding: 0px;\\n}\\n\\n.tmpl_hh_wrapper .l-cell,\\n.tmpl_hh_wrapper .l-paddings {\\n    padding: 0px !important;\\n}\\n\\n.tmpl_hh_wrapper .b-vacancy-desc-wrapper {\\n    margin-top: 0px !important;    \\n}\\n\\n.tmpl_hh_wrapper .b-vacancy-desc {\\n    overflow: visible !important;\\n    line-height: inherit;\\n}\\n\\n.tmpl_hh_content ol li b,\\n.tmpl_hh_content ol li strong,\\n.tmpl_hh_content ol li p b,\\n.tmpl_hh_content ol li p strong,\\n.tmpl_hh_content ul li b,\\n.tmpl_hh_content ul li strong,\\n.tmpl_hh_content ul li p b,\\n.tmpl_hh_content ul li p strong {\\n    font-weight: normal;\\n    font-size: inherit !important;\\n    color: inherit !important;\\n    margin: 0 !important;\\n    text-transform: none;\\n    line-height: inherit;\\n}\\n\\n.tmpl_hh_content ol li p,\\n.tmpl_hh_content ul li p {\\n    font-weight: normal;\\n    margin: 0;\\n}\\n\\n.tmpl_hh_content p b,\\n.tmpl_hh_content p strong {\\n    margin: 0 0 0;\\n    padding: 28px 0 8px;\\n}\\n\\n.tmpl_hh_wrapper {\\n    width: 100%;\\n    margin: 0 auto;\\n    max-width: 690px;\\n    position: relative;\\n    word-break: normal;\\n    color: #333333;\\n    overflow: hidden;\\n    font-family: \\'Verdana\\', sans-serif;\\n    font-size: 14px;\\n    line-height: 20px;\\n    -webkit-font-smoothing: antialiased;\\n}\\n\\n.tmpl_hh_wrapper img {\\n    width: 100%;\\n    display: block;\\n}\\n\\n.tmpl_hh_content {\\n    padding: 41px 40px 34px;\\n    position: relative;\\n    z-index: 1;\\n}\\n\\n.tmpl_hh_content p:first-child,\\n.tmpl_hh_content>strong:first-child,\\n.tmpl_hh_content div>strong:first-child {\\n    margin-top: 0 !important;\\n}\\n\\n.tmpl_hh_content p,\\n.tmpl_hh_content b,\\n.tmpl_hh_content strong {\\n   margin: 12px 0 12px;\\n}\\n\\n.tmpl_hh_content b, \\n.tmpl_hh_content strong {\\n    display: inline-block;\\n    font-weight: bold;\\n    font-size: 24px;\\n    line-height: 32px;\\n}\\n\\n.tmpl_hh_content ol,\\n.tmpl_hh_content ul {\\n    margin-left: 15px;\\n    list-style: none !important;\\n}\\n\\n.tmpl_hh_content ol {\\n    counter-reset: list_counter;\\n}\\n\\n.tmpl_hh_content li {\\n    position: relative;\\n    margin-bottom: 12px;\\n}\\n\\n.tmpl_hh_content ul ul,\\n.tmpl_hh_content ul ol,\\n.tmpl_hh_content ol ol,\\n.tmpl_hh_content ol ul {\\n    margin-top: 12px;\\n}\\n\\n.tmpl_hh_content ol>li {\\n    counter-increment: list_counter;    \\n}\\n\\n.tmpl_hh_content li:before {\\n    position: absolute;\\n    left: -15px;\\n    top: 0;\\n}\\n\\n.tmpl_hh_content ul>li:before {\\n    content: \"\";\\n    height: 5px;\\n    width: 5px;\\n    background: #333333;\\n    opacity: 0.45;\\n    border-radius: 50%;\\n    top: 7px;\\n}\\n\\n.tmpl_hh_content ol>li:before {\\n    content: counter(list_counter)\\'.\\';\\n    left: auto;\\n    right: 100%;\\n    margin-right: 2px;\\n}\\n\\n.tmpl_hh_header {\\n    padding: 6.5% 40px 0;\\n    background: url(https://hhcdn.ru/ichameleon/152526.png) 0 0 no-repeat;\\n    background-size: 21% auto;\\n}\\n\\n.tmpl_hh_header_logo {\\n    position: relative;\\n    width: 28.6%;\\n}\\n\\n.tmpl_hh_footer {\\n    position: relative;\\n    background: url(https://hhcdn.ru/ichameleon/152638.jpg);\\n    height: 0;\\n    padding-bottom: 56.4%;\\n    background-size: 100%;\\n    background-repeat: no-repeat;\\n}\\n\\np.tmpl_hh_foonote {\\n    position: absolute;\\n    bottom: 10px;\\n    left: 4.6%;\\n    font-size: 9px;\\n    line-height: 9px;\\n    z-index: 1;\\n}\\n\\n@media (max-width: 699px) {\\n    .tmpl_hh_content p b, .tmpl_hh_content p strong {\\n        padding: 18px 0 3px;\\n    }\\n\\n    .tmpl_hh_content b, .tmpl_hh_content strong {\\n        font-size: 20px;\\n        line-height: 28px;\\n    }\\n\\n    .tmpl_hh_header {\\n        padding: 12.9% 0 0% 0%;\\n        background: url(https://hhcdn.ru/ichameleon/152842.png) 0 0 no-repeat;\\n        background-size: 26% auto;\\n    }\\n\\n    .tmpl_hh_header_logo {\\n        width: 50.2%; \\n    }\\n\\n    .tmpl_hh_content {\\n        padding: 43px 0% 0px;\\n    }\\n\\n    .tmpl_hh_footer {\\n        background: url(https://hhcdn.ru/ichameleon/152640.jpg);\\n        padding-bottom: 129.4%;\\n        background-size: 106%;\\n        background-repeat: no-repeat;\\n        margin-top: -4%;\\n    }\\n\\n    p.tmpl_hh_foonote {\\n        position: relative;\\n        top: 0;\\n        left: 0;\\n        margin-top: 2%;\\n    }\\n}\\n</style>\\n\\n\\n<div class=\"tmpl_hh_wrapper\">\\n        <div class=\"tmpl_hh_header\">\\n            <div class=\"tmpl_hh_header_logo\"><img src=\"https://hhcdn.ru/ichameleon/152525.svg\" alt=\"\"></div>\\n        </div>\\n        <div class=\"tmpl_hh_content\">\\n            <p>Ищем специалиста по Data Science, чтобы строить и улучшать модели машинного обучения, которые помогут усовершенствовать наш продукт и внутренние процессы. Мы стремимся к тому, чтобы мы стали быстрее и удобнее для клиентов. И в этом нам нужна твоя помощь.</p> <p><strong>Что нужно делать</strong></p> <p>Придумывать и проверять гипотезы, которые позволят построить новые скоринговые модели и улучшить текущие. В результате они должны определять благонадёжность компаний по данным о бизнесе.</p> <p>Ты будешь доставать данные из баз и других источников, приводить их к нужному виду, анализировать и затем строить модели. Тебе предстоит планировать и ставить эксперименты, анализировать результаты и их статистическую значимость. Использовать feature engineering, model selection и fine tuning.</p> <p><strong>Ты подойдешь, если</strong></p> <ul> <li> <p>Знаешь Python, умеешь обрабатывать данные с помощью pandas, NumPy, Plotly.</p> </li> <li> <p>У тебя есть опыт работы с SQL.</p> </li> <li> <p>Есть опыт работы с методами машинного обучения и основными инструментами data science: Scikit-learn, XGBoost, CatBoost и т.п.</p> </li> <li> <p>Разбираешься в математической статистике, теории вероятностей и знаешь, как проводить A/B тестирования.</p> </li> </ul> <p><strong>Будет плюсом, если</strong></p> <ul> <li> <p>Ты понимаешь принципы работы нейросетей и уже имеешь опыт с одним или несколькими фреймворками для глубокого обучения: TensorFlow или PyTorch.</p> </li> <li> <p>Умеешь вводить модели машинного обучения в работу production.</p> </li> </ul> <p><strong>Что будет твоим в Точке</strong></p> <ul> <li> <p>Зарплата от 100 000 ₽. Расскажи на собеседовании, какая зарплата будет комфортной для тебя. А мы определим твой грейд по хард и софт скиллам и назовём точную сумму.</p> </li> <li> <p>Официальное трудоустройство и бесплатная страховка здоровья даже за границей.</p> </li> <li> <p>Удобный график: гибкое начало и окончание рабочего дня.</p> </li> <li> <p>Современный и уютный офис со спортзалом и библиотекой, кофе-поинтами, кухнями и зонами отдыха.</p> </li> <li> <p>Гибкие методы управления: мы используем Agile и SCRUM, чтобы каждый день создавать новое и быстро реагировать на изменения.</p> </li> <li> <p>Бесплатное корпоративное обучение: мы ездим на IT-конференции, собираемся на митапы, раздаем призы на хакатонах и проходим курсы за счёт компании.</p> </li> <li> <p>Возможность принимать решения без тысячи согласований и предлагать идеи: от простых до самых амбициозных.</p> </li> </ul> <p>И всё это в комфортных условиях без бюрократии, дресс-кода и начальников.</p></div>\\n        <div class=\"tmpl_hh_footer\"></div>\\n        <p class=\"tmpl_hh_foonote\">АО\\xa0«Точка»</p>\\n    </div>\\n',\n",
       " 'vacancy_constructor_template': None,\n",
       " 'key_skills': [{'name': 'аналитика'},\n",
       "  {'name': 'SQL'},\n",
       "  {'name': 'Python'},\n",
       "  {'name': 'Информационные технологии'},\n",
       "  {'name': 'Работа с базами данных'},\n",
       "  {'name': 'Математический анализ'},\n",
       "  {'name': 'NumPy'},\n",
       "  {'name': 'Математическая статистика'},\n",
       "  {'name': 'XGBoost'}],\n",
       " 'accept_handicapped': False,\n",
       " 'accept_kids': False,\n",
       " 'archived': False,\n",
       " 'response_url': None,\n",
       " 'specializations': [{'id': '17.751',\n",
       "   'name': 'Другое',\n",
       "   'profarea_id': '17',\n",
       "   'profarea_name': 'Продажи'},\n",
       "  {'id': '1.25',\n",
       "   'name': 'Аналитик',\n",
       "   'profarea_id': '1',\n",
       "   'profarea_name': 'Информационные технологии, интернет, телеком'},\n",
       "  {'id': '3.26',\n",
       "   'name': 'Аналитик',\n",
       "   'profarea_id': '3',\n",
       "   'profarea_name': 'Маркетинг, реклама, PR'},\n",
       "  {'id': '12.746',\n",
       "   'name': 'Другое',\n",
       "   'profarea_id': '12',\n",
       "   'profarea_name': 'Консультирование'}],\n",
       " 'professional_roles': [{'id': '10', 'name': 'Аналитик'}],\n",
       " 'code': None,\n",
       " 'hidden': False,\n",
       " 'quick_responses_allowed': False,\n",
       " 'driver_license_types': [],\n",
       " 'accept_incomplete_resumes': False,\n",
       " 'employer': {'id': '2324020',\n",
       "  'name': 'Точка',\n",
       "  'url': 'https://api.hh.ru/employers/2324020',\n",
       "  'alternate_url': 'https://hh.ru/employer/2324020',\n",
       "  'logo_urls': {'240': 'https://hhcdn.ru/employer-logo/3414734.jpeg',\n",
       "   '90': 'https://hhcdn.ru/employer-logo/3414733.jpeg',\n",
       "   'original': 'https://hhcdn.ru/employer-logo-original/743443.jpg'},\n",
       "  'vacancies_url': 'https://api.hh.ru/vacancies?employer_id=2324020',\n",
       "  'trusted': True},\n",
       " 'published_at': '2022-03-17T12:37:57+0300',\n",
       " 'created_at': '2022-03-17T12:37:57+0300',\n",
       " 'negotiations_url': None,\n",
       " 'suitable_resumes_url': None,\n",
       " 'apply_alternate_url': 'https://hh.ru/applicant/vacancy_response?vacancyId=49423067',\n",
       " 'has_test': False,\n",
       " 'test': None,\n",
       " 'alternate_url': 'https://hh.ru/vacancy/49423067',\n",
       " 'working_days': [],\n",
       " 'working_time_intervals': [],\n",
       " 'working_time_modes': [],\n",
       " 'accept_temporary': False}"
      ]
     },
     "execution_count": 9,
     "metadata": {},
     "output_type": "execute_result"
    }
   ],
   "source": [
    "vacancy_info"
   ]
  },
  {
   "cell_type": "markdown",
   "metadata": {},
   "source": [
    "### <font color=\"blue\"><i>Легкая часть</i></font>"
   ]
  },
  {
   "cell_type": "markdown",
   "metadata": {},
   "source": [
    " ---\n",
    "### Задача 1.   \n",
    "\n",
    "Исследуем профессию Data Scientist. Найдите как можно больше вакансий по этой профессии в Москве. Учтите, что имеет смысл искать также по другим ключевым словам, например `аналитик данных`."
   ]
  },
  {
   "cell_type": "code",
   "execution_count": 10,
   "metadata": {},
   "outputs": [],
   "source": [
    "import time\n",
    "URL = 'https://api.hh.ru/vacancies'\n",
    "data_list = []\n",
    "for job in [\"Data Scientist\",\"Data analyst\", \"Аналитик данных\", \"Специалист по данным\"]:\n",
    "    for page in range(0, 20):\n",
    "        params = {\n",
    "            'text': job,\n",
    "            'area': 1,\n",
    "            'page': page,\n",
    "            'per_page': 100\n",
    "        }\n",
    "\n",
    "        req = requests.get(URL, params)\n",
    "        data = json.loads(req.content.decode())\n",
    "        data_list.append(data)\n",
    "    time.sleep(1)\n",
    "df = pd.DataFrame(data=data_list[0]['items'])\n",
    "for item in data_list[1:]:\n",
    "    df_tmp = pd.DataFrame(data=item['items'])\n",
    "    df = df.append(df_tmp)"
   ]
  },
  {
   "cell_type": "markdown",
   "metadata": {},
   "source": [
    "В полученную выборку некоторые вакансии могли попасть несколько раз. Удалите дубликаты."
   ]
  },
  {
   "cell_type": "code",
   "execution_count": 11,
   "metadata": {},
   "outputs": [
    {
     "data": {
      "text/html": [
       "<div>\n",
       "<style scoped>\n",
       "    .dataframe tbody tr th:only-of-type {\n",
       "        vertical-align: middle;\n",
       "    }\n",
       "\n",
       "    .dataframe tbody tr th {\n",
       "        vertical-align: top;\n",
       "    }\n",
       "\n",
       "    .dataframe thead th {\n",
       "        text-align: right;\n",
       "    }\n",
       "</style>\n",
       "<table border=\"1\" class=\"dataframe\">\n",
       "  <thead>\n",
       "    <tr style=\"text-align: right;\">\n",
       "      <th></th>\n",
       "      <th>id</th>\n",
       "      <th>premium</th>\n",
       "      <th>name</th>\n",
       "      <th>department</th>\n",
       "      <th>has_test</th>\n",
       "      <th>response_letter_required</th>\n",
       "      <th>area</th>\n",
       "      <th>salary</th>\n",
       "      <th>type</th>\n",
       "      <th>address</th>\n",
       "      <th>...</th>\n",
       "      <th>alternate_url</th>\n",
       "      <th>relations</th>\n",
       "      <th>employer</th>\n",
       "      <th>snippet</th>\n",
       "      <th>contacts</th>\n",
       "      <th>schedule</th>\n",
       "      <th>working_days</th>\n",
       "      <th>working_time_intervals</th>\n",
       "      <th>working_time_modes</th>\n",
       "      <th>accept_temporary</th>\n",
       "    </tr>\n",
       "  </thead>\n",
       "  <tbody>\n",
       "    <tr>\n",
       "      <th>0</th>\n",
       "      <td>49423067</td>\n",
       "      <td>False</td>\n",
       "      <td>Data Scientist</td>\n",
       "      <td>None</td>\n",
       "      <td>False</td>\n",
       "      <td>False</td>\n",
       "      <td>{'id': '1', 'name': 'Москва', 'url': 'https://...</td>\n",
       "      <td>{'from': None, 'to': 390000, 'currency': 'RUR'...</td>\n",
       "      <td>{'id': 'open', 'name': 'Открытая'}</td>\n",
       "      <td>None</td>\n",
       "      <td>...</td>\n",
       "      <td>https://hh.ru/vacancy/49423067</td>\n",
       "      <td>[]</td>\n",
       "      <td>{'id': '2324020', 'name': 'Точка', 'url': 'htt...</td>\n",
       "      <td>{'requirement': 'Есть опыт работы с методами м...</td>\n",
       "      <td>None</td>\n",
       "      <td>{'id': 'fullDay', 'name': 'Полный день'}</td>\n",
       "      <td>[]</td>\n",
       "      <td>[]</td>\n",
       "      <td>[]</td>\n",
       "      <td>False</td>\n",
       "    </tr>\n",
       "    <tr>\n",
       "      <th>1</th>\n",
       "      <td>53929493</td>\n",
       "      <td>True</td>\n",
       "      <td>Data Scientist (CV+NLP)</td>\n",
       "      <td>{'id': '3529-3529-prof', 'name': 'Сбер для экс...</td>\n",
       "      <td>False</td>\n",
       "      <td>False</td>\n",
       "      <td>{'id': '1', 'name': 'Москва', 'url': 'https://...</td>\n",
       "      <td>None</td>\n",
       "      <td>{'id': 'open', 'name': 'Открытая'}</td>\n",
       "      <td>None</td>\n",
       "      <td>...</td>\n",
       "      <td>https://hh.ru/vacancy/53929493</td>\n",
       "      <td>[]</td>\n",
       "      <td>{'id': '3529', 'name': 'Сбербанк', 'url': 'htt...</td>\n",
       "      <td>{'requirement': 'Высшее техническое/математиче...</td>\n",
       "      <td>None</td>\n",
       "      <td>{'id': 'fullDay', 'name': 'Полный день'}</td>\n",
       "      <td>[]</td>\n",
       "      <td>[]</td>\n",
       "      <td>[]</td>\n",
       "      <td>False</td>\n",
       "    </tr>\n",
       "    <tr>\n",
       "      <th>2</th>\n",
       "      <td>53947371</td>\n",
       "      <td>True</td>\n",
       "      <td>Data Scientist (Корпоративный бизнес)</td>\n",
       "      <td>{'id': '3529-3529-data', 'name': 'Сбер. Data S...</td>\n",
       "      <td>False</td>\n",
       "      <td>False</td>\n",
       "      <td>{'id': '1', 'name': 'Москва', 'url': 'https://...</td>\n",
       "      <td>None</td>\n",
       "      <td>{'id': 'open', 'name': 'Открытая'}</td>\n",
       "      <td>{'city': 'Москва', 'street': 'Кутузовский прос...</td>\n",
       "      <td>...</td>\n",
       "      <td>https://hh.ru/vacancy/53947371</td>\n",
       "      <td>[]</td>\n",
       "      <td>{'id': '3529', 'name': 'Сбербанк', 'url': 'htt...</td>\n",
       "      <td>{'requirement': 'Диплом в области компьютерных...</td>\n",
       "      <td>None</td>\n",
       "      <td>{'id': 'fullDay', 'name': 'Полный день'}</td>\n",
       "      <td>[]</td>\n",
       "      <td>[]</td>\n",
       "      <td>[]</td>\n",
       "      <td>False</td>\n",
       "    </tr>\n",
       "    <tr>\n",
       "      <th>3</th>\n",
       "      <td>53211742</td>\n",
       "      <td>False</td>\n",
       "      <td>Junior Data scientist/ Младший риск-аналитик</td>\n",
       "      <td>None</td>\n",
       "      <td>False</td>\n",
       "      <td>True</td>\n",
       "      <td>{'id': '1', 'name': 'Москва', 'url': 'https://...</td>\n",
       "      <td>None</td>\n",
       "      <td>{'id': 'open', 'name': 'Открытая'}</td>\n",
       "      <td>{'city': 'Москва', 'street': 'улица 8 Марта', ...</td>\n",
       "      <td>...</td>\n",
       "      <td>https://hh.ru/vacancy/53211742</td>\n",
       "      <td>[]</td>\n",
       "      <td>{'id': '1039977', 'name': 'Pay P.S.', 'url': '...</td>\n",
       "      <td>{'requirement': 'Умение работать в команде, от...</td>\n",
       "      <td>None</td>\n",
       "      <td>{'id': 'fullDay', 'name': 'Полный день'}</td>\n",
       "      <td>[]</td>\n",
       "      <td>[]</td>\n",
       "      <td>[]</td>\n",
       "      <td>False</td>\n",
       "    </tr>\n",
       "    <tr>\n",
       "      <th>4</th>\n",
       "      <td>53809111</td>\n",
       "      <td>False</td>\n",
       "      <td>Data scientist / Product analyst</td>\n",
       "      <td>None</td>\n",
       "      <td>False</td>\n",
       "      <td>False</td>\n",
       "      <td>{'id': '1', 'name': 'Москва', 'url': 'https://...</td>\n",
       "      <td>{'from': 200000, 'to': 250000, 'currency': 'RU...</td>\n",
       "      <td>{'id': 'open', 'name': 'Открытая'}</td>\n",
       "      <td>{'city': 'Москва', 'street': 'Нижняя Красносел...</td>\n",
       "      <td>...</td>\n",
       "      <td>https://hh.ru/vacancy/53809111</td>\n",
       "      <td>[]</td>\n",
       "      <td>{'id': '2652595', 'name': 'Bip.ru', 'url': 'ht...</td>\n",
       "      <td>{'requirement': 'Опыт работы аналитиком/продук...</td>\n",
       "      <td>None</td>\n",
       "      <td>{'id': 'remote', 'name': 'Удаленная работа'}</td>\n",
       "      <td>[]</td>\n",
       "      <td>[]</td>\n",
       "      <td>[]</td>\n",
       "      <td>False</td>\n",
       "    </tr>\n",
       "  </tbody>\n",
       "</table>\n",
       "<p>5 rows × 28 columns</p>\n",
       "</div>"
      ],
      "text/plain": [
       "         id  premium                                          name  \\\n",
       "0  49423067    False                                Data Scientist   \n",
       "1  53929493     True                       Data Scientist (CV+NLP)   \n",
       "2  53947371     True         Data Scientist (Корпоративный бизнес)   \n",
       "3  53211742    False  Junior Data scientist/ Младший риск-аналитик   \n",
       "4  53809111    False              Data scientist / Product analyst   \n",
       "\n",
       "                                          department  has_test  \\\n",
       "0                                               None     False   \n",
       "1  {'id': '3529-3529-prof', 'name': 'Сбер для экс...     False   \n",
       "2  {'id': '3529-3529-data', 'name': 'Сбер. Data S...     False   \n",
       "3                                               None     False   \n",
       "4                                               None     False   \n",
       "\n",
       "   response_letter_required  \\\n",
       "0                     False   \n",
       "1                     False   \n",
       "2                     False   \n",
       "3                      True   \n",
       "4                     False   \n",
       "\n",
       "                                                area  \\\n",
       "0  {'id': '1', 'name': 'Москва', 'url': 'https://...   \n",
       "1  {'id': '1', 'name': 'Москва', 'url': 'https://...   \n",
       "2  {'id': '1', 'name': 'Москва', 'url': 'https://...   \n",
       "3  {'id': '1', 'name': 'Москва', 'url': 'https://...   \n",
       "4  {'id': '1', 'name': 'Москва', 'url': 'https://...   \n",
       "\n",
       "                                              salary  \\\n",
       "0  {'from': None, 'to': 390000, 'currency': 'RUR'...   \n",
       "1                                               None   \n",
       "2                                               None   \n",
       "3                                               None   \n",
       "4  {'from': 200000, 'to': 250000, 'currency': 'RU...   \n",
       "\n",
       "                                 type  \\\n",
       "0  {'id': 'open', 'name': 'Открытая'}   \n",
       "1  {'id': 'open', 'name': 'Открытая'}   \n",
       "2  {'id': 'open', 'name': 'Открытая'}   \n",
       "3  {'id': 'open', 'name': 'Открытая'}   \n",
       "4  {'id': 'open', 'name': 'Открытая'}   \n",
       "\n",
       "                                             address  ...  \\\n",
       "0                                               None  ...   \n",
       "1                                               None  ...   \n",
       "2  {'city': 'Москва', 'street': 'Кутузовский прос...  ...   \n",
       "3  {'city': 'Москва', 'street': 'улица 8 Марта', ...  ...   \n",
       "4  {'city': 'Москва', 'street': 'Нижняя Красносел...  ...   \n",
       "\n",
       "                    alternate_url relations  \\\n",
       "0  https://hh.ru/vacancy/49423067        []   \n",
       "1  https://hh.ru/vacancy/53929493        []   \n",
       "2  https://hh.ru/vacancy/53947371        []   \n",
       "3  https://hh.ru/vacancy/53211742        []   \n",
       "4  https://hh.ru/vacancy/53809111        []   \n",
       "\n",
       "                                            employer  \\\n",
       "0  {'id': '2324020', 'name': 'Точка', 'url': 'htt...   \n",
       "1  {'id': '3529', 'name': 'Сбербанк', 'url': 'htt...   \n",
       "2  {'id': '3529', 'name': 'Сбербанк', 'url': 'htt...   \n",
       "3  {'id': '1039977', 'name': 'Pay P.S.', 'url': '...   \n",
       "4  {'id': '2652595', 'name': 'Bip.ru', 'url': 'ht...   \n",
       "\n",
       "                                             snippet  contacts  \\\n",
       "0  {'requirement': 'Есть опыт работы с методами м...      None   \n",
       "1  {'requirement': 'Высшее техническое/математиче...      None   \n",
       "2  {'requirement': 'Диплом в области компьютерных...      None   \n",
       "3  {'requirement': 'Умение работать в команде, от...      None   \n",
       "4  {'requirement': 'Опыт работы аналитиком/продук...      None   \n",
       "\n",
       "                                       schedule working_days  \\\n",
       "0      {'id': 'fullDay', 'name': 'Полный день'}           []   \n",
       "1      {'id': 'fullDay', 'name': 'Полный день'}           []   \n",
       "2      {'id': 'fullDay', 'name': 'Полный день'}           []   \n",
       "3      {'id': 'fullDay', 'name': 'Полный день'}           []   \n",
       "4  {'id': 'remote', 'name': 'Удаленная работа'}           []   \n",
       "\n",
       "  working_time_intervals working_time_modes accept_temporary  \n",
       "0                     []                 []            False  \n",
       "1                     []                 []            False  \n",
       "2                     []                 []            False  \n",
       "3                     []                 []            False  \n",
       "4                     []                 []            False  \n",
       "\n",
       "[5 rows x 28 columns]"
      ]
     },
     "execution_count": 11,
     "metadata": {},
     "output_type": "execute_result"
    }
   ],
   "source": [
    "df_no_dup = df.drop_duplicates(subset=['id']).reset_index(drop=True)\n",
    "df_no_dup.head()"
   ]
  },
  {
   "cell_type": "markdown",
   "metadata": {},
   "source": [
    "Загрузите подробное описание каждой вакансии и создайте удобную таблицу данных."
   ]
  },
  {
   "cell_type": "code",
   "execution_count": 16,
   "metadata": {},
   "outputs": [
    {
     "name": "stdout",
     "output_type": "stream",
     "text": [
      "Read 100\n",
      "Read 100\n",
      "Read 100\n",
      "Read 100\n",
      "Read 100\n",
      "Read 100\n",
      "Read 100\n",
      "Read 100\n",
      "Read 100\n",
      "Read 100\n",
      "Read 100\n",
      "Read 100\n",
      "Read 100\n",
      "Read 100\n",
      "Read 100\n",
      "Read 100\n",
      "Read 100\n",
      "Read 100\n",
      "Read 100\n"
     ]
    }
   ],
   "source": [
    "vacancy = df_no_dup['id'].iloc[0]\n",
    "vacancy_url = f'https://api.hh.ru/vacancies/{vacancy}'\n",
    "req = requests.get(vacancy_url)\n",
    "vacancy_info = json.loads(req.content.decode())\n",
    "idx = 0\n",
    "rows = 2000\n",
    "vacancy_df = pd.json_normalize(vacancy_info)\n",
    "for i in range(1,rows):\n",
    "    vac_item = df_no_dup['id'].iloc[i]\n",
    "    vacancy_url = f'https://api.hh.ru/vacancies/{vac_item}'\n",
    "    \n",
    "    req = requests.get(vacancy_url)\n",
    "    vacancy_info = json.loads(req.content.decode())\n",
    "    vacancy_df = vacancy_df.append(pd.json_normalize(vacancy_info))\n",
    "    idx+=1\n",
    "    if(idx==100):\n",
    "        print('Read 100')\n",
    "        idx=0\n",
    "    time.sleep(0.8)\n",
    "    \n",
    "    "
   ]
  },
  {
   "cell_type": "code",
   "execution_count": 141,
   "metadata": {},
   "outputs": [
    {
     "data": {
      "text/html": [
       "<div>\n",
       "<style scoped>\n",
       "    .dataframe tbody tr th:only-of-type {\n",
       "        vertical-align: middle;\n",
       "    }\n",
       "\n",
       "    .dataframe tbody tr th {\n",
       "        vertical-align: top;\n",
       "    }\n",
       "\n",
       "    .dataframe thead th {\n",
       "        text-align: right;\n",
       "    }\n",
       "</style>\n",
       "<table border=\"1\" class=\"dataframe\">\n",
       "  <thead>\n",
       "    <tr style=\"text-align: right;\">\n",
       "      <th></th>\n",
       "      <th>id</th>\n",
       "      <th>premium</th>\n",
       "      <th>relations</th>\n",
       "      <th>name</th>\n",
       "      <th>insider_interview</th>\n",
       "      <th>response_letter_required</th>\n",
       "      <th>address</th>\n",
       "      <th>allow_messages</th>\n",
       "      <th>department</th>\n",
       "      <th>contacts</th>\n",
       "      <th>...</th>\n",
       "      <th>vacancy_constructor_template.top_picture.width</th>\n",
       "      <th>vacancy_constructor_template.top_picture.path</th>\n",
       "      <th>vacancy_constructor_template.top_picture.blurred_path</th>\n",
       "      <th>vacancy_constructor_template.bottom_picture</th>\n",
       "      <th>insider_interview.id</th>\n",
       "      <th>insider_interview.url</th>\n",
       "      <th>vacancy_constructor_template.bottom_picture.height</th>\n",
       "      <th>vacancy_constructor_template.bottom_picture.width</th>\n",
       "      <th>vacancy_constructor_template.bottom_picture.path</th>\n",
       "      <th>vacancy_constructor_template.bottom_picture.blurred_path</th>\n",
       "    </tr>\n",
       "  </thead>\n",
       "  <tbody>\n",
       "    <tr>\n",
       "      <th>0</th>\n",
       "      <td>49423067</td>\n",
       "      <td>False</td>\n",
       "      <td>[]</td>\n",
       "      <td>Data Scientist</td>\n",
       "      <td>None</td>\n",
       "      <td>False</td>\n",
       "      <td>None</td>\n",
       "      <td>True</td>\n",
       "      <td>None</td>\n",
       "      <td>None</td>\n",
       "      <td>...</td>\n",
       "      <td>NaN</td>\n",
       "      <td>NaN</td>\n",
       "      <td>NaN</td>\n",
       "      <td>NaN</td>\n",
       "      <td>NaN</td>\n",
       "      <td>NaN</td>\n",
       "      <td>NaN</td>\n",
       "      <td>NaN</td>\n",
       "      <td>NaN</td>\n",
       "      <td>NaN</td>\n",
       "    </tr>\n",
       "    <tr>\n",
       "      <th>0</th>\n",
       "      <td>53929493</td>\n",
       "      <td>True</td>\n",
       "      <td>[]</td>\n",
       "      <td>Data Scientist (CV+NLP)</td>\n",
       "      <td>None</td>\n",
       "      <td>False</td>\n",
       "      <td>None</td>\n",
       "      <td>False</td>\n",
       "      <td>None</td>\n",
       "      <td>None</td>\n",
       "      <td>...</td>\n",
       "      <td>NaN</td>\n",
       "      <td>NaN</td>\n",
       "      <td>NaN</td>\n",
       "      <td>NaN</td>\n",
       "      <td>NaN</td>\n",
       "      <td>NaN</td>\n",
       "      <td>NaN</td>\n",
       "      <td>NaN</td>\n",
       "      <td>NaN</td>\n",
       "      <td>NaN</td>\n",
       "    </tr>\n",
       "    <tr>\n",
       "      <th>0</th>\n",
       "      <td>53947371</td>\n",
       "      <td>True</td>\n",
       "      <td>[]</td>\n",
       "      <td>Data Scientist (Корпоративный бизнес)</td>\n",
       "      <td>None</td>\n",
       "      <td>False</td>\n",
       "      <td>None</td>\n",
       "      <td>True</td>\n",
       "      <td>None</td>\n",
       "      <td>None</td>\n",
       "      <td>...</td>\n",
       "      <td>NaN</td>\n",
       "      <td>NaN</td>\n",
       "      <td>NaN</td>\n",
       "      <td>NaN</td>\n",
       "      <td>NaN</td>\n",
       "      <td>NaN</td>\n",
       "      <td>NaN</td>\n",
       "      <td>NaN</td>\n",
       "      <td>NaN</td>\n",
       "      <td>NaN</td>\n",
       "    </tr>\n",
       "    <tr>\n",
       "      <th>0</th>\n",
       "      <td>53211742</td>\n",
       "      <td>False</td>\n",
       "      <td>[]</td>\n",
       "      <td>Junior Data scientist/ Младший риск-аналитик</td>\n",
       "      <td>None</td>\n",
       "      <td>True</td>\n",
       "      <td>None</td>\n",
       "      <td>True</td>\n",
       "      <td>None</td>\n",
       "      <td>None</td>\n",
       "      <td>...</td>\n",
       "      <td>NaN</td>\n",
       "      <td>NaN</td>\n",
       "      <td>NaN</td>\n",
       "      <td>NaN</td>\n",
       "      <td>NaN</td>\n",
       "      <td>NaN</td>\n",
       "      <td>NaN</td>\n",
       "      <td>NaN</td>\n",
       "      <td>NaN</td>\n",
       "      <td>NaN</td>\n",
       "    </tr>\n",
       "    <tr>\n",
       "      <th>0</th>\n",
       "      <td>53809111</td>\n",
       "      <td>False</td>\n",
       "      <td>[]</td>\n",
       "      <td>Data scientist / Product analyst</td>\n",
       "      <td>None</td>\n",
       "      <td>False</td>\n",
       "      <td>None</td>\n",
       "      <td>True</td>\n",
       "      <td>None</td>\n",
       "      <td>None</td>\n",
       "      <td>...</td>\n",
       "      <td>NaN</td>\n",
       "      <td>NaN</td>\n",
       "      <td>NaN</td>\n",
       "      <td>NaN</td>\n",
       "      <td>NaN</td>\n",
       "      <td>NaN</td>\n",
       "      <td>NaN</td>\n",
       "      <td>NaN</td>\n",
       "      <td>NaN</td>\n",
       "      <td>NaN</td>\n",
       "    </tr>\n",
       "    <tr>\n",
       "      <th>...</th>\n",
       "      <td>...</td>\n",
       "      <td>...</td>\n",
       "      <td>...</td>\n",
       "      <td>...</td>\n",
       "      <td>...</td>\n",
       "      <td>...</td>\n",
       "      <td>...</td>\n",
       "      <td>...</td>\n",
       "      <td>...</td>\n",
       "      <td>...</td>\n",
       "      <td>...</td>\n",
       "      <td>...</td>\n",
       "      <td>...</td>\n",
       "      <td>...</td>\n",
       "      <td>...</td>\n",
       "      <td>...</td>\n",
       "      <td>...</td>\n",
       "      <td>...</td>\n",
       "      <td>...</td>\n",
       "      <td>...</td>\n",
       "      <td>...</td>\n",
       "    </tr>\n",
       "    <tr>\n",
       "      <th>0</th>\n",
       "      <td>53584851</td>\n",
       "      <td>False</td>\n",
       "      <td>[]</td>\n",
       "      <td>Аналитик</td>\n",
       "      <td>None</td>\n",
       "      <td>False</td>\n",
       "      <td>None</td>\n",
       "      <td>False</td>\n",
       "      <td>None</td>\n",
       "      <td>None</td>\n",
       "      <td>...</td>\n",
       "      <td>NaN</td>\n",
       "      <td>NaN</td>\n",
       "      <td>NaN</td>\n",
       "      <td>NaN</td>\n",
       "      <td>NaN</td>\n",
       "      <td>NaN</td>\n",
       "      <td>NaN</td>\n",
       "      <td>NaN</td>\n",
       "      <td>NaN</td>\n",
       "      <td>NaN</td>\n",
       "    </tr>\n",
       "    <tr>\n",
       "      <th>0</th>\n",
       "      <td>53493865</td>\n",
       "      <td>False</td>\n",
       "      <td>[]</td>\n",
       "      <td>Junior Analyst / Младший аналитик данных</td>\n",
       "      <td>None</td>\n",
       "      <td>True</td>\n",
       "      <td>None</td>\n",
       "      <td>True</td>\n",
       "      <td>None</td>\n",
       "      <td>None</td>\n",
       "      <td>...</td>\n",
       "      <td>NaN</td>\n",
       "      <td>NaN</td>\n",
       "      <td>NaN</td>\n",
       "      <td>NaN</td>\n",
       "      <td>NaN</td>\n",
       "      <td>NaN</td>\n",
       "      <td>NaN</td>\n",
       "      <td>NaN</td>\n",
       "      <td>NaN</td>\n",
       "      <td>NaN</td>\n",
       "    </tr>\n",
       "    <tr>\n",
       "      <th>0</th>\n",
       "      <td>52296952</td>\n",
       "      <td>False</td>\n",
       "      <td>[]</td>\n",
       "      <td>Аналитик</td>\n",
       "      <td>None</td>\n",
       "      <td>False</td>\n",
       "      <td>None</td>\n",
       "      <td>True</td>\n",
       "      <td>None</td>\n",
       "      <td>None</td>\n",
       "      <td>...</td>\n",
       "      <td>NaN</td>\n",
       "      <td>NaN</td>\n",
       "      <td>NaN</td>\n",
       "      <td>NaN</td>\n",
       "      <td>NaN</td>\n",
       "      <td>NaN</td>\n",
       "      <td>NaN</td>\n",
       "      <td>NaN</td>\n",
       "      <td>NaN</td>\n",
       "      <td>NaN</td>\n",
       "    </tr>\n",
       "    <tr>\n",
       "      <th>0</th>\n",
       "      <td>53557479</td>\n",
       "      <td>False</td>\n",
       "      <td>[]</td>\n",
       "      <td>Аналитик</td>\n",
       "      <td>None</td>\n",
       "      <td>False</td>\n",
       "      <td>None</td>\n",
       "      <td>True</td>\n",
       "      <td>None</td>\n",
       "      <td>None</td>\n",
       "      <td>...</td>\n",
       "      <td>NaN</td>\n",
       "      <td>NaN</td>\n",
       "      <td>NaN</td>\n",
       "      <td>NaN</td>\n",
       "      <td>NaN</td>\n",
       "      <td>NaN</td>\n",
       "      <td>NaN</td>\n",
       "      <td>NaN</td>\n",
       "      <td>NaN</td>\n",
       "      <td>NaN</td>\n",
       "    </tr>\n",
       "    <tr>\n",
       "      <th>0</th>\n",
       "      <td>50927192</td>\n",
       "      <td>False</td>\n",
       "      <td>[]</td>\n",
       "      <td>Аналитик по ценообразованию</td>\n",
       "      <td>None</td>\n",
       "      <td>False</td>\n",
       "      <td>None</td>\n",
       "      <td>True</td>\n",
       "      <td>None</td>\n",
       "      <td>None</td>\n",
       "      <td>...</td>\n",
       "      <td>NaN</td>\n",
       "      <td>NaN</td>\n",
       "      <td>NaN</td>\n",
       "      <td>NaN</td>\n",
       "      <td>NaN</td>\n",
       "      <td>NaN</td>\n",
       "      <td>NaN</td>\n",
       "      <td>NaN</td>\n",
       "      <td>NaN</td>\n",
       "      <td>NaN</td>\n",
       "    </tr>\n",
       "  </tbody>\n",
       "</table>\n",
       "<p>2000 rows × 98 columns</p>\n",
       "</div>"
      ],
      "text/plain": [
       "          id  premium relations                                          name  \\\n",
       "0   49423067    False        []                                Data Scientist   \n",
       "0   53929493     True        []                       Data Scientist (CV+NLP)   \n",
       "0   53947371     True        []         Data Scientist (Корпоративный бизнес)   \n",
       "0   53211742    False        []  Junior Data scientist/ Младший риск-аналитик   \n",
       "0   53809111    False        []              Data scientist / Product analyst   \n",
       "..       ...      ...       ...                                           ...   \n",
       "0   53584851    False        []                                      Аналитик   \n",
       "0   53493865    False        []      Junior Analyst / Младший аналитик данных   \n",
       "0   52296952    False        []                                      Аналитик   \n",
       "0   53557479    False        []                                      Аналитик   \n",
       "0   50927192    False        []                   Аналитик по ценообразованию   \n",
       "\n",
       "   insider_interview  response_letter_required address  allow_messages  \\\n",
       "0               None                     False    None            True   \n",
       "0               None                     False    None           False   \n",
       "0               None                     False    None            True   \n",
       "0               None                      True    None            True   \n",
       "0               None                     False    None            True   \n",
       "..               ...                       ...     ...             ...   \n",
       "0               None                     False    None           False   \n",
       "0               None                      True    None            True   \n",
       "0               None                     False    None            True   \n",
       "0               None                     False    None            True   \n",
       "0               None                     False    None            True   \n",
       "\n",
       "   department contacts  ... vacancy_constructor_template.top_picture.width  \\\n",
       "0        None     None  ...                                            NaN   \n",
       "0        None     None  ...                                            NaN   \n",
       "0        None     None  ...                                            NaN   \n",
       "0        None     None  ...                                            NaN   \n",
       "0        None     None  ...                                            NaN   \n",
       "..        ...      ...  ...                                            ...   \n",
       "0        None     None  ...                                            NaN   \n",
       "0        None     None  ...                                            NaN   \n",
       "0        None     None  ...                                            NaN   \n",
       "0        None     None  ...                                            NaN   \n",
       "0        None     None  ...                                            NaN   \n",
       "\n",
       "   vacancy_constructor_template.top_picture.path  \\\n",
       "0                                            NaN   \n",
       "0                                            NaN   \n",
       "0                                            NaN   \n",
       "0                                            NaN   \n",
       "0                                            NaN   \n",
       "..                                           ...   \n",
       "0                                            NaN   \n",
       "0                                            NaN   \n",
       "0                                            NaN   \n",
       "0                                            NaN   \n",
       "0                                            NaN   \n",
       "\n",
       "   vacancy_constructor_template.top_picture.blurred_path  \\\n",
       "0                                                 NaN      \n",
       "0                                                 NaN      \n",
       "0                                                 NaN      \n",
       "0                                                 NaN      \n",
       "0                                                 NaN      \n",
       "..                                                ...      \n",
       "0                                                 NaN      \n",
       "0                                                 NaN      \n",
       "0                                                 NaN      \n",
       "0                                                 NaN      \n",
       "0                                                 NaN      \n",
       "\n",
       "   vacancy_constructor_template.bottom_picture  insider_interview.id  \\\n",
       "0                                          NaN                   NaN   \n",
       "0                                          NaN                   NaN   \n",
       "0                                          NaN                   NaN   \n",
       "0                                          NaN                   NaN   \n",
       "0                                          NaN                   NaN   \n",
       "..                                         ...                   ...   \n",
       "0                                          NaN                   NaN   \n",
       "0                                          NaN                   NaN   \n",
       "0                                          NaN                   NaN   \n",
       "0                                          NaN                   NaN   \n",
       "0                                          NaN                   NaN   \n",
       "\n",
       "    insider_interview.url  vacancy_constructor_template.bottom_picture.height  \\\n",
       "0                     NaN                                                NaN    \n",
       "0                     NaN                                                NaN    \n",
       "0                     NaN                                                NaN    \n",
       "0                     NaN                                                NaN    \n",
       "0                     NaN                                                NaN    \n",
       "..                    ...                                                ...    \n",
       "0                     NaN                                                NaN    \n",
       "0                     NaN                                                NaN    \n",
       "0                     NaN                                                NaN    \n",
       "0                     NaN                                                NaN    \n",
       "0                     NaN                                                NaN    \n",
       "\n",
       "   vacancy_constructor_template.bottom_picture.width  \\\n",
       "0                                                NaN   \n",
       "0                                                NaN   \n",
       "0                                                NaN   \n",
       "0                                                NaN   \n",
       "0                                                NaN   \n",
       "..                                               ...   \n",
       "0                                                NaN   \n",
       "0                                                NaN   \n",
       "0                                                NaN   \n",
       "0                                                NaN   \n",
       "0                                                NaN   \n",
       "\n",
       "   vacancy_constructor_template.bottom_picture.path  \\\n",
       "0                                               NaN   \n",
       "0                                               NaN   \n",
       "0                                               NaN   \n",
       "0                                               NaN   \n",
       "0                                               NaN   \n",
       "..                                              ...   \n",
       "0                                               NaN   \n",
       "0                                               NaN   \n",
       "0                                               NaN   \n",
       "0                                               NaN   \n",
       "0                                               NaN   \n",
       "\n",
       "   vacancy_constructor_template.bottom_picture.blurred_path  \n",
       "0                                                 NaN        \n",
       "0                                                 NaN        \n",
       "0                                                 NaN        \n",
       "0                                                 NaN        \n",
       "0                                                 NaN        \n",
       "..                                                ...        \n",
       "0                                                 NaN        \n",
       "0                                                 NaN        \n",
       "0                                                 NaN        \n",
       "0                                                 NaN        \n",
       "0                                                 NaN        \n",
       "\n",
       "[2000 rows x 98 columns]"
      ]
     },
     "execution_count": 141,
     "metadata": {},
     "output_type": "execute_result"
    }
   ],
   "source": [
    "vacancy_df"
   ]
  },
  {
   "cell_type": "code",
   "execution_count": 18,
   "metadata": {},
   "outputs": [],
   "source": [
    "vacancy_df.to_excel(\"vacancy_info.xlsx\")"
   ]
  },
  {
   "cell_type": "markdown",
   "metadata": {},
   "source": [
    "**Полученную таблицу необходимо сохранить в формате xlsx и отправить боту вместе с решением.**"
   ]
  },
  {
   "cell_type": "markdown",
   "metadata": {},
   "source": [
    "**Вопрос 1.** Сколько сейчас доступно вакансий по вашему запросу?"
   ]
  },
  {
   "cell_type": "code",
   "execution_count": 19,
   "metadata": {},
   "outputs": [
    {
     "data": {
      "text/plain": [
       "2000"
      ]
     },
     "execution_count": 19,
     "metadata": {},
     "output_type": "execute_result"
    }
   ],
   "source": [
    "vacancy_df.count()['id']"
   ]
  },
  {
   "cell_type": "markdown",
   "metadata": {},
   "source": [
    "**Вопрос 2.** Какие навыки чаще всего встречаются в вакансиях по данной специальности?\n",
    "\n",
    "Для этого найдите соответствующее поле в данных, проанализируйте его и составьте список навыков и количество упоминаний каждого. Визуализируйте полученную информацию по топ-15 навыков."
   ]
  },
  {
   "cell_type": "code",
   "execution_count": 20,
   "metadata": {},
   "outputs": [],
   "source": [
    "def GetKeySkills(vacancy_df_no_nan):\n",
    "    skills = dict()\n",
    "    for iter_item in range(vacancy_df_no_nan.shape[0]):\n",
    "        for skill in vacancy_df_no_nan.iloc[iter_item]['key_skills']:\n",
    "            skill_val = list(skill.values())[0]\n",
    "            if skill_val not in skills.keys():\n",
    "                skills[skill_val] = 1\n",
    "            else:\n",
    "                skills[skill_val] += 1\n",
    "    skills_sroted = dict(sorted(skills.items(), key=lambda item: item[1], reverse=True))\n",
    "    return pd.DataFrame.from_dict(skills_sroted, orient='index')"
   ]
  },
  {
   "cell_type": "code",
   "execution_count": 287,
   "metadata": {},
   "outputs": [
    {
     "data": {
      "text/plain": [
       "Text(0.5, 1.0, 'Необходимые навыки')"
      ]
     },
     "execution_count": 287,
     "metadata": {},
     "output_type": "execute_result"
    },
    {
     "data": {
      "image/png": "[encoded data removed]",
      "text/plain": [
       "<Figure size 1080x720 with 1 Axes>"
      ]
     },
     "metadata": {},
     "output_type": "display_data"
    }
   ],
   "source": [
    "vacancy_df_no_nan = vacancy_df.dropna(subset=['key_skills'])\n",
    "df_skills = GetKeySkills(vacancy_df_no_nan)\n",
    "\n",
    "df_skills.head(15).plot.pie(subplots=True, figsize=(15, 10), autopct='%1.0f%%', legend=None)\n",
    "plt.title('Необходимые навыки', fontsize=20)"
   ]
  },
  {
   "cell_type": "markdown",
   "metadata": {},
   "source": [
    "**Вопрос 3.** Какую зарплату готовы платить работодатели? Соберите некоторым образом статистику и постройте гистограмму.\n",
    "\n",
    "При работе с данными о заработной плате обратите внимание на валюту и <a target=\"_blank\" href=\"https://yandex.ru/search/?text=gross%2Fnet&clid=1955455&win=446&lr=213&noreask=1\">gross/net</a>. "
   ]
  },
  {
   "cell_type": "code",
   "execution_count": 22,
   "metadata": {},
   "outputs": [],
   "source": [
    "def GetSalaryData(vacancy_df_no_nan_salary,from_or_to, salary_from_list, salary_iter_list, salary_EUR_cur, salary_USD_cur, salary_with_gross):\n",
    "    for i in range(vacancy_df_no_nan_salary.shape[0]):\n",
    "        if(vacancy_df_no_nan_salary.iloc[i]['salary.gross']):\n",
    "            salary_with_gross.append(vacancy_df_no_nan_salary.iloc[i])\n",
    "        if(vacancy_df_no_nan_salary.iloc[i]['salary.currency'] == 'EUR'):\n",
    "            salary_EUR_cur.append(vacancy_df_no_nan_salary.iloc[i][f'salary.{from_or_to}'])\n",
    "        if(vacancy_df_no_nan_salary.iloc[i]['salary.currency'] == 'USD'):\n",
    "            salary_USD_cur.append(vacancy_df_no_nan_salary.iloc[i][f'salary.{from_or_to}'])\n",
    "        if(vacancy_df_no_nan_salary.iloc[i]['salary.currency'] == 'RUR'):\n",
    "            salary_from_list.append(vacancy_df_no_nan_salary.iloc[i][f'salary.{from_or_to}'])\n",
    "            salary_iter_list.append(vacancy_df_no_nan_salary.iloc[i])"
   ]
  },
  {
   "cell_type": "code",
   "execution_count": 23,
   "metadata": {},
   "outputs": [],
   "source": [
    "salary_from_list = []\n",
    "salary_iter_list = []\n",
    "salary_EUR_cur = []\n",
    "salary_USD_cur = []\n",
    "salary_with_gross = []\n",
    "vacancy_df_no_nan_salary = vacancy_df.dropna(subset=['salary.from'])\n",
    "GetSalaryData(vacancy_df_no_nan_salary, 'from', salary_from_list, salary_iter_list, salary_EUR_cur, salary_USD_cur, salary_with_gross)"
   ]
  },
  {
   "cell_type": "code",
   "execution_count": 24,
   "metadata": {},
   "outputs": [],
   "source": [
    "salary_to_list = []\n",
    "salary_to_iter_list = []\n",
    "salary_to_EUR_cur = []\n",
    "salary_to_USD_cur = []\n",
    "salary_to_with_gross = []\n",
    "vacancy_df_no_nan_salary = vacancy_df.dropna(subset=['salary.to'])\n",
    "GetSalaryData(vacancy_df_no_nan_salary, 'to', salary_to_list, salary_to_iter_list, salary_to_EUR_cur, salary_to_USD_cur, salary_to_with_gross)"
   ]
  },
  {
   "cell_type": "code",
   "execution_count": 289,
   "metadata": {},
   "outputs": [
    {
     "data": {
      "text/plain": [
       "Text(0.5, 1.0, 'Распределение зарплаты в валютах')"
      ]
     },
     "execution_count": 289,
     "metadata": {},
     "output_type": "execute_result"
    },
    {
     "data": {
      "image/png": "[encoded data removed]",
      "text/plain": [
       "<Figure size 720x360 with 1 Axes>"
      ]
     },
     "metadata": {},
     "output_type": "display_data"
    }
   ],
   "source": [
    "sal_distr = {'EUR': len(salary_EUR_cur), 'USD': len(salary_USD_cur), 'RUB': len(salary_from_list)}\n",
    "ser = pd.Series(data=sal_distr, index=['EUR', 'USD', 'RUB'])\n",
    "ser.plot.pie(subplots=True, figsize=(10, 5), autopct='%1.0f%%', legend=None)\n",
    "plt.title('Распределение зарплаты в валютах', fontsize=15)"
   ]
  },
  {
   "cell_type": "code",
   "execution_count": 42,
   "metadata": {},
   "outputs": [
    {
     "data": {
      "text/plain": [
       "<Figure size 1080x720 with 0 Axes>"
      ]
     },
     "execution_count": 42,
     "metadata": {},
     "output_type": "execute_result"
    },
    {
     "data": {
      "image/png": "[encoded data removed]",
      "text/plain": [
       "<Figure size 432x288 with 1 Axes>"
      ]
     },
     "metadata": {
      "needs_background": "light"
     },
     "output_type": "display_data"
    },
    {
     "data": {
      "text/plain": [
       "<Figure size 1080x720 with 0 Axes>"
      ]
     },
     "metadata": {},
     "output_type": "display_data"
    }
   ],
   "source": [
    "from matplotlib.patches import Rectangle\n",
    "\n",
    "plt.hist(salary_EUR_cur, density=True)\n",
    "plt.ylabel('Плотность')\n",
    "plt.xlabel('Зарплата');\n",
    "\n",
    "plt.hist(salary_to_EUR_cur, density=True, bins=15)\n",
    "plt.ylabel('Плотность')\n",
    "plt.xlabel('Зарплата');\n",
    "plt.title('Зарплаты в Евро')\n",
    "\n",
    "labels = [\"От\",\"До\"]\n",
    "\n",
    "plt.legend(labels=labels)\n",
    "plt.figure(figsize=(15,10))"
   ]
  },
  {
   "cell_type": "code",
   "execution_count": 48,
   "metadata": {},
   "outputs": [
    {
     "data": {
      "text/plain": [
       "<Figure size 432x288 with 0 Axes>"
      ]
     },
     "execution_count": 48,
     "metadata": {},
     "output_type": "execute_result"
    },
    {
     "data": {
      "image/png": "[encoded data removed]",
      "text/plain": [
       "<Figure size 432x288 with 1 Axes>"
      ]
     },
     "metadata": {
      "needs_background": "light"
     },
     "output_type": "display_data"
    },
    {
     "data": {
      "text/plain": [
       "<Figure size 432x288 with 0 Axes>"
      ]
     },
     "metadata": {},
     "output_type": "display_data"
    }
   ],
   "source": [
    "plt.hist(salary_USD_cur, density=True)\n",
    "plt.ylabel('Плотность')\n",
    "plt.xlabel('Зарплата');\n",
    "plt.title('Нижняя оценка зарплаты в долларах США')\n",
    "plt.figure()"
   ]
  },
  {
   "cell_type": "code",
   "execution_count": 51,
   "metadata": {},
   "outputs": [
    {
     "data": {
      "text/plain": [
       "<Figure size 432x288 with 0 Axes>"
      ]
     },
     "execution_count": 51,
     "metadata": {},
     "output_type": "execute_result"
    },
    {
     "data": {
      "image/png": "[encoded data removed]",
      "text/plain": [
       "<Figure size 432x288 with 1 Axes>"
      ]
     },
     "metadata": {
      "needs_background": "light"
     },
     "output_type": "display_data"
    },
    {
     "data": {
      "text/plain": [
       "<Figure size 432x288 with 0 Axes>"
      ]
     },
     "metadata": {},
     "output_type": "display_data"
    }
   ],
   "source": [
    "plt.hist(salary_to_USD_cur, density=True)\n",
    "plt.ylabel('Плотность')\n",
    "plt.xlabel('Зарплата');\n",
    "plt.title('Верхняя оценка зарплаты в долларах США')\n",
    "plt.figure()"
   ]
  },
  {
   "cell_type": "code",
   "execution_count": 59,
   "metadata": {},
   "outputs": [
    {
     "data": {
      "text/plain": [
       "<Figure size 1080x720 with 0 Axes>"
      ]
     },
     "execution_count": 59,
     "metadata": {},
     "output_type": "execute_result"
    },
    {
     "data": {
      "image/png": "[encoded data removed]",
      "text/plain": [
       "<Figure size 432x288 with 1 Axes>"
      ]
     },
     "metadata": {
      "needs_background": "light"
     },
     "output_type": "display_data"
    },
    {
     "data": {
      "text/plain": [
       "<Figure size 1080x720 with 0 Axes>"
      ]
     },
     "metadata": {},
     "output_type": "display_data"
    }
   ],
   "source": [
    "salary_from_list_norm = [el / 10 for el in salary_from_list]\n",
    "plt.hist(salary_from_list_norm, density=True, bins=10)\n",
    "\n",
    "plt.ylabel('Плотность')\n",
    "plt.xlabel('Зарплата норимрованная на 10');\n",
    "\n",
    "plt.title('Нижняя оценка зарплаты RUB')\n",
    "plt.figure(figsize=(15,10))"
   ]
  },
  {
   "cell_type": "code",
   "execution_count": 62,
   "metadata": {},
   "outputs": [
    {
     "data": {
      "text/plain": [
       "<Figure size 1080x720 with 0 Axes>"
      ]
     },
     "execution_count": 62,
     "metadata": {},
     "output_type": "execute_result"
    },
    {
     "data": {
      "image/png": "[encoded data removed]",
      "text/plain": [
       "<Figure size 432x288 with 1 Axes>"
      ]
     },
     "metadata": {
      "needs_background": "light"
     },
     "output_type": "display_data"
    },
    {
     "data": {
      "text/plain": [
       "<Figure size 1080x720 with 0 Axes>"
      ]
     },
     "metadata": {},
     "output_type": "display_data"
    }
   ],
   "source": [
    "salary_to_list_norm = [el / 10 for el in salary_to_list]\n",
    "plt.hist(salary_to_list, density=True, bins=30)\n",
    "\n",
    "plt.ylabel('Плотность')\n",
    "plt.xlabel('Зарплата норимрованная на 10');\n",
    "\n",
    "plt.title('Верхняя оценка зарплаты RUB')\n",
    "plt.figure(figsize=(15,10))"
   ]
  },
  {
   "cell_type": "code",
   "execution_count": 63,
   "metadata": {},
   "outputs": [],
   "source": [
    "sal_gross = []\n",
    "for item in salary_with_gross:\n",
    "    for it in salary_iter_list:\n",
    "        if(it['id']==item['id']):\n",
    "            sal_gross.append(it)\n",
    "\n",
    "sal_with_gross = []\n",
    "for sal in sal_gross:\n",
    "    sal_with_gross.append(sal['salary.from'])\n",
    "    "
   ]
  },
  {
   "cell_type": "code",
   "execution_count": 64,
   "metadata": {},
   "outputs": [
    {
     "data": {
      "text/plain": [
       "<Figure size 1080x720 with 0 Axes>"
      ]
     },
     "execution_count": 64,
     "metadata": {},
     "output_type": "execute_result"
    },
    {
     "data": {
      "image/png": "[encoded data removed]",
      "text/plain": [
       "<Figure size 432x288 with 1 Axes>"
      ]
     },
     "metadata": {
      "needs_background": "light"
     },
     "output_type": "display_data"
    },
    {
     "data": {
      "text/plain": [
       "<Figure size 1080x720 with 0 Axes>"
      ]
     },
     "metadata": {},
     "output_type": "display_data"
    }
   ],
   "source": [
    "sal_with_gross = [el / 10 for el in sal_with_gross]\n",
    "plt.hist(sal_with_gross, density=True, bins=10)\n",
    "\n",
    "plt.ylabel('Плотность')\n",
    "plt.xlabel('Зарплата норимрованная на 10');\n",
    "\n",
    "plt.title('Зарплата с вычетом налогов')\n",
    "plt.figure(figsize=(15,10))"
   ]
  },
  {
   "cell_type": "markdown",
   "metadata": {},
   "source": [
    "Выводы:\n",
    "\n",
    "По итогам исследования, можно увидеть, что для аналитиков, самый распространненный навык - это SQL,Python, и сам АД.\n",
    "Можем видеть, что большую часть зарплаты платят в рублях, и гораздо меньше в долларах и евро. Также, видим диапозон зарплат: какую минимальную зарплату готовы платить и максимальную"
   ]
  },
  {
   "cell_type": "markdown",
   "metadata": {},
   "source": [
    "Проведите аналогичный анализ для наиболее привлекательной для вас профессии в любом регионе. Если это Data Scientist, то для анализа выберите другую."
   ]
  },
  {
   "cell_type": "code",
   "execution_count": 66,
   "metadata": {},
   "outputs": [],
   "source": [
    "import time\n",
    "URL = 'https://api.hh.ru/vacancies'\n",
    "data_list_cour = []\n",
    "for page in range(0, 20):\n",
    "    params = {\n",
    "        'text': 'Курьер',\n",
    "        'area': 1,\n",
    "        'page': page,\n",
    "        'per_page': 100\n",
    "    }\n",
    "\n",
    "    req = requests.get(URL, params)\n",
    "    data = json.loads(req.content.decode())\n",
    "    data_list_cour.append(data)\n",
    "    time.sleep(0.5)\n",
    "df_cour = pd.DataFrame(data=data_list_cour[0]['items'])\n",
    "for item in data_list_cour[1:]:\n",
    "    df_tmp = pd.DataFrame(data=item['items'])\n",
    "    df_cour = df_cour.append(df_tmp)"
   ]
  },
  {
   "cell_type": "code",
   "execution_count": 68,
   "metadata": {},
   "outputs": [],
   "source": [
    "vacancy = df_cour['id'].iloc[0]\n",
    "vacancy_url = f'https://api.hh.ru/vacancies/{vacancy}'\n",
    "req = requests.get(vacancy_url)\n",
    "vacancy_cur_info = json.loads(req.content.decode())\n",
    "rows = df_cour.shape[0]\n",
    "vacancy_cur_df = pd.json_normalize(vacancy_cur_info)\n",
    "for i in range(1,rows):\n",
    "    vac_cur_item = df_cour['id'].iloc[i]\n",
    "    vacancy_url = f'https://api.hh.ru/vacancies/{vac_cur_item}'\n",
    "    \n",
    "    req = requests.get(vacancy_url)\n",
    "    vacancy_info = json.loads(req.content.decode())\n",
    "    vacancy_cur_df = vacancy_cur_df.append(pd.json_normalize(vacancy_info))\n",
    "    time.sleep(0.7)\n",
    "    "
   ]
  },
  {
   "cell_type": "code",
   "execution_count": 69,
   "metadata": {},
   "outputs": [
    {
     "data": {
      "text/plain": [
       "1998"
      ]
     },
     "execution_count": 69,
     "metadata": {},
     "output_type": "execute_result"
    }
   ],
   "source": [
    "vacancy_cur_df.count()['id']"
   ]
  },
  {
   "cell_type": "code",
   "execution_count": 290,
   "metadata": {},
   "outputs": [
    {
     "data": {
      "text/plain": [
       "Text(0.5, 1.0, 'Необходимые навыки')"
      ]
     },
     "execution_count": 290,
     "metadata": {},
     "output_type": "execute_result"
    },
    {
     "data": {
      "image/png": "[encoded data removed]",
      "text/plain": [
       "<Figure size 1080x720 with 1 Axes>"
      ]
     },
     "metadata": {},
     "output_type": "display_data"
    }
   ],
   "source": [
    "vacancy_cur_df_no_nan = vacancy_cur_df.dropna(subset=['key_skills'])\n",
    "df_cur_skills = GetKeySkills(vacancy_cur_df_no_nan)\n",
    "\n",
    "df_cur_skills.head(15).plot.pie(subplots=True, figsize=(15, 10), autopct='%1.0f%%', legend=None)\n",
    "plt.title('Необходимые навыки', fontsize=18)"
   ]
  },
  {
   "cell_type": "code",
   "execution_count": 72,
   "metadata": {},
   "outputs": [],
   "source": [
    "salary_cur_from_list = []\n",
    "salary_cur_iter_list = []\n",
    "salary_cur_EUR_cur = []\n",
    "salary_cur_USD_cur = []\n",
    "salary_cur_with_gross = []\n",
    "vacancy_cur_df_no_nan_salary = vacancy_cur_df.dropna(subset=['salary.from'])\n",
    "GetSalaryData(vacancy_cur_df_no_nan_salary, 'from', salary_cur_from_list, salary_cur_iter_list, salary_cur_EUR_cur, salary_cur_USD_cur, salary_cur_with_gross)"
   ]
  },
  {
   "cell_type": "code",
   "execution_count": 77,
   "metadata": {},
   "outputs": [],
   "source": [
    "vacancy_cur_df_to_no_nan_salary = vacancy_cur_df.dropna(subset=['salary.to'])\n",
    "salary_cur_to_list = []\n",
    "salary_cur_to_iter_list = []\n",
    "salary_cur_to_EUR_cur = []\n",
    "salary_cur_to_USD_cur = []\n",
    "salary_cur_to_with_gross = []\n",
    "GetSalaryData(vacancy_cur_df_to_no_nan_salary, 'to', salary_cur_to_list, salary_cur_to_iter_list, salary_cur_to_EUR_cur, salary_cur_to_USD_cur, salary_cur_to_with_gross)"
   ]
  },
  {
   "cell_type": "code",
   "execution_count": 291,
   "metadata": {},
   "outputs": [
    {
     "data": {
      "text/plain": [
       "Text(0.5, 1.0, 'Нижняя оценка зарплаты RUB')"
      ]
     },
     "execution_count": 291,
     "metadata": {},
     "output_type": "execute_result"
    },
    {
     "data": {
      "image/png": "[encoded data removed]",
      "text/plain": [
       "<Figure size 432x288 with 1 Axes>"
      ]
     },
     "metadata": {
      "needs_background": "light"
     },
     "output_type": "display_data"
    }
   ],
   "source": [
    "plt.hist(salary_cur_from_list, density=True, bins=15)\n",
    "\n",
    "plt.ylabel('Плтоность')\n",
    "plt.xlabel('Зарплата');\n",
    "\n",
    "plt.title('Нижняя оценка зарплаты RUB')"
   ]
  },
  {
   "cell_type": "code",
   "execution_count": 292,
   "metadata": {},
   "outputs": [
    {
     "data": {
      "text/plain": [
       "Text(0.5, 1.0, 'Верхняя оценка зарплаты RUB')"
      ]
     },
     "execution_count": 292,
     "metadata": {},
     "output_type": "execute_result"
    },
    {
     "data": {
      "image/png": "[encoded data removed]",
      "text/plain": [
       "<Figure size 432x288 with 1 Axes>"
      ]
     },
     "metadata": {
      "needs_background": "light"
     },
     "output_type": "display_data"
    }
   ],
   "source": [
    "plt.hist(salary_cur_to_list, density=True, bins=15)\n",
    "\n",
    "plt.ylabel('Плтоность')\n",
    "plt.xlabel('Зарплата');\n",
    "\n",
    "plt.title('Верхняя оценка зарплаты RUB')"
   ]
  },
  {
   "cell_type": "code",
   "execution_count": 75,
   "metadata": {},
   "outputs": [],
   "source": [
    "sal_cur_gross = []\n",
    "for item in salary_cur_with_gross:\n",
    "    for it in salary_cur_iter_list:\n",
    "        if(it['id']==item['id']):\n",
    "            sal_cur_gross.append(it)\n",
    "    for it in salary_cur_to_iter_list:\n",
    "        \n",
    "\n",
    "sal_cur_with_gross = []\n",
    "for sal in sal_cur_gross:\n",
    "    sal_cur_with_gross.append(sal['salary.from'])\n",
    "    "
   ]
  },
  {
   "cell_type": "code",
   "execution_count": 76,
   "metadata": {},
   "outputs": [
    {
     "data": {
      "text/plain": [
       "<Figure size 1080x720 with 0 Axes>"
      ]
     },
     "execution_count": 76,
     "metadata": {},
     "output_type": "execute_result"
    },
    {
     "data": {
      "image/png": "[encoded data removed]",
      "text/plain": [
       "<Figure size 432x288 with 1 Axes>"
      ]
     },
     "metadata": {
      "needs_background": "light"
     },
     "output_type": "display_data"
    },
    {
     "data": {
      "text/plain": [
       "<Figure size 1080x720 with 0 Axes>"
      ]
     },
     "metadata": {},
     "output_type": "display_data"
    }
   ],
   "source": [
    "plt.hist(sal_cur_with_gross, density=True, bins=15)\n",
    "\n",
    "plt.ylabel('Плтоность')\n",
    "plt.xlabel('Зарплата');\n",
    "\n",
    "plt.title('Зарплата с вычетом налогов')\n",
    "plt.figure(figsize=(15,10))"
   ]
  },
  {
   "cell_type": "markdown",
   "metadata": {},
   "source": [
    "Выводы:\n",
    "\n",
    "По итогам исследования, можно увидеть самые необходимые навыки для работы курьером: Работа в команде, граммотная речь, водительские права. Зарплаты же у курьеров, на порядок меньше чем у дата саинтистов, это можно пронаблюдать из гистограмм. "
   ]
  },
  {
   "cell_type": "markdown",
   "metadata": {},
   "source": [
    "\n",
    "---\n",
    "### <font color=\"orange\"><i>Сложная часть</i></font>\n",
    "\n",
    "### Задача 2.   \n",
    "\n",
    "Для *одной* из рассмотренных ранее профессий ответьте на следующие вопросы:  \n",
    "- Какой опыт требуется для данной вакансии?\n",
    "- Какие работодатели в топе? \n",
    "- В каком районе Москвы данная вакансия пользуется наибольшим и наименьшим спросом?\n",
    "\n",
    "Не забудьте про визуализацию, для этого используйте библиотеку plotly. В частности, постройте распределений вакансий на карте.\n",
    "\n",
    "Для построения последних двух графиков вам могут понадобиться <a target=\"_blank\" href=\"https://ru.wikipedia.org/wiki/Список_станций_Московского_метрополитена\">внешние данные</a>.\n"
   ]
  },
  {
   "cell_type": "code",
   "execution_count": 111,
   "metadata": {},
   "outputs": [],
   "source": [
    "import plotly.express as px\n",
    "exp_req = dict()\n",
    "for item in vacancy_df['experience.name']:\n",
    "    if(item not in exp_req):\n",
    "        exp_req[item] = 1\n",
    "    else:\n",
    "        exp_req[item] += 1\n",
    "        \n",
    "exp_req_sroted = dict(sorted(exp_req.items(), key=lambda item: item[1], reverse=True))\n",
    "exp_df = pd.DataFrame(list(exp_req_sroted.items()), columns=['req_exp','amount'])"
   ]
  },
  {
   "cell_type": "code",
   "execution_count": 112,
   "metadata": {},
   "outputs": [
    {
     "data": {
      "application/vnd.plotly.v1+json": {
       "config": {
        "plotlyServerURL": "https://plot.ly"
       },
       "data": [
        {
         "domain": {
          "x": [
           0,
           1
          ],
          "y": [
           0,
           1
          ]
         },
         "hovertemplate": "req_exp=%{label}<br>amount=%{value}<extra></extra>",
         "labels": [
          "От 1 года до 3 лет",
          "От 3 до 6 лет",
          "Нет опыта",
          "Более 6 лет"
         ],
         "legendgroup": "",
         "name": "",
         "showlegend": true,
         "type": "pie",
         "values": [
          1082,
          751,
          121,
          46
         ]
        }
       ],
       "layout": {
        "legend": {
         "tracegroupgap": 0
        },
        "template": {
         "data": {
          "bar": [
           {
            "error_x": {
             "color": "#2a3f5f"
            },
            "error_y": {
             "color": "#2a3f5f"
            },
            "marker": {
             "line": {
              "color": "#E5ECF6",
              "width": 0.5
             },
             "pattern": {
              "fillmode": "overlay",
              "size": 10,
              "solidity": 0.2
             }
            },
            "type": "bar"
           }
          ],
          "barpolar": [
           {
            "marker": {
             "line": {
              "color": "#E5ECF6",
              "width": 0.5
             },
             "pattern": {
              "fillmode": "overlay",
              "size": 10,
              "solidity": 0.2
             }
            },
            "type": "barpolar"
           }
          ],
          "carpet": [
           {
            "aaxis": {
             "endlinecolor": "#2a3f5f",
             "gridcolor": "white",
             "linecolor": "white",
             "minorgridcolor": "white",
             "startlinecolor": "#2a3f5f"
            },
            "baxis": {
             "endlinecolor": "#2a3f5f",
             "gridcolor": "white",
             "linecolor": "white",
             "minorgridcolor": "white",
             "startlinecolor": "#2a3f5f"
            },
            "type": "carpet"
           }
          ],
          "choropleth": [
           {
            "colorbar": {
             "outlinewidth": 0,
             "ticks": ""
            },
            "type": "choropleth"
           }
          ],
          "contour": [
           {
            "colorbar": {
             "outlinewidth": 0,
             "ticks": ""
            },
            "colorscale": [
             [
              0,
              "#0d0887"
             ],
             [
              0.1111111111111111,
              "#46039f"
             ],
             [
              0.2222222222222222,
              "#7201a8"
             ],
             [
              0.3333333333333333,
              "#9c179e"
             ],
             [
              0.4444444444444444,
              "#bd3786"
             ],
             [
              0.5555555555555556,
              "#d8576b"
             ],
             [
              0.6666666666666666,
              "#ed7953"
             ],
             [
              0.7777777777777778,
              "#fb9f3a"
             ],
             [
              0.8888888888888888,
              "#fdca26"
             ],
             [
              1,
              "#f0f921"
             ]
            ],
            "type": "contour"
           }
          ],
          "contourcarpet": [
           {
            "colorbar": {
             "outlinewidth": 0,
             "ticks": ""
            },
            "type": "contourcarpet"
           }
          ],
          "heatmap": [
           {
            "colorbar": {
             "outlinewidth": 0,
             "ticks": ""
            },
            "colorscale": [
             [
              0,
              "#0d0887"
             ],
             [
              0.1111111111111111,
              "#46039f"
             ],
             [
              0.2222222222222222,
              "#7201a8"
             ],
             [
              0.3333333333333333,
              "#9c179e"
             ],
             [
              0.4444444444444444,
              "#bd3786"
             ],
             [
              0.5555555555555556,
              "#d8576b"
             ],
             [
              0.6666666666666666,
              "#ed7953"
             ],
             [
              0.7777777777777778,
              "#fb9f3a"
             ],
             [
              0.8888888888888888,
              "#fdca26"
             ],
             [
              1,
              "#f0f921"
             ]
            ],
            "type": "heatmap"
           }
          ],
          "heatmapgl": [
           {
            "colorbar": {
             "outlinewidth": 0,
             "ticks": ""
            },
            "colorscale": [
             [
              0,
              "#0d0887"
             ],
             [
              0.1111111111111111,
              "#46039f"
             ],
             [
              0.2222222222222222,
              "#7201a8"
             ],
             [
              0.3333333333333333,
              "#9c179e"
             ],
             [
              0.4444444444444444,
              "#bd3786"
             ],
             [
              0.5555555555555556,
              "#d8576b"
             ],
             [
              0.6666666666666666,
              "#ed7953"
             ],
             [
              0.7777777777777778,
              "#fb9f3a"
             ],
             [
              0.8888888888888888,
              "#fdca26"
             ],
             [
              1,
              "#f0f921"
             ]
            ],
            "type": "heatmapgl"
           }
          ],
          "histogram": [
           {
            "marker": {
             "pattern": {
              "fillmode": "overlay",
              "size": 10,
              "solidity": 0.2
             }
            },
            "type": "histogram"
           }
          ],
          "histogram2d": [
           {
            "colorbar": {
             "outlinewidth": 0,
             "ticks": ""
            },
            "colorscale": [
             [
              0,
              "#0d0887"
             ],
             [
              0.1111111111111111,
              "#46039f"
             ],
             [
              0.2222222222222222,
              "#7201a8"
             ],
             [
              0.3333333333333333,
              "#9c179e"
             ],
             [
              0.4444444444444444,
              "#bd3786"
             ],
             [
              0.5555555555555556,
              "#d8576b"
             ],
             [
              0.6666666666666666,
              "#ed7953"
             ],
             [
              0.7777777777777778,
              "#fb9f3a"
             ],
             [
              0.8888888888888888,
              "#fdca26"
             ],
             [
              1,
              "#f0f921"
             ]
            ],
            "type": "histogram2d"
           }
          ],
          "histogram2dcontour": [
           {
            "colorbar": {
             "outlinewidth": 0,
             "ticks": ""
            },
            "colorscale": [
             [
              0,
              "#0d0887"
             ],
             [
              0.1111111111111111,
              "#46039f"
             ],
             [
              0.2222222222222222,
              "#7201a8"
             ],
             [
              0.3333333333333333,
              "#9c179e"
             ],
             [
              0.4444444444444444,
              "#bd3786"
             ],
             [
              0.5555555555555556,
              "#d8576b"
             ],
             [
              0.6666666666666666,
              "#ed7953"
             ],
             [
              0.7777777777777778,
              "#fb9f3a"
             ],
             [
              0.8888888888888888,
              "#fdca26"
             ],
             [
              1,
              "#f0f921"
             ]
            ],
            "type": "histogram2dcontour"
           }
          ],
          "mesh3d": [
           {
            "colorbar": {
             "outlinewidth": 0,
             "ticks": ""
            },
            "type": "mesh3d"
           }
          ],
          "parcoords": [
           {
            "line": {
             "colorbar": {
              "outlinewidth": 0,
              "ticks": ""
             }
            },
            "type": "parcoords"
           }
          ],
          "pie": [
           {
            "automargin": true,
            "type": "pie"
           }
          ],
          "scatter": [
           {
            "marker": {
             "colorbar": {
              "outlinewidth": 0,
              "ticks": ""
             }
            },
            "type": "scatter"
           }
          ],
          "scatter3d": [
           {
            "line": {
             "colorbar": {
              "outlinewidth": 0,
              "ticks": ""
             }
            },
            "marker": {
             "colorbar": {
              "outlinewidth": 0,
              "ticks": ""
             }
            },
            "type": "scatter3d"
           }
          ],
          "scattercarpet": [
           {
            "marker": {
             "colorbar": {
              "outlinewidth": 0,
              "ticks": ""
             }
            },
            "type": "scattercarpet"
           }
          ],
          "scattergeo": [
           {
            "marker": {
             "colorbar": {
              "outlinewidth": 0,
              "ticks": ""
             }
            },
            "type": "scattergeo"
           }
          ],
          "scattergl": [
           {
            "marker": {
             "colorbar": {
              "outlinewidth": 0,
              "ticks": ""
             }
            },
            "type": "scattergl"
           }
          ],
          "scattermapbox": [
           {
            "marker": {
             "colorbar": {
              "outlinewidth": 0,
              "ticks": ""
             }
            },
            "type": "scattermapbox"
           }
          ],
          "scatterpolar": [
           {
            "marker": {
             "colorbar": {
              "outlinewidth": 0,
              "ticks": ""
             }
            },
            "type": "scatterpolar"
           }
          ],
          "scatterpolargl": [
           {
            "marker": {
             "colorbar": {
              "outlinewidth": 0,
              "ticks": ""
             }
            },
            "type": "scatterpolargl"
           }
          ],
          "scatterternary": [
           {
            "marker": {
             "colorbar": {
              "outlinewidth": 0,
              "ticks": ""
             }
            },
            "type": "scatterternary"
           }
          ],
          "surface": [
           {
            "colorbar": {
             "outlinewidth": 0,
             "ticks": ""
            },
            "colorscale": [
             [
              0,
              "#0d0887"
             ],
             [
              0.1111111111111111,
              "#46039f"
             ],
             [
              0.2222222222222222,
              "#7201a8"
             ],
             [
              0.3333333333333333,
              "#9c179e"
             ],
             [
              0.4444444444444444,
              "#bd3786"
             ],
             [
              0.5555555555555556,
              "#d8576b"
             ],
             [
              0.6666666666666666,
              "#ed7953"
             ],
             [
              0.7777777777777778,
              "#fb9f3a"
             ],
             [
              0.8888888888888888,
              "#fdca26"
             ],
             [
              1,
              "#f0f921"
             ]
            ],
            "type": "surface"
           }
          ],
          "table": [
           {
            "cells": {
             "fill": {
              "color": "#EBF0F8"
             },
             "line": {
              "color": "white"
             }
            },
            "header": {
             "fill": {
              "color": "#C8D4E3"
             },
             "line": {
              "color": "white"
             }
            },
            "type": "table"
           }
          ]
         },
         "layout": {
          "annotationdefaults": {
           "arrowcolor": "#2a3f5f",
           "arrowhead": 0,
           "arrowwidth": 1
          },
          "autotypenumbers": "strict",
          "coloraxis": {
           "colorbar": {
            "outlinewidth": 0,
            "ticks": ""
           }
          },
          "colorscale": {
           "diverging": [
            [
             0,
             "#8e0152"
            ],
            [
             0.1,
             "#c51b7d"
            ],
            [
             0.2,
             "#de77ae"
            ],
            [
             0.3,
             "#f1b6da"
            ],
            [
             0.4,
             "#fde0ef"
            ],
            [
             0.5,
             "#f7f7f7"
            ],
            [
             0.6,
             "#e6f5d0"
            ],
            [
             0.7,
             "#b8e186"
            ],
            [
             0.8,
             "#7fbc41"
            ],
            [
             0.9,
             "#4d9221"
            ],
            [
             1,
             "#276419"
            ]
           ],
           "sequential": [
            [
             0,
             "#0d0887"
            ],
            [
             0.1111111111111111,
             "#46039f"
            ],
            [
             0.2222222222222222,
             "#7201a8"
            ],
            [
             0.3333333333333333,
             "#9c179e"
            ],
            [
             0.4444444444444444,
             "#bd3786"
            ],
            [
             0.5555555555555556,
             "#d8576b"
            ],
            [
             0.6666666666666666,
             "#ed7953"
            ],
            [
             0.7777777777777778,
             "#fb9f3a"
            ],
            [
             0.8888888888888888,
             "#fdca26"
            ],
            [
             1,
             "#f0f921"
            ]
           ],
           "sequentialminus": [
            [
             0,
             "#0d0887"
            ],
            [
             0.1111111111111111,
             "#46039f"
            ],
            [
             0.2222222222222222,
             "#7201a8"
            ],
            [
             0.3333333333333333,
             "#9c179e"
            ],
            [
             0.4444444444444444,
             "#bd3786"
            ],
            [
             0.5555555555555556,
             "#d8576b"
            ],
            [
             0.6666666666666666,
             "#ed7953"
            ],
            [
             0.7777777777777778,
             "#fb9f3a"
            ],
            [
             0.8888888888888888,
             "#fdca26"
            ],
            [
             1,
             "#f0f921"
            ]
           ]
          },
          "colorway": [
           "#636efa",
           "#EF553B",
           "#00cc96",
           "#ab63fa",
           "#FFA15A",
           "#19d3f3",
           "#FF6692",
           "#B6E880",
           "#FF97FF",
           "#FECB52"
          ],
          "font": {
           "color": "#2a3f5f"
          },
          "geo": {
           "bgcolor": "white",
           "lakecolor": "white",
           "landcolor": "#E5ECF6",
           "showlakes": true,
           "showland": true,
           "subunitcolor": "white"
          },
          "hoverlabel": {
           "align": "left"
          },
          "hovermode": "closest",
          "mapbox": {
           "style": "light"
          },
          "paper_bgcolor": "white",
          "plot_bgcolor": "#E5ECF6",
          "polar": {
           "angularaxis": {
            "gridcolor": "white",
            "linecolor": "white",
            "ticks": ""
           },
           "bgcolor": "#E5ECF6",
           "radialaxis": {
            "gridcolor": "white",
            "linecolor": "white",
            "ticks": ""
           }
          },
          "scene": {
           "xaxis": {
            "backgroundcolor": "#E5ECF6",
            "gridcolor": "white",
            "gridwidth": 2,
            "linecolor": "white",
            "showbackground": true,
            "ticks": "",
            "zerolinecolor": "white"
           },
           "yaxis": {
            "backgroundcolor": "#E5ECF6",
            "gridcolor": "white",
            "gridwidth": 2,
            "linecolor": "white",
            "showbackground": true,
            "ticks": "",
            "zerolinecolor": "white"
           },
           "zaxis": {
            "backgroundcolor": "#E5ECF6",
            "gridcolor": "white",
            "gridwidth": 2,
            "linecolor": "white",
            "showbackground": true,
            "ticks": "",
            "zerolinecolor": "white"
           }
          },
          "shapedefaults": {
           "line": {
            "color": "#2a3f5f"
           }
          },
          "ternary": {
           "aaxis": {
            "gridcolor": "white",
            "linecolor": "white",
            "ticks": ""
           },
           "baxis": {
            "gridcolor": "white",
            "linecolor": "white",
            "ticks": ""
           },
           "bgcolor": "#E5ECF6",
           "caxis": {
            "gridcolor": "white",
            "linecolor": "white",
            "ticks": ""
           }
          },
          "title": {
           "x": 0.05
          },
          "xaxis": {
           "automargin": true,
           "gridcolor": "white",
           "linecolor": "white",
           "ticks": "",
           "title": {
            "standoff": 15
           },
           "zerolinecolor": "white",
           "zerolinewidth": 2
          },
          "yaxis": {
           "automargin": true,
           "gridcolor": "white",
           "linecolor": "white",
           "ticks": "",
           "title": {
            "standoff": 15
           },
           "zerolinecolor": "white",
           "zerolinewidth": 2
          }
         }
        },
        "title": {
         "text": "Work experience"
        }
       }
      },
      "text/html": [
       "<div>                            <div id=\"6cae1e51-41bd-4545-b227-49085859f050\" class=\"plotly-graph-div\" style=\"height:525px; width:100%;\"></div>            <script type=\"text/javascript\">                require([\"plotly\"], function(Plotly) {                    window.PLOTLYENV=window.PLOTLYENV || {};                                    if (document.getElementById(\"6cae1e51-41bd-4545-b227-49085859f050\")) {                    Plotly.newPlot(                        \"6cae1e51-41bd-4545-b227-49085859f050\",                        [{\"domain\":{\"x\":[0.0,1.0],\"y\":[0.0,1.0]},\"hovertemplate\":\"req_exp=%{label}<br>amount=%{value}<extra></extra>\",\"labels\":[\"\\u041e\\u0442 1 \\u0433\\u043e\\u0434\\u0430 \\u0434\\u043e 3 \\u043b\\u0435\\u0442\",\"\\u041e\\u0442 3 \\u0434\\u043e 6 \\u043b\\u0435\\u0442\",\"\\u041d\\u0435\\u0442 \\u043e\\u043f\\u044b\\u0442\\u0430\",\"\\u0411\\u043e\\u043b\\u0435\\u0435 6 \\u043b\\u0435\\u0442\"],\"legendgroup\":\"\",\"name\":\"\",\"showlegend\":true,\"values\":[1082,751,121,46],\"type\":\"pie\"}],                        {\"template\":{\"data\":{\"bar\":[{\"error_x\":{\"color\":\"#2a3f5f\"},\"error_y\":{\"color\":\"#2a3f5f\"},\"marker\":{\"line\":{\"color\":\"#E5ECF6\",\"width\":0.5},\"pattern\":{\"fillmode\":\"overlay\",\"size\":10,\"solidity\":0.2}},\"type\":\"bar\"}],\"barpolar\":[{\"marker\":{\"line\":{\"color\":\"#E5ECF6\",\"width\":0.5},\"pattern\":{\"fillmode\":\"overlay\",\"size\":10,\"solidity\":0.2}},\"type\":\"barpolar\"}],\"carpet\":[{\"aaxis\":{\"endlinecolor\":\"#2a3f5f\",\"gridcolor\":\"white\",\"linecolor\":\"white\",\"minorgridcolor\":\"white\",\"startlinecolor\":\"#2a3f5f\"},\"baxis\":{\"endlinecolor\":\"#2a3f5f\",\"gridcolor\":\"white\",\"linecolor\":\"white\",\"minorgridcolor\":\"white\",\"startlinecolor\":\"#2a3f5f\"},\"type\":\"carpet\"}],\"choropleth\":[{\"colorbar\":{\"outlinewidth\":0,\"ticks\":\"\"},\"type\":\"choropleth\"}],\"contour\":[{\"colorbar\":{\"outlinewidth\":0,\"ticks\":\"\"},\"colorscale\":[[0.0,\"#0d0887\"],[0.1111111111111111,\"#46039f\"],[0.2222222222222222,\"#7201a8\"],[0.3333333333333333,\"#9c179e\"],[0.4444444444444444,\"#bd3786\"],[0.5555555555555556,\"#d8576b\"],[0.6666666666666666,\"#ed7953\"],[0.7777777777777778,\"#fb9f3a\"],[0.8888888888888888,\"#fdca26\"],[1.0,\"#f0f921\"]],\"type\":\"contour\"}],\"contourcarpet\":[{\"colorbar\":{\"outlinewidth\":0,\"ticks\":\"\"},\"type\":\"contourcarpet\"}],\"heatmap\":[{\"colorbar\":{\"outlinewidth\":0,\"ticks\":\"\"},\"colorscale\":[[0.0,\"#0d0887\"],[0.1111111111111111,\"#46039f\"],[0.2222222222222222,\"#7201a8\"],[0.3333333333333333,\"#9c179e\"],[0.4444444444444444,\"#bd3786\"],[0.5555555555555556,\"#d8576b\"],[0.6666666666666666,\"#ed7953\"],[0.7777777777777778,\"#fb9f3a\"],[0.8888888888888888,\"#fdca26\"],[1.0,\"#f0f921\"]],\"type\":\"heatmap\"}],\"heatmapgl\":[{\"colorbar\":{\"outlinewidth\":0,\"ticks\":\"\"},\"colorscale\":[[0.0,\"#0d0887\"],[0.1111111111111111,\"#46039f\"],[0.2222222222222222,\"#7201a8\"],[0.3333333333333333,\"#9c179e\"],[0.4444444444444444,\"#bd3786\"],[0.5555555555555556,\"#d8576b\"],[0.6666666666666666,\"#ed7953\"],[0.7777777777777778,\"#fb9f3a\"],[0.8888888888888888,\"#fdca26\"],[1.0,\"#f0f921\"]],\"type\":\"heatmapgl\"}],\"histogram\":[{\"marker\":{\"pattern\":{\"fillmode\":\"overlay\",\"size\":10,\"solidity\":0.2}},\"type\":\"histogram\"}],\"histogram2d\":[{\"colorbar\":{\"outlinewidth\":0,\"ticks\":\"\"},\"colorscale\":[[0.0,\"#0d0887\"],[0.1111111111111111,\"#46039f\"],[0.2222222222222222,\"#7201a8\"],[0.3333333333333333,\"#9c179e\"],[0.4444444444444444,\"#bd3786\"],[0.5555555555555556,\"#d8576b\"],[0.6666666666666666,\"#ed7953\"],[0.7777777777777778,\"#fb9f3a\"],[0.8888888888888888,\"#fdca26\"],[1.0,\"#f0f921\"]],\"type\":\"histogram2d\"}],\"histogram2dcontour\":[{\"colorbar\":{\"outlinewidth\":0,\"ticks\":\"\"},\"colorscale\":[[0.0,\"#0d0887\"],[0.1111111111111111,\"#46039f\"],[0.2222222222222222,\"#7201a8\"],[0.3333333333333333,\"#9c179e\"],[0.4444444444444444,\"#bd3786\"],[0.5555555555555556,\"#d8576b\"],[0.6666666666666666,\"#ed7953\"],[0.7777777777777778,\"#fb9f3a\"],[0.8888888888888888,\"#fdca26\"],[1.0,\"#f0f921\"]],\"type\":\"histogram2dcontour\"}],\"mesh3d\":[{\"colorbar\":{\"outlinewidth\":0,\"ticks\":\"\"},\"type\":\"mesh3d\"}],\"parcoords\":[{\"line\":{\"colorbar\":{\"outlinewidth\":0,\"ticks\":\"\"}},\"type\":\"parcoords\"}],\"pie\":[{\"automargin\":true,\"type\":\"pie\"}],\"scatter\":[{\"marker\":{\"colorbar\":{\"outlinewidth\":0,\"ticks\":\"\"}},\"type\":\"scatter\"}],\"scatter3d\":[{\"line\":{\"colorbar\":{\"outlinewidth\":0,\"ticks\":\"\"}},\"marker\":{\"colorbar\":{\"outlinewidth\":0,\"ticks\":\"\"}},\"type\":\"scatter3d\"}],\"scattercarpet\":[{\"marker\":{\"colorbar\":{\"outlinewidth\":0,\"ticks\":\"\"}},\"type\":\"scattercarpet\"}],\"scattergeo\":[{\"marker\":{\"colorbar\":{\"outlinewidth\":0,\"ticks\":\"\"}},\"type\":\"scattergeo\"}],\"scattergl\":[{\"marker\":{\"colorbar\":{\"outlinewidth\":0,\"ticks\":\"\"}},\"type\":\"scattergl\"}],\"scattermapbox\":[{\"marker\":{\"colorbar\":{\"outlinewidth\":0,\"ticks\":\"\"}},\"type\":\"scattermapbox\"}],\"scatterpolar\":[{\"marker\":{\"colorbar\":{\"outlinewidth\":0,\"ticks\":\"\"}},\"type\":\"scatterpolar\"}],\"scatterpolargl\":[{\"marker\":{\"colorbar\":{\"outlinewidth\":0,\"ticks\":\"\"}},\"type\":\"scatterpolargl\"}],\"scatterternary\":[{\"marker\":{\"colorbar\":{\"outlinewidth\":0,\"ticks\":\"\"}},\"type\":\"scatterternary\"}],\"surface\":[{\"colorbar\":{\"outlinewidth\":0,\"ticks\":\"\"},\"colorscale\":[[0.0,\"#0d0887\"],[0.1111111111111111,\"#46039f\"],[0.2222222222222222,\"#7201a8\"],[0.3333333333333333,\"#9c179e\"],[0.4444444444444444,\"#bd3786\"],[0.5555555555555556,\"#d8576b\"],[0.6666666666666666,\"#ed7953\"],[0.7777777777777778,\"#fb9f3a\"],[0.8888888888888888,\"#fdca26\"],[1.0,\"#f0f921\"]],\"type\":\"surface\"}],\"table\":[{\"cells\":{\"fill\":{\"color\":\"#EBF0F8\"},\"line\":{\"color\":\"white\"}},\"header\":{\"fill\":{\"color\":\"#C8D4E3\"},\"line\":{\"color\":\"white\"}},\"type\":\"table\"}]},\"layout\":{\"annotationdefaults\":{\"arrowcolor\":\"#2a3f5f\",\"arrowhead\":0,\"arrowwidth\":1},\"autotypenumbers\":\"strict\",\"coloraxis\":{\"colorbar\":{\"outlinewidth\":0,\"ticks\":\"\"}},\"colorscale\":{\"diverging\":[[0,\"#8e0152\"],[0.1,\"#c51b7d\"],[0.2,\"#de77ae\"],[0.3,\"#f1b6da\"],[0.4,\"#fde0ef\"],[0.5,\"#f7f7f7\"],[0.6,\"#e6f5d0\"],[0.7,\"#b8e186\"],[0.8,\"#7fbc41\"],[0.9,\"#4d9221\"],[1,\"#276419\"]],\"sequential\":[[0.0,\"#0d0887\"],[0.1111111111111111,\"#46039f\"],[0.2222222222222222,\"#7201a8\"],[0.3333333333333333,\"#9c179e\"],[0.4444444444444444,\"#bd3786\"],[0.5555555555555556,\"#d8576b\"],[0.6666666666666666,\"#ed7953\"],[0.7777777777777778,\"#fb9f3a\"],[0.8888888888888888,\"#fdca26\"],[1.0,\"#f0f921\"]],\"sequentialminus\":[[0.0,\"#0d0887\"],[0.1111111111111111,\"#46039f\"],[0.2222222222222222,\"#7201a8\"],[0.3333333333333333,\"#9c179e\"],[0.4444444444444444,\"#bd3786\"],[0.5555555555555556,\"#d8576b\"],[0.6666666666666666,\"#ed7953\"],[0.7777777777777778,\"#fb9f3a\"],[0.8888888888888888,\"#fdca26\"],[1.0,\"#f0f921\"]]},\"colorway\":[\"#636efa\",\"#EF553B\",\"#00cc96\",\"#ab63fa\",\"#FFA15A\",\"#19d3f3\",\"#FF6692\",\"#B6E880\",\"#FF97FF\",\"#FECB52\"],\"font\":{\"color\":\"#2a3f5f\"},\"geo\":{\"bgcolor\":\"white\",\"lakecolor\":\"white\",\"landcolor\":\"#E5ECF6\",\"showlakes\":true,\"showland\":true,\"subunitcolor\":\"white\"},\"hoverlabel\":{\"align\":\"left\"},\"hovermode\":\"closest\",\"mapbox\":{\"style\":\"light\"},\"paper_bgcolor\":\"white\",\"plot_bgcolor\":\"#E5ECF6\",\"polar\":{\"angularaxis\":{\"gridcolor\":\"white\",\"linecolor\":\"white\",\"ticks\":\"\"},\"bgcolor\":\"#E5ECF6\",\"radialaxis\":{\"gridcolor\":\"white\",\"linecolor\":\"white\",\"ticks\":\"\"}},\"scene\":{\"xaxis\":{\"backgroundcolor\":\"#E5ECF6\",\"gridcolor\":\"white\",\"gridwidth\":2,\"linecolor\":\"white\",\"showbackground\":true,\"ticks\":\"\",\"zerolinecolor\":\"white\"},\"yaxis\":{\"backgroundcolor\":\"#E5ECF6\",\"gridcolor\":\"white\",\"gridwidth\":2,\"linecolor\":\"white\",\"showbackground\":true,\"ticks\":\"\",\"zerolinecolor\":\"white\"},\"zaxis\":{\"backgroundcolor\":\"#E5ECF6\",\"gridcolor\":\"white\",\"gridwidth\":2,\"linecolor\":\"white\",\"showbackground\":true,\"ticks\":\"\",\"zerolinecolor\":\"white\"}},\"shapedefaults\":{\"line\":{\"color\":\"#2a3f5f\"}},\"ternary\":{\"aaxis\":{\"gridcolor\":\"white\",\"linecolor\":\"white\",\"ticks\":\"\"},\"baxis\":{\"gridcolor\":\"white\",\"linecolor\":\"white\",\"ticks\":\"\"},\"bgcolor\":\"#E5ECF6\",\"caxis\":{\"gridcolor\":\"white\",\"linecolor\":\"white\",\"ticks\":\"\"}},\"title\":{\"x\":0.05},\"xaxis\":{\"automargin\":true,\"gridcolor\":\"white\",\"linecolor\":\"white\",\"ticks\":\"\",\"title\":{\"standoff\":15},\"zerolinecolor\":\"white\",\"zerolinewidth\":2},\"yaxis\":{\"automargin\":true,\"gridcolor\":\"white\",\"linecolor\":\"white\",\"ticks\":\"\",\"title\":{\"standoff\":15},\"zerolinecolor\":\"white\",\"zerolinewidth\":2}}},\"legend\":{\"tracegroupgap\":0},\"title\":{\"text\":\"Work experience\"}},                        {\"responsive\": true}                    ).then(function(){\n",
       "                            \n",
       "var gd = document.getElementById('6cae1e51-41bd-4545-b227-49085859f050');\n",
       "var x = new MutationObserver(function (mutations, observer) {{\n",
       "        var display = window.getComputedStyle(gd).display;\n",
       "        if (!display || display === 'none') {{\n",
       "            console.log([gd, 'removed!']);\n",
       "            Plotly.purge(gd);\n",
       "            observer.disconnect();\n",
       "        }}\n",
       "}});\n",
       "\n",
       "// Listen for the removal of the full notebook cells\n",
       "var notebookContainer = gd.closest('#notebook-container');\n",
       "if (notebookContainer) {{\n",
       "    x.observe(notebookContainer, {childList: true});\n",
       "}}\n",
       "\n",
       "// Listen for the clearing of the current output cell\n",
       "var outputEl = gd.closest('.output');\n",
       "if (outputEl) {{\n",
       "    x.observe(outputEl, {childList: true});\n",
       "}}\n",
       "\n",
       "                        })                };                });            </script>        </div>"
      ]
     },
     "metadata": {},
     "output_type": "display_data"
    }
   ],
   "source": [
    "fig = px.pie(exp_df, values='amount', names='req_exp', title='Work experience')\n",
    "fig.show()"
   ]
  },
  {
   "cell_type": "code",
   "execution_count": 98,
   "metadata": {},
   "outputs": [
    {
     "name": "stdout",
     "output_type": "stream",
     "text": [
      "Collecting plotly\n",
      "  Downloading plotly-5.6.0-py2.py3-none-any.whl (27.7 MB)\n",
      "\u001b[K     |████████████████████████████████| 27.7 MB 3.3 MB/s eta 0:00:01\n",
      "\u001b[?25hCollecting tenacity>=6.2.0\n",
      "  Downloading tenacity-8.0.1-py3-none-any.whl (24 kB)\n",
      "Requirement already satisfied: six in ./anaconda3/lib/python3.9/site-packages (from plotly) (1.16.0)\n",
      "Installing collected packages: tenacity, plotly\n",
      "Successfully installed plotly-5.6.0 tenacity-8.0.1\n",
      "Note: you may need to restart the kernel to use updated packages.\n"
     ]
    }
   ],
   "source": [
    "pip install plotly"
   ]
  },
  {
   "cell_type": "code",
   "execution_count": 123,
   "metadata": {},
   "outputs": [],
   "source": [
    "companies = dict()\n",
    "for item in vacancy_df['employer.name']:\n",
    "    if(item not in companies):\n",
    "        companies[item] = 1\n",
    "    else:\n",
    "        companies[item] += 1\n",
    "\n",
    "companies_sroted = dict(sorted(companies.items(), key=lambda item: item[1], reverse=True))\n",
    "companies_df = pd.DataFrame(list(companies_sroted.items()), columns=['company','amount'])"
   ]
  },
  {
   "cell_type": "code",
   "execution_count": 131,
   "metadata": {},
   "outputs": [
    {
     "data": {
      "application/vnd.plotly.v1+json": {
       "config": {
        "plotlyServerURL": "https://plot.ly"
       },
       "data": [
        {
         "marker": {
          "color": [
           "crimson",
           "darkblue",
           "darkblue",
           "darkblue",
           "darkblue",
           "darkblue",
           "darkblue",
           "darkblue",
           "darkblue",
           "darkblue",
           "darkblue",
           "darkblue",
           "darkblue",
           "darkblue",
           "darkblue"
          ]
         },
         "type": "bar",
         "x": [
          "Сбербанк",
          "Тинькофф",
          "МТС",
          "Иннотех, Группа компаний",
          "билайн",
          "VK",
          "МТС Банк",
          "Банк ВТБ (ПАО)",
          "Ozon",
          "Tele2",
          "inDriver",
          "Municorn",
          "ID Finance",
          "ВсеИнструменты.ру",
          "МАГНИТ, Розничная сеть"
         ],
         "y": [
          112,
          39,
          37,
          36,
          35,
          24,
          22,
          22,
          15,
          14,
          14,
          14,
          13,
          13,
          12
         ]
        }
       ],
       "layout": {
        "template": {
         "data": {
          "bar": [
           {
            "error_x": {
             "color": "#2a3f5f"
            },
            "error_y": {
             "color": "#2a3f5f"
            },
            "marker": {
             "line": {
              "color": "#E5ECF6",
              "width": 0.5
             },
             "pattern": {
              "fillmode": "overlay",
              "size": 10,
              "solidity": 0.2
             }
            },
            "type": "bar"
           }
          ],
          "barpolar": [
           {
            "marker": {
             "line": {
              "color": "#E5ECF6",
              "width": 0.5
             },
             "pattern": {
              "fillmode": "overlay",
              "size": 10,
              "solidity": 0.2
             }
            },
            "type": "barpolar"
           }
          ],
          "carpet": [
           {
            "aaxis": {
             "endlinecolor": "#2a3f5f",
             "gridcolor": "white",
             "linecolor": "white",
             "minorgridcolor": "white",
             "startlinecolor": "#2a3f5f"
            },
            "baxis": {
             "endlinecolor": "#2a3f5f",
             "gridcolor": "white",
             "linecolor": "white",
             "minorgridcolor": "white",
             "startlinecolor": "#2a3f5f"
            },
            "type": "carpet"
           }
          ],
          "choropleth": [
           {
            "colorbar": {
             "outlinewidth": 0,
             "ticks": ""
            },
            "type": "choropleth"
           }
          ],
          "contour": [
           {
            "colorbar": {
             "outlinewidth": 0,
             "ticks": ""
            },
            "colorscale": [
             [
              0,
              "#0d0887"
             ],
             [
              0.1111111111111111,
              "#46039f"
             ],
             [
              0.2222222222222222,
              "#7201a8"
             ],
             [
              0.3333333333333333,
              "#9c179e"
             ],
             [
              0.4444444444444444,
              "#bd3786"
             ],
             [
              0.5555555555555556,
              "#d8576b"
             ],
             [
              0.6666666666666666,
              "#ed7953"
             ],
             [
              0.7777777777777778,
              "#fb9f3a"
             ],
             [
              0.8888888888888888,
              "#fdca26"
             ],
             [
              1,
              "#f0f921"
             ]
            ],
            "type": "contour"
           }
          ],
          "contourcarpet": [
           {
            "colorbar": {
             "outlinewidth": 0,
             "ticks": ""
            },
            "type": "contourcarpet"
           }
          ],
          "heatmap": [
           {
            "colorbar": {
             "outlinewidth": 0,
             "ticks": ""
            },
            "colorscale": [
             [
              0,
              "#0d0887"
             ],
             [
              0.1111111111111111,
              "#46039f"
             ],
             [
              0.2222222222222222,
              "#7201a8"
             ],
             [
              0.3333333333333333,
              "#9c179e"
             ],
             [
              0.4444444444444444,
              "#bd3786"
             ],
             [
              0.5555555555555556,
              "#d8576b"
             ],
             [
              0.6666666666666666,
              "#ed7953"
             ],
             [
              0.7777777777777778,
              "#fb9f3a"
             ],
             [
              0.8888888888888888,
              "#fdca26"
             ],
             [
              1,
              "#f0f921"
             ]
            ],
            "type": "heatmap"
           }
          ],
          "heatmapgl": [
           {
            "colorbar": {
             "outlinewidth": 0,
             "ticks": ""
            },
            "colorscale": [
             [
              0,
              "#0d0887"
             ],
             [
              0.1111111111111111,
              "#46039f"
             ],
             [
              0.2222222222222222,
              "#7201a8"
             ],
             [
              0.3333333333333333,
              "#9c179e"
             ],
             [
              0.4444444444444444,
              "#bd3786"
             ],
             [
              0.5555555555555556,
              "#d8576b"
             ],
             [
              0.6666666666666666,
              "#ed7953"
             ],
             [
              0.7777777777777778,
              "#fb9f3a"
             ],
             [
              0.8888888888888888,
              "#fdca26"
             ],
             [
              1,
              "#f0f921"
             ]
            ],
            "type": "heatmapgl"
           }
          ],
          "histogram": [
           {
            "marker": {
             "pattern": {
              "fillmode": "overlay",
              "size": 10,
              "solidity": 0.2
             }
            },
            "type": "histogram"
           }
          ],
          "histogram2d": [
           {
            "colorbar": {
             "outlinewidth": 0,
             "ticks": ""
            },
            "colorscale": [
             [
              0,
              "#0d0887"
             ],
             [
              0.1111111111111111,
              "#46039f"
             ],
             [
              0.2222222222222222,
              "#7201a8"
             ],
             [
              0.3333333333333333,
              "#9c179e"
             ],
             [
              0.4444444444444444,
              "#bd3786"
             ],
             [
              0.5555555555555556,
              "#d8576b"
             ],
             [
              0.6666666666666666,
              "#ed7953"
             ],
             [
              0.7777777777777778,
              "#fb9f3a"
             ],
             [
              0.8888888888888888,
              "#fdca26"
             ],
             [
              1,
              "#f0f921"
             ]
            ],
            "type": "histogram2d"
           }
          ],
          "histogram2dcontour": [
           {
            "colorbar": {
             "outlinewidth": 0,
             "ticks": ""
            },
            "colorscale": [
             [
              0,
              "#0d0887"
             ],
             [
              0.1111111111111111,
              "#46039f"
             ],
             [
              0.2222222222222222,
              "#7201a8"
             ],
             [
              0.3333333333333333,
              "#9c179e"
             ],
             [
              0.4444444444444444,
              "#bd3786"
             ],
             [
              0.5555555555555556,
              "#d8576b"
             ],
             [
              0.6666666666666666,
              "#ed7953"
             ],
             [
              0.7777777777777778,
              "#fb9f3a"
             ],
             [
              0.8888888888888888,
              "#fdca26"
             ],
             [
              1,
              "#f0f921"
             ]
            ],
            "type": "histogram2dcontour"
           }
          ],
          "mesh3d": [
           {
            "colorbar": {
             "outlinewidth": 0,
             "ticks": ""
            },
            "type": "mesh3d"
           }
          ],
          "parcoords": [
           {
            "line": {
             "colorbar": {
              "outlinewidth": 0,
              "ticks": ""
             }
            },
            "type": "parcoords"
           }
          ],
          "pie": [
           {
            "automargin": true,
            "type": "pie"
           }
          ],
          "scatter": [
           {
            "marker": {
             "colorbar": {
              "outlinewidth": 0,
              "ticks": ""
             }
            },
            "type": "scatter"
           }
          ],
          "scatter3d": [
           {
            "line": {
             "colorbar": {
              "outlinewidth": 0,
              "ticks": ""
             }
            },
            "marker": {
             "colorbar": {
              "outlinewidth": 0,
              "ticks": ""
             }
            },
            "type": "scatter3d"
           }
          ],
          "scattercarpet": [
           {
            "marker": {
             "colorbar": {
              "outlinewidth": 0,
              "ticks": ""
             }
            },
            "type": "scattercarpet"
           }
          ],
          "scattergeo": [
           {
            "marker": {
             "colorbar": {
              "outlinewidth": 0,
              "ticks": ""
             }
            },
            "type": "scattergeo"
           }
          ],
          "scattergl": [
           {
            "marker": {
             "colorbar": {
              "outlinewidth": 0,
              "ticks": ""
             }
            },
            "type": "scattergl"
           }
          ],
          "scattermapbox": [
           {
            "marker": {
             "colorbar": {
              "outlinewidth": 0,
              "ticks": ""
             }
            },
            "type": "scattermapbox"
           }
          ],
          "scatterpolar": [
           {
            "marker": {
             "colorbar": {
              "outlinewidth": 0,
              "ticks": ""
             }
            },
            "type": "scatterpolar"
           }
          ],
          "scatterpolargl": [
           {
            "marker": {
             "colorbar": {
              "outlinewidth": 0,
              "ticks": ""
             }
            },
            "type": "scatterpolargl"
           }
          ],
          "scatterternary": [
           {
            "marker": {
             "colorbar": {
              "outlinewidth": 0,
              "ticks": ""
             }
            },
            "type": "scatterternary"
           }
          ],
          "surface": [
           {
            "colorbar": {
             "outlinewidth": 0,
             "ticks": ""
            },
            "colorscale": [
             [
              0,
              "#0d0887"
             ],
             [
              0.1111111111111111,
              "#46039f"
             ],
             [
              0.2222222222222222,
              "#7201a8"
             ],
             [
              0.3333333333333333,
              "#9c179e"
             ],
             [
              0.4444444444444444,
              "#bd3786"
             ],
             [
              0.5555555555555556,
              "#d8576b"
             ],
             [
              0.6666666666666666,
              "#ed7953"
             ],
             [
              0.7777777777777778,
              "#fb9f3a"
             ],
             [
              0.8888888888888888,
              "#fdca26"
             ],
             [
              1,
              "#f0f921"
             ]
            ],
            "type": "surface"
           }
          ],
          "table": [
           {
            "cells": {
             "fill": {
              "color": "#EBF0F8"
             },
             "line": {
              "color": "white"
             }
            },
            "header": {
             "fill": {
              "color": "#C8D4E3"
             },
             "line": {
              "color": "white"
             }
            },
            "type": "table"
           }
          ]
         },
         "layout": {
          "annotationdefaults": {
           "arrowcolor": "#2a3f5f",
           "arrowhead": 0,
           "arrowwidth": 1
          },
          "autotypenumbers": "strict",
          "coloraxis": {
           "colorbar": {
            "outlinewidth": 0,
            "ticks": ""
           }
          },
          "colorscale": {
           "diverging": [
            [
             0,
             "#8e0152"
            ],
            [
             0.1,
             "#c51b7d"
            ],
            [
             0.2,
             "#de77ae"
            ],
            [
             0.3,
             "#f1b6da"
            ],
            [
             0.4,
             "#fde0ef"
            ],
            [
             0.5,
             "#f7f7f7"
            ],
            [
             0.6,
             "#e6f5d0"
            ],
            [
             0.7,
             "#b8e186"
            ],
            [
             0.8,
             "#7fbc41"
            ],
            [
             0.9,
             "#4d9221"
            ],
            [
             1,
             "#276419"
            ]
           ],
           "sequential": [
            [
             0,
             "#0d0887"
            ],
            [
             0.1111111111111111,
             "#46039f"
            ],
            [
             0.2222222222222222,
             "#7201a8"
            ],
            [
             0.3333333333333333,
             "#9c179e"
            ],
            [
             0.4444444444444444,
             "#bd3786"
            ],
            [
             0.5555555555555556,
             "#d8576b"
            ],
            [
             0.6666666666666666,
             "#ed7953"
            ],
            [
             0.7777777777777778,
             "#fb9f3a"
            ],
            [
             0.8888888888888888,
             "#fdca26"
            ],
            [
             1,
             "#f0f921"
            ]
           ],
           "sequentialminus": [
            [
             0,
             "#0d0887"
            ],
            [
             0.1111111111111111,
             "#46039f"
            ],
            [
             0.2222222222222222,
             "#7201a8"
            ],
            [
             0.3333333333333333,
             "#9c179e"
            ],
            [
             0.4444444444444444,
             "#bd3786"
            ],
            [
             0.5555555555555556,
             "#d8576b"
            ],
            [
             0.6666666666666666,
             "#ed7953"
            ],
            [
             0.7777777777777778,
             "#fb9f3a"
            ],
            [
             0.8888888888888888,
             "#fdca26"
            ],
            [
             1,
             "#f0f921"
            ]
           ]
          },
          "colorway": [
           "#636efa",
           "#EF553B",
           "#00cc96",
           "#ab63fa",
           "#FFA15A",
           "#19d3f3",
           "#FF6692",
           "#B6E880",
           "#FF97FF",
           "#FECB52"
          ],
          "font": {
           "color": "#2a3f5f"
          },
          "geo": {
           "bgcolor": "white",
           "lakecolor": "white",
           "landcolor": "#E5ECF6",
           "showlakes": true,
           "showland": true,
           "subunitcolor": "white"
          },
          "hoverlabel": {
           "align": "left"
          },
          "hovermode": "closest",
          "mapbox": {
           "style": "light"
          },
          "paper_bgcolor": "white",
          "plot_bgcolor": "#E5ECF6",
          "polar": {
           "angularaxis": {
            "gridcolor": "white",
            "linecolor": "white",
            "ticks": ""
           },
           "bgcolor": "#E5ECF6",
           "radialaxis": {
            "gridcolor": "white",
            "linecolor": "white",
            "ticks": ""
           }
          },
          "scene": {
           "xaxis": {
            "backgroundcolor": "#E5ECF6",
            "gridcolor": "white",
            "gridwidth": 2,
            "linecolor": "white",
            "showbackground": true,
            "ticks": "",
            "zerolinecolor": "white"
           },
           "yaxis": {
            "backgroundcolor": "#E5ECF6",
            "gridcolor": "white",
            "gridwidth": 2,
            "linecolor": "white",
            "showbackground": true,
            "ticks": "",
            "zerolinecolor": "white"
           },
           "zaxis": {
            "backgroundcolor": "#E5ECF6",
            "gridcolor": "white",
            "gridwidth": 2,
            "linecolor": "white",
            "showbackground": true,
            "ticks": "",
            "zerolinecolor": "white"
           }
          },
          "shapedefaults": {
           "line": {
            "color": "#2a3f5f"
           }
          },
          "ternary": {
           "aaxis": {
            "gridcolor": "white",
            "linecolor": "white",
            "ticks": ""
           },
           "baxis": {
            "gridcolor": "white",
            "linecolor": "white",
            "ticks": ""
           },
           "bgcolor": "#E5ECF6",
           "caxis": {
            "gridcolor": "white",
            "linecolor": "white",
            "ticks": ""
           }
          },
          "title": {
           "x": 0.05
          },
          "xaxis": {
           "automargin": true,
           "gridcolor": "white",
           "linecolor": "white",
           "ticks": "",
           "title": {
            "standoff": 15
           },
           "zerolinecolor": "white",
           "zerolinewidth": 2
          },
          "yaxis": {
           "automargin": true,
           "gridcolor": "white",
           "linecolor": "white",
           "ticks": "",
           "title": {
            "standoff": 15
           },
           "zerolinecolor": "white",
           "zerolinewidth": 2
          }
         }
        },
        "title": {
         "text": "Топ 15 работодателей"
        }
       }
      },
      "text/html": [
       "<div>                            <div id=\"70d3ec34-de8c-41bf-b7f7-76ab73f86f7a\" class=\"plotly-graph-div\" style=\"height:525px; width:100%;\"></div>            <script type=\"text/javascript\">                require([\"plotly\"], function(Plotly) {                    window.PLOTLYENV=window.PLOTLYENV || {};                                    if (document.getElementById(\"70d3ec34-de8c-41bf-b7f7-76ab73f86f7a\")) {                    Plotly.newPlot(                        \"70d3ec34-de8c-41bf-b7f7-76ab73f86f7a\",                        [{\"marker\":{\"color\":[\"crimson\",\"darkblue\",\"darkblue\",\"darkblue\",\"darkblue\",\"darkblue\",\"darkblue\",\"darkblue\",\"darkblue\",\"darkblue\",\"darkblue\",\"darkblue\",\"darkblue\",\"darkblue\",\"darkblue\"]},\"x\":[\"\\u0421\\u0431\\u0435\\u0440\\u0431\\u0430\\u043d\\u043a\",\"\\u0422\\u0438\\u043d\\u044c\\u043a\\u043e\\u0444\\u0444\",\"\\u041c\\u0422\\u0421\",\"\\u0418\\u043d\\u043d\\u043e\\u0442\\u0435\\u0445, \\u0413\\u0440\\u0443\\u043f\\u043f\\u0430 \\u043a\\u043e\\u043c\\u043f\\u0430\\u043d\\u0438\\u0439\",\"\\u0431\\u0438\\u043b\\u0430\\u0439\\u043d\",\"VK\",\"\\u041c\\u0422\\u0421 \\u0411\\u0430\\u043d\\u043a\",\"\\u0411\\u0430\\u043d\\u043a \\u0412\\u0422\\u0411 (\\u041f\\u0410\\u041e)\",\"Ozon\",\"Tele2\",\"inDriver\",\"Municorn\",\"ID Finance\",\"\\u0412\\u0441\\u0435\\u0418\\u043d\\u0441\\u0442\\u0440\\u0443\\u043c\\u0435\\u043d\\u0442\\u044b.\\u0440\\u0443\",\"\\u041c\\u0410\\u0413\\u041d\\u0418\\u0422, \\u0420\\u043e\\u0437\\u043d\\u0438\\u0447\\u043d\\u0430\\u044f \\u0441\\u0435\\u0442\\u044c\"],\"y\":[112,39,37,36,35,24,22,22,15,14,14,14,13,13,12],\"type\":\"bar\"}],                        {\"template\":{\"data\":{\"bar\":[{\"error_x\":{\"color\":\"#2a3f5f\"},\"error_y\":{\"color\":\"#2a3f5f\"},\"marker\":{\"line\":{\"color\":\"#E5ECF6\",\"width\":0.5},\"pattern\":{\"fillmode\":\"overlay\",\"size\":10,\"solidity\":0.2}},\"type\":\"bar\"}],\"barpolar\":[{\"marker\":{\"line\":{\"color\":\"#E5ECF6\",\"width\":0.5},\"pattern\":{\"fillmode\":\"overlay\",\"size\":10,\"solidity\":0.2}},\"type\":\"barpolar\"}],\"carpet\":[{\"aaxis\":{\"endlinecolor\":\"#2a3f5f\",\"gridcolor\":\"white\",\"linecolor\":\"white\",\"minorgridcolor\":\"white\",\"startlinecolor\":\"#2a3f5f\"},\"baxis\":{\"endlinecolor\":\"#2a3f5f\",\"gridcolor\":\"white\",\"linecolor\":\"white\",\"minorgridcolor\":\"white\",\"startlinecolor\":\"#2a3f5f\"},\"type\":\"carpet\"}],\"choropleth\":[{\"colorbar\":{\"outlinewidth\":0,\"ticks\":\"\"},\"type\":\"choropleth\"}],\"contour\":[{\"colorbar\":{\"outlinewidth\":0,\"ticks\":\"\"},\"colorscale\":[[0.0,\"#0d0887\"],[0.1111111111111111,\"#46039f\"],[0.2222222222222222,\"#7201a8\"],[0.3333333333333333,\"#9c179e\"],[0.4444444444444444,\"#bd3786\"],[0.5555555555555556,\"#d8576b\"],[0.6666666666666666,\"#ed7953\"],[0.7777777777777778,\"#fb9f3a\"],[0.8888888888888888,\"#fdca26\"],[1.0,\"#f0f921\"]],\"type\":\"contour\"}],\"contourcarpet\":[{\"colorbar\":{\"outlinewidth\":0,\"ticks\":\"\"},\"type\":\"contourcarpet\"}],\"heatmap\":[{\"colorbar\":{\"outlinewidth\":0,\"ticks\":\"\"},\"colorscale\":[[0.0,\"#0d0887\"],[0.1111111111111111,\"#46039f\"],[0.2222222222222222,\"#7201a8\"],[0.3333333333333333,\"#9c179e\"],[0.4444444444444444,\"#bd3786\"],[0.5555555555555556,\"#d8576b\"],[0.6666666666666666,\"#ed7953\"],[0.7777777777777778,\"#fb9f3a\"],[0.8888888888888888,\"#fdca26\"],[1.0,\"#f0f921\"]],\"type\":\"heatmap\"}],\"heatmapgl\":[{\"colorbar\":{\"outlinewidth\":0,\"ticks\":\"\"},\"colorscale\":[[0.0,\"#0d0887\"],[0.1111111111111111,\"#46039f\"],[0.2222222222222222,\"#7201a8\"],[0.3333333333333333,\"#9c179e\"],[0.4444444444444444,\"#bd3786\"],[0.5555555555555556,\"#d8576b\"],[0.6666666666666666,\"#ed7953\"],[0.7777777777777778,\"#fb9f3a\"],[0.8888888888888888,\"#fdca26\"],[1.0,\"#f0f921\"]],\"type\":\"heatmapgl\"}],\"histogram\":[{\"marker\":{\"pattern\":{\"fillmode\":\"overlay\",\"size\":10,\"solidity\":0.2}},\"type\":\"histogram\"}],\"histogram2d\":[{\"colorbar\":{\"outlinewidth\":0,\"ticks\":\"\"},\"colorscale\":[[0.0,\"#0d0887\"],[0.1111111111111111,\"#46039f\"],[0.2222222222222222,\"#7201a8\"],[0.3333333333333333,\"#9c179e\"],[0.4444444444444444,\"#bd3786\"],[0.5555555555555556,\"#d8576b\"],[0.6666666666666666,\"#ed7953\"],[0.7777777777777778,\"#fb9f3a\"],[0.8888888888888888,\"#fdca26\"],[1.0,\"#f0f921\"]],\"type\":\"histogram2d\"}],\"histogram2dcontour\":[{\"colorbar\":{\"outlinewidth\":0,\"ticks\":\"\"},\"colorscale\":[[0.0,\"#0d0887\"],[0.1111111111111111,\"#46039f\"],[0.2222222222222222,\"#7201a8\"],[0.3333333333333333,\"#9c179e\"],[0.4444444444444444,\"#bd3786\"],[0.5555555555555556,\"#d8576b\"],[0.6666666666666666,\"#ed7953\"],[0.7777777777777778,\"#fb9f3a\"],[0.8888888888888888,\"#fdca26\"],[1.0,\"#f0f921\"]],\"type\":\"histogram2dcontour\"}],\"mesh3d\":[{\"colorbar\":{\"outlinewidth\":0,\"ticks\":\"\"},\"type\":\"mesh3d\"}],\"parcoords\":[{\"line\":{\"colorbar\":{\"outlinewidth\":0,\"ticks\":\"\"}},\"type\":\"parcoords\"}],\"pie\":[{\"automargin\":true,\"type\":\"pie\"}],\"scatter\":[{\"marker\":{\"colorbar\":{\"outlinewidth\":0,\"ticks\":\"\"}},\"type\":\"scatter\"}],\"scatter3d\":[{\"line\":{\"colorbar\":{\"outlinewidth\":0,\"ticks\":\"\"}},\"marker\":{\"colorbar\":{\"outlinewidth\":0,\"ticks\":\"\"}},\"type\":\"scatter3d\"}],\"scattercarpet\":[{\"marker\":{\"colorbar\":{\"outlinewidth\":0,\"ticks\":\"\"}},\"type\":\"scattercarpet\"}],\"scattergeo\":[{\"marker\":{\"colorbar\":{\"outlinewidth\":0,\"ticks\":\"\"}},\"type\":\"scattergeo\"}],\"scattergl\":[{\"marker\":{\"colorbar\":{\"outlinewidth\":0,\"ticks\":\"\"}},\"type\":\"scattergl\"}],\"scattermapbox\":[{\"marker\":{\"colorbar\":{\"outlinewidth\":0,\"ticks\":\"\"}},\"type\":\"scattermapbox\"}],\"scatterpolar\":[{\"marker\":{\"colorbar\":{\"outlinewidth\":0,\"ticks\":\"\"}},\"type\":\"scatterpolar\"}],\"scatterpolargl\":[{\"marker\":{\"colorbar\":{\"outlinewidth\":0,\"ticks\":\"\"}},\"type\":\"scatterpolargl\"}],\"scatterternary\":[{\"marker\":{\"colorbar\":{\"outlinewidth\":0,\"ticks\":\"\"}},\"type\":\"scatterternary\"}],\"surface\":[{\"colorbar\":{\"outlinewidth\":0,\"ticks\":\"\"},\"colorscale\":[[0.0,\"#0d0887\"],[0.1111111111111111,\"#46039f\"],[0.2222222222222222,\"#7201a8\"],[0.3333333333333333,\"#9c179e\"],[0.4444444444444444,\"#bd3786\"],[0.5555555555555556,\"#d8576b\"],[0.6666666666666666,\"#ed7953\"],[0.7777777777777778,\"#fb9f3a\"],[0.8888888888888888,\"#fdca26\"],[1.0,\"#f0f921\"]],\"type\":\"surface\"}],\"table\":[{\"cells\":{\"fill\":{\"color\":\"#EBF0F8\"},\"line\":{\"color\":\"white\"}},\"header\":{\"fill\":{\"color\":\"#C8D4E3\"},\"line\":{\"color\":\"white\"}},\"type\":\"table\"}]},\"layout\":{\"annotationdefaults\":{\"arrowcolor\":\"#2a3f5f\",\"arrowhead\":0,\"arrowwidth\":1},\"autotypenumbers\":\"strict\",\"coloraxis\":{\"colorbar\":{\"outlinewidth\":0,\"ticks\":\"\"}},\"colorscale\":{\"diverging\":[[0,\"#8e0152\"],[0.1,\"#c51b7d\"],[0.2,\"#de77ae\"],[0.3,\"#f1b6da\"],[0.4,\"#fde0ef\"],[0.5,\"#f7f7f7\"],[0.6,\"#e6f5d0\"],[0.7,\"#b8e186\"],[0.8,\"#7fbc41\"],[0.9,\"#4d9221\"],[1,\"#276419\"]],\"sequential\":[[0.0,\"#0d0887\"],[0.1111111111111111,\"#46039f\"],[0.2222222222222222,\"#7201a8\"],[0.3333333333333333,\"#9c179e\"],[0.4444444444444444,\"#bd3786\"],[0.5555555555555556,\"#d8576b\"],[0.6666666666666666,\"#ed7953\"],[0.7777777777777778,\"#fb9f3a\"],[0.8888888888888888,\"#fdca26\"],[1.0,\"#f0f921\"]],\"sequentialminus\":[[0.0,\"#0d0887\"],[0.1111111111111111,\"#46039f\"],[0.2222222222222222,\"#7201a8\"],[0.3333333333333333,\"#9c179e\"],[0.4444444444444444,\"#bd3786\"],[0.5555555555555556,\"#d8576b\"],[0.6666666666666666,\"#ed7953\"],[0.7777777777777778,\"#fb9f3a\"],[0.8888888888888888,\"#fdca26\"],[1.0,\"#f0f921\"]]},\"colorway\":[\"#636efa\",\"#EF553B\",\"#00cc96\",\"#ab63fa\",\"#FFA15A\",\"#19d3f3\",\"#FF6692\",\"#B6E880\",\"#FF97FF\",\"#FECB52\"],\"font\":{\"color\":\"#2a3f5f\"},\"geo\":{\"bgcolor\":\"white\",\"lakecolor\":\"white\",\"landcolor\":\"#E5ECF6\",\"showlakes\":true,\"showland\":true,\"subunitcolor\":\"white\"},\"hoverlabel\":{\"align\":\"left\"},\"hovermode\":\"closest\",\"mapbox\":{\"style\":\"light\"},\"paper_bgcolor\":\"white\",\"plot_bgcolor\":\"#E5ECF6\",\"polar\":{\"angularaxis\":{\"gridcolor\":\"white\",\"linecolor\":\"white\",\"ticks\":\"\"},\"bgcolor\":\"#E5ECF6\",\"radialaxis\":{\"gridcolor\":\"white\",\"linecolor\":\"white\",\"ticks\":\"\"}},\"scene\":{\"xaxis\":{\"backgroundcolor\":\"#E5ECF6\",\"gridcolor\":\"white\",\"gridwidth\":2,\"linecolor\":\"white\",\"showbackground\":true,\"ticks\":\"\",\"zerolinecolor\":\"white\"},\"yaxis\":{\"backgroundcolor\":\"#E5ECF6\",\"gridcolor\":\"white\",\"gridwidth\":2,\"linecolor\":\"white\",\"showbackground\":true,\"ticks\":\"\",\"zerolinecolor\":\"white\"},\"zaxis\":{\"backgroundcolor\":\"#E5ECF6\",\"gridcolor\":\"white\",\"gridwidth\":2,\"linecolor\":\"white\",\"showbackground\":true,\"ticks\":\"\",\"zerolinecolor\":\"white\"}},\"shapedefaults\":{\"line\":{\"color\":\"#2a3f5f\"}},\"ternary\":{\"aaxis\":{\"gridcolor\":\"white\",\"linecolor\":\"white\",\"ticks\":\"\"},\"baxis\":{\"gridcolor\":\"white\",\"linecolor\":\"white\",\"ticks\":\"\"},\"bgcolor\":\"#E5ECF6\",\"caxis\":{\"gridcolor\":\"white\",\"linecolor\":\"white\",\"ticks\":\"\"}},\"title\":{\"x\":0.05},\"xaxis\":{\"automargin\":true,\"gridcolor\":\"white\",\"linecolor\":\"white\",\"ticks\":\"\",\"title\":{\"standoff\":15},\"zerolinecolor\":\"white\",\"zerolinewidth\":2},\"yaxis\":{\"automargin\":true,\"gridcolor\":\"white\",\"linecolor\":\"white\",\"ticks\":\"\",\"title\":{\"standoff\":15},\"zerolinecolor\":\"white\",\"zerolinewidth\":2}}},\"title\":{\"text\":\"\\u0422\\u043e\\u043f 15 \\u0440\\u0430\\u0431\\u043e\\u0442\\u043e\\u0434\\u0430\\u0442\\u0435\\u043b\\u0435\\u0439\"}},                        {\"responsive\": true}                    ).then(function(){\n",
       "                            \n",
       "var gd = document.getElementById('70d3ec34-de8c-41bf-b7f7-76ab73f86f7a');\n",
       "var x = new MutationObserver(function (mutations, observer) {{\n",
       "        var display = window.getComputedStyle(gd).display;\n",
       "        if (!display || display === 'none') {{\n",
       "            console.log([gd, 'removed!']);\n",
       "            Plotly.purge(gd);\n",
       "            observer.disconnect();\n",
       "        }}\n",
       "}});\n",
       "\n",
       "// Listen for the removal of the full notebook cells\n",
       "var notebookContainer = gd.closest('#notebook-container');\n",
       "if (notebookContainer) {{\n",
       "    x.observe(notebookContainer, {childList: true});\n",
       "}}\n",
       "\n",
       "// Listen for the clearing of the current output cell\n",
       "var outputEl = gd.closest('.output');\n",
       "if (outputEl) {{\n",
       "    x.observe(outputEl, {childList: true});\n",
       "}}\n",
       "\n",
       "                        })                };                });            </script>        </div>"
      ]
     },
     "metadata": {},
     "output_type": "display_data"
    }
   ],
   "source": [
    "import plotly.graph_objects as go\n",
    "top_am = 15\n",
    "\n",
    "colors = ['darkblue',] * top_am\n",
    "colors[0] = 'crimson'\n",
    "\n",
    "fig = go.Figure(data=[go.Bar(\n",
    "    x=companies_df.head(top_am)['company'],\n",
    "    y=companies_df.head(top_am)['amount'],\n",
    "    marker_color=colors\n",
    ")])\n",
    "fig.update_layout(title_text='Топ 15 работодателей')"
   ]
  },
  {
   "cell_type": "code",
   "execution_count": 275,
   "metadata": {},
   "outputs": [],
   "source": [
    "vacny_df_no_nan_metro = vacancy_df.dropna(subset=['address.metro.station_name','address.metro.line_name','address.metro.lat', 'address.metro.lng'])\n",
    "\n",
    "vacny_df_no_nan_metro.shape[0]\n",
    "vac_by_id = vacny_df_no_nan_metro[['id', 'address.metro.station_name','address.metro.line_name','address.metro.lat', 'address.metro.lng', 'address.metro.station_id']]\n",
    "\n",
    "vac_by_id_res = vac_by_id.reset_index()\n",
    "vac_grouped = vac_by_id_res.groupby(['address.metro.station_name','address.metro.line_name','address.metro.station_id']).count().reset_index()\n",
    "for item in vac_grouped['address.metro.station_id']:\n",
    "    for idx in vac_by_id_res['address.metro.station_id']:\n",
    "        if(item==idx):\n",
    "            vac_grouped.loc[vac_grouped['address.metro.station_id']==item, 'address.metro.lat'] = vac_by_id_res.loc[vac_by_id_res['address.metro.station_id']==idx, 'address.metro.lat'].values[0]\n",
    "            vac_grouped.loc[vac_grouped['address.metro.station_id']==item, 'address.metro.lng'] = vac_by_id_res.loc[vac_by_id_res['address.metro.station_id']==idx, 'address.metro.lng'].values[0]"
   ]
  },
  {
   "cell_type": "code",
   "execution_count": 276,
   "metadata": {},
   "outputs": [
    {
     "data": {
      "text/html": [
       "<div>\n",
       "<style scoped>\n",
       "    .dataframe tbody tr th:only-of-type {\n",
       "        vertical-align: middle;\n",
       "    }\n",
       "\n",
       "    .dataframe tbody tr th {\n",
       "        vertical-align: top;\n",
       "    }\n",
       "\n",
       "    .dataframe thead th {\n",
       "        text-align: right;\n",
       "    }\n",
       "</style>\n",
       "<table border=\"1\" class=\"dataframe\">\n",
       "  <thead>\n",
       "    <tr style=\"text-align: right;\">\n",
       "      <th></th>\n",
       "      <th>address.metro.station_name</th>\n",
       "      <th>address.metro.line_name</th>\n",
       "      <th>address.metro.station_id</th>\n",
       "      <th>index</th>\n",
       "      <th>id</th>\n",
       "      <th>address.metro.lat</th>\n",
       "      <th>address.metro.lng</th>\n",
       "    </tr>\n",
       "  </thead>\n",
       "  <tbody>\n",
       "    <tr>\n",
       "      <th>0</th>\n",
       "      <td>Авиамоторная</td>\n",
       "      <td>Калининская</td>\n",
       "      <td>8.1</td>\n",
       "      <td>2</td>\n",
       "      <td>2</td>\n",
       "      <td>55.751933</td>\n",
       "      <td>37.717444</td>\n",
       "    </tr>\n",
       "    <tr>\n",
       "      <th>1</th>\n",
       "      <td>Автозаводская</td>\n",
       "      <td>Замоскворецкая</td>\n",
       "      <td>2.2</td>\n",
       "      <td>4</td>\n",
       "      <td>4</td>\n",
       "      <td>55.706634</td>\n",
       "      <td>37.657008</td>\n",
       "    </tr>\n",
       "    <tr>\n",
       "      <th>2</th>\n",
       "      <td>Академическая</td>\n",
       "      <td>Калужско-Рижская</td>\n",
       "      <td>6.3</td>\n",
       "      <td>3</td>\n",
       "      <td>3</td>\n",
       "      <td>55.687147</td>\n",
       "      <td>37.572300</td>\n",
       "    </tr>\n",
       "    <tr>\n",
       "      <th>3</th>\n",
       "      <td>Алексеевская</td>\n",
       "      <td>Калужско-Рижская</td>\n",
       "      <td>6.8</td>\n",
       "      <td>7</td>\n",
       "      <td>7</td>\n",
       "      <td>55.807794</td>\n",
       "      <td>37.638699</td>\n",
       "    </tr>\n",
       "    <tr>\n",
       "      <th>4</th>\n",
       "      <td>Алтуфьево</td>\n",
       "      <td>Серпуховско-Тимирязевская</td>\n",
       "      <td>9.9</td>\n",
       "      <td>2</td>\n",
       "      <td>2</td>\n",
       "      <td>55.899034</td>\n",
       "      <td>37.586473</td>\n",
       "    </tr>\n",
       "  </tbody>\n",
       "</table>\n",
       "</div>"
      ],
      "text/plain": [
       "  address.metro.station_name    address.metro.line_name  \\\n",
       "0               Авиамоторная                Калининская   \n",
       "1              Автозаводская             Замоскворецкая   \n",
       "2              Академическая           Калужско-Рижская   \n",
       "3               Алексеевская           Калужско-Рижская   \n",
       "4                  Алтуфьево  Серпуховско-Тимирязевская   \n",
       "\n",
       "  address.metro.station_id  index  id  address.metro.lat  address.metro.lng  \n",
       "0                      8.1      2   2          55.751933          37.717444  \n",
       "1                      2.2      4   4          55.706634          37.657008  \n",
       "2                      6.3      3   3          55.687147          37.572300  \n",
       "3                      6.8      7   7          55.807794          37.638699  \n",
       "4                      9.9      2   2          55.899034          37.586473  "
      ]
     },
     "execution_count": 276,
     "metadata": {},
     "output_type": "execute_result"
    }
   ],
   "source": [
    "vac_grouped.head()\n",
    "vac_grouped.rename(columns={\"address.metro.station_name\": \"Название станции\", \"address.metro.line_name\": \"Название ветки\", \"id\":\"Количество предложений\", \"address.metro.lat\":\"Широта\", \"address.metro.lng\":\"Долгота\"})"
   ]
  },
  {
   "cell_type": "code",
   "execution_count": 294,
   "metadata": {},
   "outputs": [
    {
     "data": {
      "application/vnd.plotly.v1+json": {
       "config": {
        "plotlyServerURL": "https://plot.ly"
       },
       "data": [
        {
         "hovertemplate": "address.metro.line_name=Филевская<br>size=%{marker.size}<br>address.metro.lat=%{lat}<br>address.metro.lng=%{lon}<extra></extra>",
         "lat": [
          55.740544,
          55.740544,
          55.749083,
          55.740544,
          55.743168,
          55.740544,
          55.740544,
          55.750243,
          55.749083,
          55.750243,
          55.740544,
          55.740544,
          55.740544,
          55.740544,
          55.740544,
          55.740544,
          55.740544,
          55.740544,
          55.740544,
          55.750243,
          55.750243,
          55.740544,
          55.750243,
          55.750243,
          55.750243,
          55.750243,
          55.750243,
          55.740544,
          55.740544,
          55.740544,
          55.750243,
          55.750243,
          55.750243,
          55.750243,
          55.740544,
          55.740544,
          55.750243,
          55.750243,
          55.750243,
          55.740544,
          55.750243,
          55.740544,
          55.740544,
          55.748324,
          55.752122,
          55.740544,
          55.750243,
          55.748324,
          55.748324,
          55.750243,
          55.740544,
          55.748324,
          55.750243,
          55.750243
         ],
         "legendgroup": "Филевская",
         "lon": [
          37.5341,
          37.5341,
          37.582173,
          37.5341,
          37.565425,
          37.5341,
          37.5341,
          37.542641,
          37.582173,
          37.542641,
          37.5341,
          37.5341,
          37.5341,
          37.5341,
          37.5341,
          37.5341,
          37.5341,
          37.5341,
          37.5341,
          37.542641,
          37.542641,
          37.5341,
          37.542641,
          37.542641,
          37.542641,
          37.542641,
          37.542641,
          37.5341,
          37.5341,
          37.5341,
          37.542641,
          37.542641,
          37.542641,
          37.542641,
          37.5341,
          37.5341,
          37.542641,
          37.542641,
          37.542641,
          37.5341,
          37.542641,
          37.5341,
          37.5341,
          37.533282,
          37.601553,
          37.5341,
          37.542641,
          37.533282,
          37.533282,
          37.542641,
          37.5341,
          37.533282,
          37.542641,
          37.542641
         ],
         "marker": {
          "color": "#636efa",
          "size": [
           35,
           35,
           6,
           35,
           14,
           35,
           35,
           21,
           6,
           21,
           35,
           35,
           35,
           35,
           35,
           35,
           35,
           35,
           35,
           21,
           21,
           35,
           21,
           21,
           21,
           21,
           21,
           35,
           35,
           35,
           21,
           21,
           21,
           21,
           35,
           35,
           21,
           21,
           21,
           35,
           21,
           35,
           35,
           4,
           6,
           35,
           21,
           4,
           4,
           21,
           35,
           4,
           21,
           21
          ],
          "sizemode": "area",
          "sizeref": 0.14
         },
         "mode": "markers",
         "name": "Филевская",
         "showlegend": true,
         "subplot": "mapbox",
         "type": "scattermapbox"
        },
        {
         "hovertemplate": "address.metro.line_name=Замоскворецкая<br>size=%{marker.size}<br>address.metro.lat=%{lat}<br>address.metro.lng=%{lon}<extra></extra>",
         "lat": [
          55.789704,
          55.800441,
          55.800441,
          55.777439,
          55.777439,
          55.777439,
          55.695,
          55.769808,
          55.695,
          55.818923,
          55.800441,
          55.818923,
          55.769808,
          55.729741,
          55.695,
          55.800441,
          55.789704,
          55.695,
          55.838978,
          55.805564,
          55.789704,
          55.610131,
          55.789704,
          55.729741,
          55.800441,
          55.800441,
          55.777439,
          55.838978,
          55.8651,
          55.695,
          55.777439,
          55.838978,
          55.777439,
          55.777439,
          55.695,
          55.789704,
          55.777439,
          55.800441,
          55.800441,
          55.800441,
          55.729741,
          55.695,
          55.695,
          55.777439,
          55.800441,
          55.800441,
          55.769808,
          55.800441,
          55.789704,
          55.800441,
          55.695,
          55.706634,
          55.789704,
          55.729741,
          55.789704,
          55.695,
          55.800441,
          55.729741,
          55.789704,
          55.789704,
          55.695,
          55.789704,
          55.777439,
          55.729741,
          55.729741,
          55.706634,
          55.789704,
          55.800441,
          55.695,
          55.777439,
          55.777439,
          55.777439,
          55.729741,
          55.838978,
          55.838978,
          55.695,
          55.729741,
          55.695,
          55.695,
          55.695,
          55.777439,
          55.777439,
          55.729741,
          55.695,
          55.769808,
          55.838978,
          55.838978,
          55.800441,
          55.838978,
          55.695,
          55.729741,
          55.742391,
          55.695,
          55.729741,
          55.769808,
          55.800441,
          55.838978,
          55.742391,
          55.789704,
          55.777439,
          55.729741,
          55.729741,
          55.777439,
          55.729741,
          55.777439,
          55.729741,
          55.729741,
          55.695,
          55.777439,
          55.695,
          55.695,
          55.695,
          55.695,
          55.789704,
          55.838978,
          55.838978,
          55.695,
          55.695,
          55.695,
          55.8651,
          55.695,
          55.769808,
          55.695,
          55.695,
          55.695,
          55.742391,
          55.695,
          55.695,
          55.777439,
          55.636107,
          55.695,
          55.777439,
          55.636107,
          55.695,
          55.695,
          55.838978,
          55.695,
          55.695,
          55.777439,
          55.777439,
          55.800441,
          55.777439,
          55.777439,
          55.777439,
          55.777439,
          55.695,
          55.777439,
          55.777439,
          55.777439,
          55.777439,
          55.777439,
          55.838978,
          55.777439,
          55.777439,
          55.838978,
          55.695,
          55.729741,
          55.789704,
          55.789704,
          55.8651,
          55.777439,
          55.695,
          55.695,
          55.695,
          55.777439,
          55.838978,
          55.695,
          55.838978,
          55.729741,
          55.695,
          55.695,
          55.769808,
          55.800441,
          55.695,
          55.789704,
          55.777439,
          55.695,
          55.838978,
          55.789704,
          55.789704,
          55.777439,
          55.838978,
          55.838978,
          55.838978,
          55.800441,
          55.838978,
          55.765343,
          55.777439,
          55.729741,
          55.777439,
          55.800441,
          55.742391,
          55.742391,
          55.789704,
          55.838978,
          55.838978,
          55.800441,
          55.789704,
          55.729741,
          55.706634,
          55.742391,
          55.695,
          55.777439,
          55.789704,
          55.800441,
          55.729741,
          55.789704,
          55.706634,
          55.769808,
          55.695,
          55.729741,
          55.789704,
          55.8651,
          55.8651
         ],
         "legendgroup": "Замоскворецкая",
         "lon": [
          37.558212,
          37.530477,
          37.530477,
          37.582107,
          37.582107,
          37.582107,
          37.664167,
          37.596192,
          37.664167,
          37.497791,
          37.530477,
          37.497791,
          37.596192,
          37.638693,
          37.664167,
          37.530477,
          37.558212,
          37.664167,
          37.487515,
          37.515245,
          37.558212,
          37.717111,
          37.558212,
          37.638693,
          37.530477,
          37.530477,
          37.582107,
          37.487515,
          37.4764,
          37.664167,
          37.582107,
          37.487515,
          37.582107,
          37.582107,
          37.664167,
          37.558212,
          37.582107,
          37.530477,
          37.530477,
          37.530477,
          37.638693,
          37.664167,
          37.664167,
          37.582107,
          37.530477,
          37.530477,
          37.596192,
          37.530477,
          37.558212,
          37.530477,
          37.664167,
          37.657008,
          37.558212,
          37.638693,
          37.558212,
          37.664167,
          37.530477,
          37.638693,
          37.558212,
          37.558212,
          37.664167,
          37.558212,
          37.582107,
          37.638693,
          37.638693,
          37.657008,
          37.558212,
          37.530477,
          37.664167,
          37.582107,
          37.582107,
          37.582107,
          37.638693,
          37.487515,
          37.487515,
          37.664167,
          37.638693,
          37.664167,
          37.664167,
          37.664167,
          37.582107,
          37.582107,
          37.638693,
          37.664167,
          37.596192,
          37.487515,
          37.487515,
          37.530477,
          37.487515,
          37.664167,
          37.638693,
          37.62928,
          37.664167,
          37.638693,
          37.596192,
          37.530477,
          37.487515,
          37.62928,
          37.558212,
          37.582107,
          37.638693,
          37.638693,
          37.582107,
          37.638693,
          37.582107,
          37.638693,
          37.638693,
          37.664167,
          37.582107,
          37.664167,
          37.664167,
          37.664167,
          37.664167,
          37.558212,
          37.487515,
          37.487515,
          37.664167,
          37.664167,
          37.664167,
          37.4764,
          37.664167,
          37.596192,
          37.664167,
          37.664167,
          37.664167,
          37.62928,
          37.664167,
          37.664167,
          37.582107,
          37.656218,
          37.664167,
          37.582107,
          37.656218,
          37.664167,
          37.664167,
          37.487515,
          37.664167,
          37.664167,
          37.582107,
          37.582107,
          37.530477,
          37.582107,
          37.582107,
          37.582107,
          37.582107,
          37.664167,
          37.582107,
          37.582107,
          37.582107,
          37.582107,
          37.582107,
          37.487515,
          37.582107,
          37.582107,
          37.487515,
          37.664167,
          37.638693,
          37.558212,
          37.558212,
          37.4764,
          37.582107,
          37.664167,
          37.664167,
          37.664167,
          37.582107,
          37.487515,
          37.664167,
          37.487515,
          37.638693,
          37.664167,
          37.664167,
          37.596192,
          37.530477,
          37.664167,
          37.558212,
          37.582107,
          37.664167,
          37.487515,
          37.558212,
          37.558212,
          37.582107,
          37.487515,
          37.487515,
          37.487515,
          37.530477,
          37.487515,
          37.603918,
          37.582107,
          37.638693,
          37.582107,
          37.530477,
          37.62928,
          37.62928,
          37.558212,
          37.487515,
          37.487515,
          37.530477,
          37.558212,
          37.638693,
          37.657008,
          37.62928,
          37.664167,
          37.582107,
          37.558212,
          37.530477,
          37.638693,
          37.558212,
          37.657008,
          37.596192,
          37.664167,
          37.638693,
          37.558212,
          37.4764,
          37.4764
         ],
         "marker": {
          "color": "#EF553B",
          "size": [
           24,
           23,
           23,
           56,
           56,
           56,
           50,
           8,
           50,
           2,
           23,
           2,
           8,
           23,
           50,
           23,
           24,
           50,
           23,
           1,
           24,
           1,
           24,
           23,
           23,
           23,
           56,
           23,
           5,
           50,
           56,
           23,
           56,
           56,
           50,
           24,
           56,
           23,
           23,
           23,
           23,
           50,
           50,
           56,
           23,
           23,
           8,
           23,
           24,
           23,
           50,
           4,
           24,
           23,
           24,
           50,
           23,
           23,
           24,
           24,
           50,
           24,
           56,
           23,
           23,
           4,
           24,
           23,
           50,
           56,
           56,
           56,
           23,
           23,
           23,
           50,
           23,
           50,
           50,
           50,
           56,
           56,
           23,
           50,
           8,
           23,
           23,
           23,
           23,
           50,
           23,
           6,
           50,
           23,
           8,
           23,
           23,
           6,
           24,
           56,
           23,
           23,
           56,
           23,
           56,
           23,
           23,
           50,
           56,
           50,
           50,
           50,
           50,
           24,
           23,
           23,
           50,
           50,
           50,
           5,
           50,
           8,
           50,
           50,
           50,
           6,
           50,
           50,
           56,
           2,
           50,
           56,
           2,
           50,
           50,
           23,
           50,
           50,
           56,
           56,
           23,
           56,
           56,
           56,
           56,
           50,
           56,
           56,
           56,
           56,
           56,
           23,
           56,
           56,
           23,
           50,
           23,
           24,
           24,
           5,
           56,
           50,
           50,
           50,
           56,
           23,
           50,
           23,
           23,
           50,
           50,
           8,
           23,
           50,
           24,
           56,
           50,
           23,
           24,
           24,
           56,
           23,
           23,
           23,
           23,
           23,
           1,
           56,
           23,
           56,
           23,
           6,
           6,
           24,
           23,
           23,
           23,
           24,
           23,
           4,
           6,
           50,
           56,
           24,
           23,
           23,
           24,
           4,
           8,
           50,
           23,
           24,
           5,
           5
          ],
          "sizemode": "area",
          "sizeref": 0.14
         },
         "mode": "markers",
         "name": "Замоскворецкая",
         "showlegend": true,
         "subplot": "mapbox",
         "type": "scattermapbox"
        },
        {
         "hovertemplate": "address.metro.line_name=Арбатско-Покровская<br>size=%{marker.size}<br>address.metro.lat=%{lat}<br>address.metro.lng=%{lon}<extra></extra>",
         "lat": [
          55.772405,
          55.772405,
          55.741375,
          55.758564,
          55.772405,
          55.747713,
          55.729542,
          55.729542,
          55.743117,
          55.729542,
          55.772405,
          55.772405,
          55.772405,
          55.782057,
          55.756842,
          55.735679,
          55.772405,
          55.735679,
          55.758564,
          55.756842,
          55.747713,
          55.743117,
          55.803831,
          55.735679,
          55.743117,
          55.823342,
          55.823342,
          55.823342,
          55.756842,
          55.772405,
          55.752312,
          55.823342,
          55.772405,
          55.758564,
          55.756842,
          55.758564,
          55.758564,
          55.772405,
          55.772405,
          55.772405,
          55.772405,
          55.772405,
          55.729542,
          55.772405,
          55.756842,
          55.772405,
          55.752312,
          55.772405,
          55.758564,
          55.772405,
          55.741375,
          55.752312,
          55.758564,
          55.823342,
          55.772405,
          55.730673,
          55.782057,
          55.743117,
          55.743117,
          55.752312,
          55.747713,
          55.823342,
          55.823342,
          55.823342,
          55.772405,
          55.743117,
          55.743117,
          55.743117,
          55.743117,
          55.735679,
          55.772405,
          55.772405,
          55.772405,
          55.747713,
          55.772405,
          55.758564,
          55.772405,
          55.772405,
          55.772405,
          55.772405,
          55.772405,
          55.772405,
          55.772405,
          55.730673,
          55.823342,
          55.783096,
          55.772405,
          55.772405,
          55.772405,
          55.823342,
          55.823342,
          55.741375,
          55.772405,
          55.756842,
          55.752312,
          55.741375,
          55.772405
         ],
         "legendgroup": "Арбатско-Покровская",
         "lon": [
          37.67904,
          37.67904,
          37.415627,
          37.659039,
          37.67904,
          37.583802,
          37.470973,
          37.470973,
          37.564132,
          37.470973,
          37.67904,
          37.67904,
          37.67904,
          37.7053,
          37.408139,
          37.516865,
          37.67904,
          37.516865,
          37.659039,
          37.408139,
          37.583802,
          37.564132,
          37.402405,
          37.516865,
          37.564132,
          37.385214,
          37.385214,
          37.385214,
          37.408139,
          37.67904,
          37.60349,
          37.385214,
          37.67904,
          37.659039,
          37.408139,
          37.659039,
          37.659039,
          37.67904,
          37.67904,
          37.67904,
          37.67904,
          37.67904,
          37.470973,
          37.67904,
          37.408139,
          37.67904,
          37.60349,
          37.67904,
          37.659039,
          37.67904,
          37.415627,
          37.60349,
          37.659039,
          37.385214,
          37.67904,
          37.446522,
          37.7053,
          37.564132,
          37.564132,
          37.60349,
          37.583802,
          37.385214,
          37.385214,
          37.385214,
          37.67904,
          37.564132,
          37.564132,
          37.564132,
          37.564132,
          37.516865,
          37.67904,
          37.67904,
          37.67904,
          37.583802,
          37.67904,
          37.659039,
          37.67904,
          37.67904,
          37.67904,
          37.67904,
          37.67904,
          37.67904,
          37.67904,
          37.446522,
          37.385214,
          37.719289,
          37.67904,
          37.67904,
          37.67904,
          37.385214,
          37.385214,
          37.415627,
          37.67904,
          37.408139,
          37.60349,
          37.415627,
          37.67904
         ],
         "marker": {
          "color": "#00cc96",
          "size": [
           36,
           36,
           4,
           10,
           36,
           6,
           4,
           4,
           14,
           4,
           36,
           36,
           36,
           2,
           6,
           4,
           36,
           4,
           10,
           6,
           6,
           14,
           1,
           4,
           14,
           11,
           11,
           11,
           6,
           36,
           6,
           11,
           36,
           10,
           6,
           10,
           10,
           36,
           36,
           36,
           36,
           36,
           4,
           36,
           6,
           36,
           6,
           36,
           10,
           36,
           4,
           6,
           10,
           11,
           36,
           2,
           2,
           14,
           14,
           6,
           6,
           11,
           11,
           11,
           36,
           14,
           14,
           14,
           14,
           4,
           36,
           36,
           36,
           6,
           36,
           10,
           36,
           36,
           36,
           36,
           36,
           36,
           36,
           2,
           11,
           1,
           36,
           36,
           36,
           11,
           11,
           4,
           36,
           6,
           6,
           4,
           36
          ],
          "sizemode": "area",
          "sizeref": 0.14
         },
         "mode": "markers",
         "name": "Арбатско-Покровская",
         "showlegend": true,
         "subplot": "mapbox",
         "type": "scattermapbox"
        },
        {
         "hovertemplate": "address.metro.line_name=Серпуховско-Тимирязевская<br>size=%{marker.size}<br>address.metro.lat=%{lat}<br>address.metro.lng=%{lon}<extra></extra>",
         "lat": [
          55.794054,
          55.794054,
          55.808056,
          55.70961,
          55.568201,
          55.771653,
          55.726548,
          55.794054,
          55.726548,
          55.794054,
          55.610962,
          55.70961,
          55.794054,
          55.568201,
          55.70961,
          55.682099,
          55.70961,
          55.640538,
          55.808056,
          55.864273,
          55.70961,
          55.808056,
          55.808056,
          55.808056,
          55.808056,
          55.794054,
          55.662379,
          55.808056,
          55.70961,
          55.682099,
          55.682099,
          55.70961,
          55.808056,
          55.568201,
          55.794054,
          55.662379,
          55.568201,
          55.794054,
          55.70961,
          55.70961,
          55.662379,
          55.682099,
          55.662379,
          55.771653,
          55.808056,
          55.794054,
          55.794054,
          55.662379,
          55.794054,
          55.899034,
          55.794054,
          55.808056,
          55.794054,
          55.794054,
          55.81866,
          55.794054,
          55.70961,
          55.70961,
          55.70961,
          55.81866,
          55.736795,
          55.899034,
          55.662379,
          55.70961,
          55.794054,
          55.682099,
          55.808056,
          55.808056,
          55.794054,
          55.682099,
          55.682099,
          55.808056,
          55.771653
         ],
         "legendgroup": "Серпуховско-Тимирязевская",
         "lon": [
          37.587163,
          37.587163,
          37.581734,
          37.622569,
          37.576856,
          37.620466,
          37.624792,
          37.587163,
          37.624792,
          37.587163,
          37.602386,
          37.622569,
          37.587163,
          37.576856,
          37.622569,
          37.620917,
          37.622569,
          37.606065,
          37.581734,
          37.605066,
          37.622569,
          37.581734,
          37.581734,
          37.581734,
          37.581734,
          37.587163,
          37.605274,
          37.581734,
          37.622569,
          37.620917,
          37.620917,
          37.622569,
          37.581734,
          37.576856,
          37.587163,
          37.605274,
          37.576856,
          37.587163,
          37.622569,
          37.622569,
          37.605274,
          37.620917,
          37.605274,
          37.620466,
          37.581734,
          37.587163,
          37.587163,
          37.605274,
          37.587163,
          37.586473,
          37.587163,
          37.581734,
          37.587163,
          37.587163,
          37.574498,
          37.587163,
          37.622569,
          37.622569,
          37.622569,
          37.574498,
          37.618594,
          37.586473,
          37.605274,
          37.622569,
          37.587163,
          37.620917,
          37.581734,
          37.581734,
          37.587163,
          37.620917,
          37.620917,
          37.581734,
          37.620466
         ],
         "marker": {
          "color": "#ab63fa",
          "size": [
           17,
           17,
           14,
           13,
           4,
           3,
           2,
           17,
           2,
           17,
           1,
           13,
           17,
           4,
           13,
           7,
           13,
           1,
           14,
           1,
           13,
           14,
           14,
           14,
           14,
           17,
           6,
           14,
           13,
           7,
           7,
           13,
           14,
           4,
           17,
           6,
           4,
           17,
           13,
           13,
           6,
           7,
           6,
           3,
           14,
           17,
           17,
           6,
           17,
           2,
           17,
           14,
           17,
           17,
           2,
           17,
           13,
           13,
           13,
           2,
           1,
           2,
           6,
           13,
           17,
           7,
           14,
           14,
           17,
           7,
           7,
           14,
           3
          ],
          "sizemode": "area",
          "sizeref": 0.14
         },
         "mode": "markers",
         "name": "Серпуховско-Тимирязевская",
         "showlegend": true,
         "subplot": "mapbox",
         "type": "scattermapbox"
        },
        {
         "hovertemplate": "address.metro.line_name=Таганско-Краснопресненская<br>size=%{marker.size}<br>address.metro.lat=%{lat}<br>address.metro.lng=%{lon}<extra></extra>",
         "lat": [
          55.763944,
          55.773505,
          55.777201,
          55.765607,
          55.763944,
          55.760793,
          55.760793,
          55.760793,
          55.725546,
          55.761498,
          55.859676,
          55.761498,
          55.761498,
          55.793581,
          55.773505,
          55.760793,
          55.760793,
          55.760793,
          55.709211,
          55.709211,
          55.709211,
          55.709211,
          55.709211,
          55.777201,
          55.709211,
          55.761498,
          55.773505,
          55.709211,
          55.709211,
          55.709211,
          55.773505,
          55.765607,
          55.777201,
          55.84926,
          55.84926,
          55.84926,
          55.763944,
          55.763944,
          55.773505,
          55.761498,
          55.777201,
          55.8094
         ],
         "legendgroup": "Таганско-Краснопресненская",
         "lon": [
          37.562271,
          37.545518,
          37.517895,
          37.604356,
          37.562271,
          37.581242,
          37.581242,
          37.581242,
          37.685197,
          37.624423,
          37.436808,
          37.624423,
          37.624423,
          37.493317,
          37.545518,
          37.581242,
          37.581242,
          37.581242,
          37.732117,
          37.732117,
          37.732117,
          37.732117,
          37.732117,
          37.517895,
          37.732117,
          37.624423,
          37.545518,
          37.732117,
          37.732117,
          37.732117,
          37.545518,
          37.604356,
          37.517895,
          37.44076,
          37.44076,
          37.44076,
          37.562271,
          37.562271,
          37.545518,
          37.624423,
          37.517895,
          37.463241
         ],
         "marker": {
          "color": "#FFA15A",
          "size": [
           4,
           5,
           4,
           2,
           4,
           6,
           6,
           6,
           1,
           5,
           1,
           5,
           5,
           1,
           5,
           6,
           6,
           6,
           9,
           9,
           9,
           9,
           9,
           4,
           9,
           5,
           5,
           9,
           9,
           9,
           5,
           2,
           4,
           3,
           3,
           3,
           4,
           4,
           5,
           5,
           4,
           1
          ],
          "sizemode": "area",
          "sizeref": 0.14
         },
         "mode": "markers",
         "name": "Таганско-Краснопресненская",
         "showlegend": true,
         "subplot": "mapbox",
         "type": "scattermapbox"
        },
        {
         "hovertemplate": "address.metro.line_name=Кольцевая<br>size=%{marker.size}<br>address.metro.lat=%{lat}<br>address.metro.lng=%{lon}<extra></extra>",
         "lat": [
          55.74361,
          55.775179,
          55.775179,
          55.779584,
          55.729264,
          55.742396,
          55.775179,
          55.779584,
          55.779584,
          55.775179,
          55.760378,
          55.775179,
          55.779584,
          55.728994,
          55.775179,
          55.728994,
          55.728994,
          55.760378,
          55.760378,
          55.729264,
          55.779606,
          55.779584,
          55.758631,
          55.729264,
          55.74361,
          55.775179,
          55.775179,
          55.775179,
          55.775179,
          55.742396,
          55.735221,
          55.760378,
          55.728994,
          55.728994,
          55.742396,
          55.775179,
          55.775179,
          55.729264,
          55.74361,
          55.775179,
          55.779584,
          55.779606,
          55.728994,
          55.74361,
          55.729264,
          55.735221,
          55.742396,
          55.775179,
          55.735221,
          55.775179
         ],
         "legendgroup": "Кольцевая",
         "lon": [
          37.56735,
          37.582303,
          37.582303,
          37.633646,
          37.611049,
          37.653334,
          37.582303,
          37.633646,
          37.633646,
          37.582303,
          37.577114,
          37.582303,
          37.633646,
          37.622533,
          37.582303,
          37.622533,
          37.622533,
          37.577114,
          37.577114,
          37.611049,
          37.601252,
          37.633646,
          37.661059,
          37.611049,
          37.56735,
          37.582303,
          37.582303,
          37.582303,
          37.582303,
          37.653334,
          37.593095,
          37.577114,
          37.622533,
          37.622533,
          37.653334,
          37.582303,
          37.582303,
          37.611049,
          37.56735,
          37.582303,
          37.633646,
          37.601252,
          37.622533,
          37.56735,
          37.611049,
          37.593095,
          37.653334,
          37.582303,
          37.593095,
          37.582303
         ],
         "marker": {
          "color": "#19d3f3",
          "size": [
           14,
           56,
           56,
           6,
           5,
           4,
           56,
           6,
           6,
           56,
           4,
           56,
           6,
           6,
           56,
           6,
           6,
           4,
           4,
           5,
           2,
           6,
           10,
           5,
           14,
           56,
           56,
           56,
           56,
           4,
           8,
           4,
           6,
           6,
           4,
           56,
           56,
           5,
           14,
           56,
           6,
           2,
           6,
           14,
           5,
           8,
           4,
           56,
           8,
           56
          ],
          "sizemode": "area",
          "sizeref": 0.14
         },
         "mode": "markers",
         "name": "Кольцевая",
         "showlegend": true,
         "subplot": "mapbox",
         "type": "scattermapbox"
        },
        {
         "hovertemplate": "address.metro.line_name=Сокольническая<br>size=%{marker.size}<br>address.metro.lat=%{lat}<br>address.metro.lng=%{lon}<extra></extra>",
         "lat": [
          55.633,
          55.789282,
          55.768307,
          55.796322,
          55.774072,
          55.633,
          55.796322,
          55.633,
          55.745297,
          55.633,
          55.780014,
          55.727462,
          55.633,
          55.774072,
          55.633,
          55.757228,
          55.736163,
          55.796322,
          55.780014,
          55.752123,
          55.633,
          55.796322,
          55.722388,
          55.796322,
          55.745297,
          55.736163,
          55.745297,
          55.796322,
          55.774072,
          55.633,
          55.633,
          55.780014,
          55.780014,
          55.780014,
          55.780014,
          55.796322,
          55.633,
          55.676549,
          55.633,
          55.774072,
          55.633,
          55.633,
          55.633,
          55.796322,
          55.633,
          55.633,
          55.663146,
          55.780014,
          55.736163,
          55.633,
          55.722388,
          55.633,
          55.663146,
          55.736163,
          55.789282,
          55.559765,
          55.745297,
          55.69329,
          55.69329,
          55.796322,
          55.722388,
          55.633,
          55.736163
         ],
         "legendgroup": "Сокольническая",
         "lon": [
          37.4419,
          37.679895,
          37.6478,
          37.713582,
          37.654565,
          37.4419,
          37.713582,
          37.4419,
          37.604217,
          37.4419,
          37.666097,
          37.58022,
          37.4419,
          37.654565,
          37.4419,
          37.615078,
          37.595027,
          37.713582,
          37.666097,
          37.610388,
          37.4419,
          37.713582,
          37.562041,
          37.713582,
          37.604217,
          37.595027,
          37.604217,
          37.713582,
          37.654565,
          37.4419,
          37.4419,
          37.666097,
          37.666097,
          37.666097,
          37.666097,
          37.713582,
          37.4419,
          37.504584,
          37.4419,
          37.654565,
          37.4419,
          37.4419,
          37.4419,
          37.713582,
          37.4419,
          37.4419,
          37.482852,
          37.666097,
          37.595027,
          37.4419,
          37.562041,
          37.4419,
          37.482852,
          37.595027,
          37.679895,
          37.468716,
          37.604217,
          37.534511,
          37.534511,
          37.713582,
          37.562041,
          37.4419,
          37.595027
         ],
         "marker": {
          "color": "#FF6692",
          "size": [
           19,
           2,
           1,
           9,
           4,
           19,
           9,
           19,
           4,
           19,
           7,
           1,
           19,
           4,
           19,
           1,
           8,
           9,
           7,
           1,
           19,
           9,
           3,
           9,
           4,
           8,
           4,
           9,
           4,
           19,
           19,
           7,
           7,
           7,
           7,
           9,
           19,
           1,
           19,
           4,
           19,
           19,
           19,
           9,
           19,
           19,
           2,
           7,
           8,
           19,
           3,
           19,
           2,
           8,
           2,
           1,
           4,
           2,
           2,
           9,
           3,
           19,
           8
          ],
          "sizemode": "area",
          "sizeref": 0.14
         },
         "mode": "markers",
         "name": "Сокольническая",
         "showlegend": true,
         "subplot": "mapbox",
         "type": "scattermapbox"
        },
        {
         "hovertemplate": "address.metro.line_name=Калужско-Рижская<br>size=%{marker.size}<br>address.metro.lat=%{lat}<br>address.metro.lng=%{lon}<extra></extra>",
         "lat": [
          55.656682,
          55.687147,
          55.718828,
          55.677671,
          55.718828,
          55.807794,
          55.677671,
          55.807794,
          55.807794,
          55.656682,
          55.844597,
          55.807794,
          55.772315,
          55.656682,
          55.61873,
          55.656682,
          55.687147,
          55.807794,
          55.844597,
          55.656682,
          55.656682,
          55.70678,
          55.756498,
          55.70678,
          55.70678,
          55.70678,
          55.844597,
          55.656682,
          55.677671,
          55.656682,
          55.687147,
          55.677671,
          55.61873,
          55.772315,
          55.772315,
          55.70678,
          55.718828,
          55.844597,
          55.844597,
          55.870641,
          55.61873,
          55.656682,
          55.70678,
          55.656682,
          55.718828,
          55.844597,
          55.807794,
          55.677671,
          55.807794
         ],
         "legendgroup": "Калужско-Рижская",
         "lon": [
          37.540075,
          37.5723,
          37.607892,
          37.562595,
          37.607892,
          37.638699,
          37.562595,
          37.638699,
          37.638699,
          37.540075,
          37.637811,
          37.638699,
          37.63285,
          37.540075,
          37.505912,
          37.540075,
          37.5723,
          37.638699,
          37.637811,
          37.540075,
          37.540075,
          37.58499,
          37.631326,
          37.58499,
          37.58499,
          37.58499,
          37.637811,
          37.540075,
          37.562595,
          37.540075,
          37.5723,
          37.562595,
          37.505912,
          37.63285,
          37.63285,
          37.58499,
          37.607892,
          37.637811,
          37.637811,
          37.664341,
          37.505912,
          37.540075,
          37.58499,
          37.540075,
          37.607892,
          37.637811,
          37.638699,
          37.562595,
          37.638699
         ],
         "marker": {
          "color": "#B6E880",
          "size": [
           10,
           3,
           4,
           5,
           4,
           7,
           5,
           7,
           7,
           10,
           6,
           7,
           3,
           10,
           3,
           10,
           3,
           7,
           6,
           10,
           10,
           6,
           1,
           6,
           6,
           6,
           6,
           10,
           5,
           10,
           3,
           5,
           3,
           3,
           3,
           6,
           4,
           6,
           6,
           1,
           3,
           10,
           6,
           10,
           4,
           6,
           7,
           5,
           7
          ],
          "sizemode": "area",
          "sizeref": 0.14
         },
         "mode": "markers",
         "name": "Калужско-Рижская",
         "showlegend": true,
         "subplot": "mapbox",
         "type": "scattermapbox"
        },
        {
         "hovertemplate": "address.metro.line_name=МЦК<br>size=%{marker.size}<br>address.metro.lat=%{lat}<br>address.metro.lng=%{lon}<extra></extra>",
         "lat": [
          55.825833,
          55.747222,
          55.740833,
          55.740833,
          55.825833,
          55.740833,
          55.740833,
          55.740833,
          55.740833,
          55.740833,
          55.69,
          55.825833,
          55.720278,
          55.69,
          55.720278,
          55.740833,
          55.799167,
          55.788611,
          55.720278,
          55.799167,
          55.787778,
          55.825833,
          55.740833,
          55.740833,
          55.720278,
          55.698333,
          55.741111
         ],
         "legendgroup": "МЦК",
         "lon": [
          37.496111,
          37.532222,
          37.533333,
          37.533333,
          37.496111,
          37.533333,
          37.533333,
          37.533333,
          37.533333,
          37.533333,
          37.618889,
          37.496111,
          37.563056,
          37.618889,
          37.563056,
          37.533333,
          37.498889,
          37.742778,
          37.563056,
          37.498889,
          37.504444,
          37.496111,
          37.533333,
          37.533333,
          37.563056,
          37.648333,
          37.734444
         ],
         "marker": {
          "color": "#FF97FF",
          "size": [
           4,
           17,
           35,
           35,
           4,
           35,
           35,
           35,
           35,
           35,
           2,
           4,
           4,
           2,
           4,
           35,
           2,
           1,
           4,
           2,
           1,
           4,
           35,
           35,
           4,
           1,
           1
          ],
          "sizemode": "area",
          "sizeref": 0.14
         },
         "mode": "markers",
         "name": "МЦК",
         "showlegend": true,
         "subplot": "mapbox",
         "type": "scattermapbox"
        },
        {
         "hovertemplate": "address.metro.line_name=Большая кольцевая линия<br>size=%{marker.size}<br>address.metro.lat=%{lat}<br>address.metro.lng=%{lon}<extra></extra>",
         "lat": [
          55.7491,
          55.7491,
          55.7491,
          55.7491,
          55.7491,
          55.7491,
          55.7491,
          55.7491,
          55.7491,
          55.7491,
          55.7491,
          55.7491,
          55.75723,
          55.7491,
          55.75723,
          55.7491,
          55.7491,
          55.7491
         ],
         "legendgroup": "Большая кольцевая линия",
         "lon": [
          37.5395,
          37.5395,
          37.5395,
          37.5395,
          37.5395,
          37.5395,
          37.5395,
          37.5395,
          37.5395,
          37.5395,
          37.5395,
          37.5395,
          37.52571,
          37.5395,
          37.52571,
          37.5395,
          37.5395,
          37.5395
         ],
         "marker": {
          "color": "#FECB52",
          "size": [
           17,
           17,
           17,
           17,
           17,
           17,
           17,
           17,
           17,
           17,
           17,
           17,
           2,
           17,
           2,
           17,
           17,
           17
          ],
          "sizemode": "area",
          "sizeref": 0.14
         },
         "mode": "markers",
         "name": "Большая кольцевая линия",
         "showlegend": true,
         "subplot": "mapbox",
         "type": "scattermapbox"
        },
        {
         "hovertemplate": "address.metro.line_name=МЦД - 2<br>size=%{marker.size}<br>address.metro.lat=%{lat}<br>address.metro.lng=%{lon}<extra></extra>",
         "lat": [
          55.814247,
          55.814247,
          55.745358,
          55.757622,
          55.808056
         ],
         "legendgroup": "МЦД - 2",
         "lon": [
          37.47678,
          37.47678,
          37.688839,
          37.660767,
          37.581734
         ],
         "marker": {
          "color": "#636efa",
          "size": [
           2,
           2,
           1,
           10,
           14
          ],
          "sizemode": "area",
          "sizeref": 0.14
         },
         "mode": "markers",
         "name": "МЦД - 2",
         "showlegend": true,
         "subplot": "mapbox",
         "type": "scattermapbox"
        },
        {
         "hovertemplate": "address.metro.line_name=Люблинско-Дмитровская<br>size=%{marker.size}<br>address.metro.lat=%{lat}<br>address.metro.lng=%{lon}<extra></extra>",
         "lat": [
          55.848889,
          55.848889,
          55.813333,
          55.793723,
          55.793723,
          55.732278,
          55.732278,
          55.793723,
          55.781667,
          55.793723,
          55.766106,
          55.766106,
          55.766106,
          55.71807,
          55.848889,
          55.766106,
          55.781667,
          55.793723,
          55.706156,
          55.813333,
          55.781667,
          55.793723,
          55.732278,
          55.793723
         ],
         "legendgroup": "Люблинско-Дмитровская",
         "lon": [
          37.571111,
          37.571111,
          37.602778,
          37.61618,
          37.61618,
          37.665325,
          37.665325,
          37.61618,
          37.613889,
          37.61618,
          37.635688,
          37.635688,
          37.635688,
          37.676259,
          37.571111,
          37.635688,
          37.613889,
          37.61618,
          37.68544,
          37.602778,
          37.613889,
          37.61618,
          37.665325,
          37.61618
         ],
         "marker": {
          "color": "#EF553B",
          "size": [
           3,
           3,
           2,
           7,
           7,
           3,
           3,
           7,
           3,
           7,
           4,
           4,
           4,
           1,
           3,
           4,
           3,
           7,
           1,
           2,
           3,
           7,
           3,
           7
          ],
          "sizemode": "area",
          "sizeref": 0.14
         },
         "mode": "markers",
         "name": "Люблинско-Дмитровская",
         "showlegend": true,
         "subplot": "mapbox",
         "type": "scattermapbox"
        },
        {
         "hovertemplate": "address.metro.line_name=МЦД - 1<br>size=%{marker.size}<br>address.metro.lat=%{lat}<br>address.metro.lng=%{lon}<extra></extra>",
         "lat": [
          55.666801,
          55.723713,
          55.723713,
          55.723713,
          55.754292,
          55.754292,
          55.754292,
          55.754292,
          56.0048
         ],
         "legendgroup": "МЦД - 1",
         "lon": [
          37.424618,
          37.397259,
          37.397259,
          37.397259,
          37.531551,
          37.531551,
          37.531551,
          37.531551,
          37.29057
         ],
         "marker": {
          "color": "#00cc96",
          "size": [
           1,
           3,
           3,
           3,
           4,
           4,
           4,
           4,
           1
          ],
          "sizemode": "area",
          "sizeref": 0.14
         },
         "mode": "markers",
         "name": "МЦД - 1",
         "showlegend": true,
         "subplot": "mapbox",
         "type": "scattermapbox"
        },
        {
         "hovertemplate": "address.metro.line_name=Московско-Петроградская<br>size=%{marker.size}<br>address.metro.lat=%{lat}<br>address.metro.lng=%{lon}<extra></extra>",
         "lat": [
          59.956112,
          59.956112,
          59.966389
         ],
         "legendgroup": "Московско-Петроградская",
         "lon": [
          30.31889,
          30.31889,
          30.311293
         ],
         "marker": {
          "color": "#ab63fa",
          "size": [
           2,
           2,
           1
          ],
          "sizemode": "area",
          "sizeref": 0.14
         },
         "mode": "markers",
         "name": "Московско-Петроградская",
         "showlegend": true,
         "subplot": "mapbox",
         "type": "scattermapbox"
        },
        {
         "hovertemplate": "address.metro.line_name=Калининская<br>size=%{marker.size}<br>address.metro.lat=%{lat}<br>address.metro.lng=%{lon}<extra></extra>",
         "lat": [
          55.740746,
          55.740746,
          55.751933,
          55.740746,
          55.747115,
          55.751933,
          55.75809,
          55.75809,
          55.747115,
          55.75809
         ],
         "legendgroup": "Калининская",
         "lon": [
          37.65604,
          37.65604,
          37.717444,
          37.65604,
          37.680726,
          37.717444,
          37.751703,
          37.751703,
          37.680726,
          37.751703
         ],
         "marker": {
          "color": "#FFA15A",
          "size": [
           3,
           3,
           2,
           3,
           2,
           2,
           3,
           3,
           2,
           3
          ],
          "sizemode": "area",
          "sizeref": 0.14
         },
         "mode": "markers",
         "name": "Калининская",
         "showlegend": true,
         "subplot": "mapbox",
         "type": "scattermapbox"
        },
        {
         "hovertemplate": "address.metro.line_name=Бутовская<br>size=%{marker.size}<br>address.metro.lat=%{lat}<br>address.metro.lng=%{lon}<extra></extra>",
         "lat": [
          55.545207,
          55.545207,
          55.545207
         ],
         "legendgroup": "Бутовская",
         "lon": [
          37.542329,
          37.542329,
          37.542329
         ],
         "marker": {
          "color": "#19d3f3",
          "size": [
           3,
           3,
           3
          ],
          "sizemode": "area",
          "sizeref": 0.14
         },
         "mode": "markers",
         "name": "Бутовская",
         "showlegend": true,
         "subplot": "mapbox",
         "type": "scattermapbox"
        },
        {
         "hovertemplate": "address.metro.line_name=Солнцевская<br>size=%{marker.size}<br>address.metro.lat=%{lat}<br>address.metro.lng=%{lon}<extra></extra>",
         "lat": [
          55.7232,
          55.7232,
          55.7232,
          55.6961,
          55.647,
          55.6588,
          55.7055
         ],
         "legendgroup": "Солнцевская",
         "lon": [
          37.5038,
          37.5038,
          37.5038,
          37.505,
          37.3701,
          37.4174,
          37.5225
         ],
         "marker": {
          "color": "#FF6692",
          "size": [
           3,
           3,
           3,
           1,
           1,
           1,
           1
          ],
          "sizemode": "area",
          "sizeref": 0.14
         },
         "mode": "markers",
         "name": "Солнцевская",
         "showlegend": true,
         "subplot": "mapbox",
         "type": "scattermapbox"
        },
        {
         "hovertemplate": "address.metro.line_name=Каховская<br>size=%{marker.size}<br>address.metro.lat=%{lat}<br>address.metro.lng=%{lon}<extra></extra>",
         "lat": [
          55.652923
         ],
         "legendgroup": "Каховская",
         "lon": [
          37.596573
         ],
         "marker": {
          "color": "#B6E880",
          "size": [
           1
          ],
          "sizemode": "area",
          "sizeref": 0.14
         },
         "mode": "markers",
         "name": "Каховская",
         "showlegend": true,
         "subplot": "mapbox",
         "type": "scattermapbox"
        }
       ],
       "layout": {
        "legend": {
         "itemsizing": "constant",
         "title": {
          "text": "address.metro.line_name"
         },
         "tracegroupgap": 0
        },
        "mapbox": {
         "center": {
          "lat": 55.76826045660903,
          "lon": 37.55288216288387
         },
         "domain": {
          "x": [
           0,
           1
          ],
          "y": [
           0,
           1
          ]
         },
         "style": "stamen-terrain",
         "zoom": 8
        },
        "margin": {
         "t": 60
        },
        "template": {
         "data": {
          "bar": [
           {
            "error_x": {
             "color": "#2a3f5f"
            },
            "error_y": {
             "color": "#2a3f5f"
            },
            "marker": {
             "line": {
              "color": "#E5ECF6",
              "width": 0.5
             },
             "pattern": {
              "fillmode": "overlay",
              "size": 10,
              "solidity": 0.2
             }
            },
            "type": "bar"
           }
          ],
          "barpolar": [
           {
            "marker": {
             "line": {
              "color": "#E5ECF6",
              "width": 0.5
             },
             "pattern": {
              "fillmode": "overlay",
              "size": 10,
              "solidity": 0.2
             }
            },
            "type": "barpolar"
           }
          ],
          "carpet": [
           {
            "aaxis": {
             "endlinecolor": "#2a3f5f",
             "gridcolor": "white",
             "linecolor": "white",
             "minorgridcolor": "white",
             "startlinecolor": "#2a3f5f"
            },
            "baxis": {
             "endlinecolor": "#2a3f5f",
             "gridcolor": "white",
             "linecolor": "white",
             "minorgridcolor": "white",
             "startlinecolor": "#2a3f5f"
            },
            "type": "carpet"
           }
          ],
          "choropleth": [
           {
            "colorbar": {
             "outlinewidth": 0,
             "ticks": ""
            },
            "type": "choropleth"
           }
          ],
          "contour": [
           {
            "colorbar": {
             "outlinewidth": 0,
             "ticks": ""
            },
            "colorscale": [
             [
              0,
              "#0d0887"
             ],
             [
              0.1111111111111111,
              "#46039f"
             ],
             [
              0.2222222222222222,
              "#7201a8"
             ],
             [
              0.3333333333333333,
              "#9c179e"
             ],
             [
              0.4444444444444444,
              "#bd3786"
             ],
             [
              0.5555555555555556,
              "#d8576b"
             ],
             [
              0.6666666666666666,
              "#ed7953"
             ],
             [
              0.7777777777777778,
              "#fb9f3a"
             ],
             [
              0.8888888888888888,
              "#fdca26"
             ],
             [
              1,
              "#f0f921"
             ]
            ],
            "type": "contour"
           }
          ],
          "contourcarpet": [
           {
            "colorbar": {
             "outlinewidth": 0,
             "ticks": ""
            },
            "type": "contourcarpet"
           }
          ],
          "heatmap": [
           {
            "colorbar": {
             "outlinewidth": 0,
             "ticks": ""
            },
            "colorscale": [
             [
              0,
              "#0d0887"
             ],
             [
              0.1111111111111111,
              "#46039f"
             ],
             [
              0.2222222222222222,
              "#7201a8"
             ],
             [
              0.3333333333333333,
              "#9c179e"
             ],
             [
              0.4444444444444444,
              "#bd3786"
             ],
             [
              0.5555555555555556,
              "#d8576b"
             ],
             [
              0.6666666666666666,
              "#ed7953"
             ],
             [
              0.7777777777777778,
              "#fb9f3a"
             ],
             [
              0.8888888888888888,
              "#fdca26"
             ],
             [
              1,
              "#f0f921"
             ]
            ],
            "type": "heatmap"
           }
          ],
          "heatmapgl": [
           {
            "colorbar": {
             "outlinewidth": 0,
             "ticks": ""
            },
            "colorscale": [
             [
              0,
              "#0d0887"
             ],
             [
              0.1111111111111111,
              "#46039f"
             ],
             [
              0.2222222222222222,
              "#7201a8"
             ],
             [
              0.3333333333333333,
              "#9c179e"
             ],
             [
              0.4444444444444444,
              "#bd3786"
             ],
             [
              0.5555555555555556,
              "#d8576b"
             ],
             [
              0.6666666666666666,
              "#ed7953"
             ],
             [
              0.7777777777777778,
              "#fb9f3a"
             ],
             [
              0.8888888888888888,
              "#fdca26"
             ],
             [
              1,
              "#f0f921"
             ]
            ],
            "type": "heatmapgl"
           }
          ],
          "histogram": [
           {
            "marker": {
             "pattern": {
              "fillmode": "overlay",
              "size": 10,
              "solidity": 0.2
             }
            },
            "type": "histogram"
           }
          ],
          "histogram2d": [
           {
            "colorbar": {
             "outlinewidth": 0,
             "ticks": ""
            },
            "colorscale": [
             [
              0,
              "#0d0887"
             ],
             [
              0.1111111111111111,
              "#46039f"
             ],
             [
              0.2222222222222222,
              "#7201a8"
             ],
             [
              0.3333333333333333,
              "#9c179e"
             ],
             [
              0.4444444444444444,
              "#bd3786"
             ],
             [
              0.5555555555555556,
              "#d8576b"
             ],
             [
              0.6666666666666666,
              "#ed7953"
             ],
             [
              0.7777777777777778,
              "#fb9f3a"
             ],
             [
              0.8888888888888888,
              "#fdca26"
             ],
             [
              1,
              "#f0f921"
             ]
            ],
            "type": "histogram2d"
           }
          ],
          "histogram2dcontour": [
           {
            "colorbar": {
             "outlinewidth": 0,
             "ticks": ""
            },
            "colorscale": [
             [
              0,
              "#0d0887"
             ],
             [
              0.1111111111111111,
              "#46039f"
             ],
             [
              0.2222222222222222,
              "#7201a8"
             ],
             [
              0.3333333333333333,
              "#9c179e"
             ],
             [
              0.4444444444444444,
              "#bd3786"
             ],
             [
              0.5555555555555556,
              "#d8576b"
             ],
             [
              0.6666666666666666,
              "#ed7953"
             ],
             [
              0.7777777777777778,
              "#fb9f3a"
             ],
             [
              0.8888888888888888,
              "#fdca26"
             ],
             [
              1,
              "#f0f921"
             ]
            ],
            "type": "histogram2dcontour"
           }
          ],
          "mesh3d": [
           {
            "colorbar": {
             "outlinewidth": 0,
             "ticks": ""
            },
            "type": "mesh3d"
           }
          ],
          "parcoords": [
           {
            "line": {
             "colorbar": {
              "outlinewidth": 0,
              "ticks": ""
             }
            },
            "type": "parcoords"
           }
          ],
          "pie": [
           {
            "automargin": true,
            "type": "pie"
           }
          ],
          "scatter": [
           {
            "marker": {
             "colorbar": {
              "outlinewidth": 0,
              "ticks": ""
             }
            },
            "type": "scatter"
           }
          ],
          "scatter3d": [
           {
            "line": {
             "colorbar": {
              "outlinewidth": 0,
              "ticks": ""
             }
            },
            "marker": {
             "colorbar": {
              "outlinewidth": 0,
              "ticks": ""
             }
            },
            "type": "scatter3d"
           }
          ],
          "scattercarpet": [
           {
            "marker": {
             "colorbar": {
              "outlinewidth": 0,
              "ticks": ""
             }
            },
            "type": "scattercarpet"
           }
          ],
          "scattergeo": [
           {
            "marker": {
             "colorbar": {
              "outlinewidth": 0,
              "ticks": ""
             }
            },
            "type": "scattergeo"
           }
          ],
          "scattergl": [
           {
            "marker": {
             "colorbar": {
              "outlinewidth": 0,
              "ticks": ""
             }
            },
            "type": "scattergl"
           }
          ],
          "scattermapbox": [
           {
            "marker": {
             "colorbar": {
              "outlinewidth": 0,
              "ticks": ""
             }
            },
            "type": "scattermapbox"
           }
          ],
          "scatterpolar": [
           {
            "marker": {
             "colorbar": {
              "outlinewidth": 0,
              "ticks": ""
             }
            },
            "type": "scatterpolar"
           }
          ],
          "scatterpolargl": [
           {
            "marker": {
             "colorbar": {
              "outlinewidth": 0,
              "ticks": ""
             }
            },
            "type": "scatterpolargl"
           }
          ],
          "scatterternary": [
           {
            "marker": {
             "colorbar": {
              "outlinewidth": 0,
              "ticks": ""
             }
            },
            "type": "scatterternary"
           }
          ],
          "surface": [
           {
            "colorbar": {
             "outlinewidth": 0,
             "ticks": ""
            },
            "colorscale": [
             [
              0,
              "#0d0887"
             ],
             [
              0.1111111111111111,
              "#46039f"
             ],
             [
              0.2222222222222222,
              "#7201a8"
             ],
             [
              0.3333333333333333,
              "#9c179e"
             ],
             [
              0.4444444444444444,
              "#bd3786"
             ],
             [
              0.5555555555555556,
              "#d8576b"
             ],
             [
              0.6666666666666666,
              "#ed7953"
             ],
             [
              0.7777777777777778,
              "#fb9f3a"
             ],
             [
              0.8888888888888888,
              "#fdca26"
             ],
             [
              1,
              "#f0f921"
             ]
            ],
            "type": "surface"
           }
          ],
          "table": [
           {
            "cells": {
             "fill": {
              "color": "#EBF0F8"
             },
             "line": {
              "color": "white"
             }
            },
            "header": {
             "fill": {
              "color": "#C8D4E3"
             },
             "line": {
              "color": "white"
             }
            },
            "type": "table"
           }
          ]
         },
         "layout": {
          "annotationdefaults": {
           "arrowcolor": "#2a3f5f",
           "arrowhead": 0,
           "arrowwidth": 1
          },
          "autotypenumbers": "strict",
          "coloraxis": {
           "colorbar": {
            "outlinewidth": 0,
            "ticks": ""
           }
          },
          "colorscale": {
           "diverging": [
            [
             0,
             "#8e0152"
            ],
            [
             0.1,
             "#c51b7d"
            ],
            [
             0.2,
             "#de77ae"
            ],
            [
             0.3,
             "#f1b6da"
            ],
            [
             0.4,
             "#fde0ef"
            ],
            [
             0.5,
             "#f7f7f7"
            ],
            [
             0.6,
             "#e6f5d0"
            ],
            [
             0.7,
             "#b8e186"
            ],
            [
             0.8,
             "#7fbc41"
            ],
            [
             0.9,
             "#4d9221"
            ],
            [
             1,
             "#276419"
            ]
           ],
           "sequential": [
            [
             0,
             "#0d0887"
            ],
            [
             0.1111111111111111,
             "#46039f"
            ],
            [
             0.2222222222222222,
             "#7201a8"
            ],
            [
             0.3333333333333333,
             "#9c179e"
            ],
            [
             0.4444444444444444,
             "#bd3786"
            ],
            [
             0.5555555555555556,
             "#d8576b"
            ],
            [
             0.6666666666666666,
             "#ed7953"
            ],
            [
             0.7777777777777778,
             "#fb9f3a"
            ],
            [
             0.8888888888888888,
             "#fdca26"
            ],
            [
             1,
             "#f0f921"
            ]
           ],
           "sequentialminus": [
            [
             0,
             "#0d0887"
            ],
            [
             0.1111111111111111,
             "#46039f"
            ],
            [
             0.2222222222222222,
             "#7201a8"
            ],
            [
             0.3333333333333333,
             "#9c179e"
            ],
            [
             0.4444444444444444,
             "#bd3786"
            ],
            [
             0.5555555555555556,
             "#d8576b"
            ],
            [
             0.6666666666666666,
             "#ed7953"
            ],
            [
             0.7777777777777778,
             "#fb9f3a"
            ],
            [
             0.8888888888888888,
             "#fdca26"
            ],
            [
             1,
             "#f0f921"
            ]
           ]
          },
          "colorway": [
           "#636efa",
           "#EF553B",
           "#00cc96",
           "#ab63fa",
           "#FFA15A",
           "#19d3f3",
           "#FF6692",
           "#B6E880",
           "#FF97FF",
           "#FECB52"
          ],
          "font": {
           "color": "#2a3f5f"
          },
          "geo": {
           "bgcolor": "white",
           "lakecolor": "white",
           "landcolor": "#E5ECF6",
           "showlakes": true,
           "showland": true,
           "subunitcolor": "white"
          },
          "hoverlabel": {
           "align": "left"
          },
          "hovermode": "closest",
          "mapbox": {
           "style": "light"
          },
          "paper_bgcolor": "white",
          "plot_bgcolor": "#E5ECF6",
          "polar": {
           "angularaxis": {
            "gridcolor": "white",
            "linecolor": "white",
            "ticks": ""
           },
           "bgcolor": "#E5ECF6",
           "radialaxis": {
            "gridcolor": "white",
            "linecolor": "white",
            "ticks": ""
           }
          },
          "scene": {
           "xaxis": {
            "backgroundcolor": "#E5ECF6",
            "gridcolor": "white",
            "gridwidth": 2,
            "linecolor": "white",
            "showbackground": true,
            "ticks": "",
            "zerolinecolor": "white"
           },
           "yaxis": {
            "backgroundcolor": "#E5ECF6",
            "gridcolor": "white",
            "gridwidth": 2,
            "linecolor": "white",
            "showbackground": true,
            "ticks": "",
            "zerolinecolor": "white"
           },
           "zaxis": {
            "backgroundcolor": "#E5ECF6",
            "gridcolor": "white",
            "gridwidth": 2,
            "linecolor": "white",
            "showbackground": true,
            "ticks": "",
            "zerolinecolor": "white"
           }
          },
          "shapedefaults": {
           "line": {
            "color": "#2a3f5f"
           }
          },
          "ternary": {
           "aaxis": {
            "gridcolor": "white",
            "linecolor": "white",
            "ticks": ""
           },
           "baxis": {
            "gridcolor": "white",
            "linecolor": "white",
            "ticks": ""
           },
           "bgcolor": "#E5ECF6",
           "caxis": {
            "gridcolor": "white",
            "linecolor": "white",
            "ticks": ""
           }
          },
          "title": {
           "x": 0.05
          },
          "xaxis": {
           "automargin": true,
           "gridcolor": "white",
           "linecolor": "white",
           "ticks": "",
           "title": {
            "standoff": 15
           },
           "zerolinecolor": "white",
           "zerolinewidth": 2
          },
          "yaxis": {
           "automargin": true,
           "gridcolor": "white",
           "linecolor": "white",
           "ticks": "",
           "title": {
            "standoff": 15
           },
           "zerolinecolor": "white",
           "zerolinewidth": 2
          }
         }
        }
       }
      },
      "text/html": [
       "<div>                            <div id=\"77f80e61-0362-4210-92c0-7ca8c4ce28db\" class=\"plotly-graph-div\" style=\"height:525px; width:100%;\"></div>            <script type=\"text/javascript\">                require([\"plotly\"], function(Plotly) {                    window.PLOTLYENV=window.PLOTLYENV || {};                                    if (document.getElementById(\"77f80e61-0362-4210-92c0-7ca8c4ce28db\")) {                    Plotly.newPlot(                        \"77f80e61-0362-4210-92c0-7ca8c4ce28db\",                        [{\"hovertemplate\":\"address.metro.line_name=\\u0424\\u0438\\u043b\\u0435\\u0432\\u0441\\u043a\\u0430\\u044f<br>size=%{marker.size}<br>address.metro.lat=%{lat}<br>address.metro.lng=%{lon}<extra></extra>\",\"lat\":[55.740544,55.740544,55.749083,55.740544,55.743168,55.740544,55.740544,55.750243,55.749083,55.750243,55.740544,55.740544,55.740544,55.740544,55.740544,55.740544,55.740544,55.740544,55.740544,55.750243,55.750243,55.740544,55.750243,55.750243,55.750243,55.750243,55.750243,55.740544,55.740544,55.740544,55.750243,55.750243,55.750243,55.750243,55.740544,55.740544,55.750243,55.750243,55.750243,55.740544,55.750243,55.740544,55.740544,55.748324,55.752122,55.740544,55.750243,55.748324,55.748324,55.750243,55.740544,55.748324,55.750243,55.750243],\"legendgroup\":\"\\u0424\\u0438\\u043b\\u0435\\u0432\\u0441\\u043a\\u0430\\u044f\",\"lon\":[37.5341,37.5341,37.582173,37.5341,37.565425,37.5341,37.5341,37.542641,37.582173,37.542641,37.5341,37.5341,37.5341,37.5341,37.5341,37.5341,37.5341,37.5341,37.5341,37.542641,37.542641,37.5341,37.542641,37.542641,37.542641,37.542641,37.542641,37.5341,37.5341,37.5341,37.542641,37.542641,37.542641,37.542641,37.5341,37.5341,37.542641,37.542641,37.542641,37.5341,37.542641,37.5341,37.5341,37.533282,37.601553,37.5341,37.542641,37.533282,37.533282,37.542641,37.5341,37.533282,37.542641,37.542641],\"marker\":{\"color\":\"#636efa\",\"size\":[35,35,6,35,14,35,35,21,6,21,35,35,35,35,35,35,35,35,35,21,21,35,21,21,21,21,21,35,35,35,21,21,21,21,35,35,21,21,21,35,21,35,35,4,6,35,21,4,4,21,35,4,21,21],\"sizemode\":\"area\",\"sizeref\":0.14},\"mode\":\"markers\",\"name\":\"\\u0424\\u0438\\u043b\\u0435\\u0432\\u0441\\u043a\\u0430\\u044f\",\"showlegend\":true,\"subplot\":\"mapbox\",\"type\":\"scattermapbox\"},{\"hovertemplate\":\"address.metro.line_name=\\u0417\\u0430\\u043c\\u043e\\u0441\\u043a\\u0432\\u043e\\u0440\\u0435\\u0446\\u043a\\u0430\\u044f<br>size=%{marker.size}<br>address.metro.lat=%{lat}<br>address.metro.lng=%{lon}<extra></extra>\",\"lat\":[55.789704,55.800441,55.800441,55.777439,55.777439,55.777439,55.695,55.769808,55.695,55.818923,55.800441,55.818923,55.769808,55.729741,55.695,55.800441,55.789704,55.695,55.838978,55.805564,55.789704,55.610131,55.789704,55.729741,55.800441,55.800441,55.777439,55.838978,55.8651,55.695,55.777439,55.838978,55.777439,55.777439,55.695,55.789704,55.777439,55.800441,55.800441,55.800441,55.729741,55.695,55.695,55.777439,55.800441,55.800441,55.769808,55.800441,55.789704,55.800441,55.695,55.706634,55.789704,55.729741,55.789704,55.695,55.800441,55.729741,55.789704,55.789704,55.695,55.789704,55.777439,55.729741,55.729741,55.706634,55.789704,55.800441,55.695,55.777439,55.777439,55.777439,55.729741,55.838978,55.838978,55.695,55.729741,55.695,55.695,55.695,55.777439,55.777439,55.729741,55.695,55.769808,55.838978,55.838978,55.800441,55.838978,55.695,55.729741,55.742391,55.695,55.729741,55.769808,55.800441,55.838978,55.742391,55.789704,55.777439,55.729741,55.729741,55.777439,55.729741,55.777439,55.729741,55.729741,55.695,55.777439,55.695,55.695,55.695,55.695,55.789704,55.838978,55.838978,55.695,55.695,55.695,55.8651,55.695,55.769808,55.695,55.695,55.695,55.742391,55.695,55.695,55.777439,55.636107,55.695,55.777439,55.636107,55.695,55.695,55.838978,55.695,55.695,55.777439,55.777439,55.800441,55.777439,55.777439,55.777439,55.777439,55.695,55.777439,55.777439,55.777439,55.777439,55.777439,55.838978,55.777439,55.777439,55.838978,55.695,55.729741,55.789704,55.789704,55.8651,55.777439,55.695,55.695,55.695,55.777439,55.838978,55.695,55.838978,55.729741,55.695,55.695,55.769808,55.800441,55.695,55.789704,55.777439,55.695,55.838978,55.789704,55.789704,55.777439,55.838978,55.838978,55.838978,55.800441,55.838978,55.765343,55.777439,55.729741,55.777439,55.800441,55.742391,55.742391,55.789704,55.838978,55.838978,55.800441,55.789704,55.729741,55.706634,55.742391,55.695,55.777439,55.789704,55.800441,55.729741,55.789704,55.706634,55.769808,55.695,55.729741,55.789704,55.8651,55.8651],\"legendgroup\":\"\\u0417\\u0430\\u043c\\u043e\\u0441\\u043a\\u0432\\u043e\\u0440\\u0435\\u0446\\u043a\\u0430\\u044f\",\"lon\":[37.558212,37.530477,37.530477,37.582107,37.582107,37.582107,37.664167,37.596192,37.664167,37.497791,37.530477,37.497791,37.596192,37.638693,37.664167,37.530477,37.558212,37.664167,37.487515,37.515245,37.558212,37.717111,37.558212,37.638693,37.530477,37.530477,37.582107,37.487515,37.4764,37.664167,37.582107,37.487515,37.582107,37.582107,37.664167,37.558212,37.582107,37.530477,37.530477,37.530477,37.638693,37.664167,37.664167,37.582107,37.530477,37.530477,37.596192,37.530477,37.558212,37.530477,37.664167,37.657008,37.558212,37.638693,37.558212,37.664167,37.530477,37.638693,37.558212,37.558212,37.664167,37.558212,37.582107,37.638693,37.638693,37.657008,37.558212,37.530477,37.664167,37.582107,37.582107,37.582107,37.638693,37.487515,37.487515,37.664167,37.638693,37.664167,37.664167,37.664167,37.582107,37.582107,37.638693,37.664167,37.596192,37.487515,37.487515,37.530477,37.487515,37.664167,37.638693,37.62928,37.664167,37.638693,37.596192,37.530477,37.487515,37.62928,37.558212,37.582107,37.638693,37.638693,37.582107,37.638693,37.582107,37.638693,37.638693,37.664167,37.582107,37.664167,37.664167,37.664167,37.664167,37.558212,37.487515,37.487515,37.664167,37.664167,37.664167,37.4764,37.664167,37.596192,37.664167,37.664167,37.664167,37.62928,37.664167,37.664167,37.582107,37.656218,37.664167,37.582107,37.656218,37.664167,37.664167,37.487515,37.664167,37.664167,37.582107,37.582107,37.530477,37.582107,37.582107,37.582107,37.582107,37.664167,37.582107,37.582107,37.582107,37.582107,37.582107,37.487515,37.582107,37.582107,37.487515,37.664167,37.638693,37.558212,37.558212,37.4764,37.582107,37.664167,37.664167,37.664167,37.582107,37.487515,37.664167,37.487515,37.638693,37.664167,37.664167,37.596192,37.530477,37.664167,37.558212,37.582107,37.664167,37.487515,37.558212,37.558212,37.582107,37.487515,37.487515,37.487515,37.530477,37.487515,37.603918,37.582107,37.638693,37.582107,37.530477,37.62928,37.62928,37.558212,37.487515,37.487515,37.530477,37.558212,37.638693,37.657008,37.62928,37.664167,37.582107,37.558212,37.530477,37.638693,37.558212,37.657008,37.596192,37.664167,37.638693,37.558212,37.4764,37.4764],\"marker\":{\"color\":\"#EF553B\",\"size\":[24,23,23,56,56,56,50,8,50,2,23,2,8,23,50,23,24,50,23,1,24,1,24,23,23,23,56,23,5,50,56,23,56,56,50,24,56,23,23,23,23,50,50,56,23,23,8,23,24,23,50,4,24,23,24,50,23,23,24,24,50,24,56,23,23,4,24,23,50,56,56,56,23,23,23,50,23,50,50,50,56,56,23,50,8,23,23,23,23,50,23,6,50,23,8,23,23,6,24,56,23,23,56,23,56,23,23,50,56,50,50,50,50,24,23,23,50,50,50,5,50,8,50,50,50,6,50,50,56,2,50,56,2,50,50,23,50,50,56,56,23,56,56,56,56,50,56,56,56,56,56,23,56,56,23,50,23,24,24,5,56,50,50,50,56,23,50,23,23,50,50,8,23,50,24,56,50,23,24,24,56,23,23,23,23,23,1,56,23,56,23,6,6,24,23,23,23,24,23,4,6,50,56,24,23,23,24,4,8,50,23,24,5,5],\"sizemode\":\"area\",\"sizeref\":0.14},\"mode\":\"markers\",\"name\":\"\\u0417\\u0430\\u043c\\u043e\\u0441\\u043a\\u0432\\u043e\\u0440\\u0435\\u0446\\u043a\\u0430\\u044f\",\"showlegend\":true,\"subplot\":\"mapbox\",\"type\":\"scattermapbox\"},{\"hovertemplate\":\"address.metro.line_name=\\u0410\\u0440\\u0431\\u0430\\u0442\\u0441\\u043a\\u043e-\\u041f\\u043e\\u043a\\u0440\\u043e\\u0432\\u0441\\u043a\\u0430\\u044f<br>size=%{marker.size}<br>address.metro.lat=%{lat}<br>address.metro.lng=%{lon}<extra></extra>\",\"lat\":[55.772405,55.772405,55.741375,55.758564,55.772405,55.747713,55.729542,55.729542,55.743117,55.729542,55.772405,55.772405,55.772405,55.782057,55.756842,55.735679,55.772405,55.735679,55.758564,55.756842,55.747713,55.743117,55.803831,55.735679,55.743117,55.823342,55.823342,55.823342,55.756842,55.772405,55.752312,55.823342,55.772405,55.758564,55.756842,55.758564,55.758564,55.772405,55.772405,55.772405,55.772405,55.772405,55.729542,55.772405,55.756842,55.772405,55.752312,55.772405,55.758564,55.772405,55.741375,55.752312,55.758564,55.823342,55.772405,55.730673,55.782057,55.743117,55.743117,55.752312,55.747713,55.823342,55.823342,55.823342,55.772405,55.743117,55.743117,55.743117,55.743117,55.735679,55.772405,55.772405,55.772405,55.747713,55.772405,55.758564,55.772405,55.772405,55.772405,55.772405,55.772405,55.772405,55.772405,55.730673,55.823342,55.783096,55.772405,55.772405,55.772405,55.823342,55.823342,55.741375,55.772405,55.756842,55.752312,55.741375,55.772405],\"legendgroup\":\"\\u0410\\u0440\\u0431\\u0430\\u0442\\u0441\\u043a\\u043e-\\u041f\\u043e\\u043a\\u0440\\u043e\\u0432\\u0441\\u043a\\u0430\\u044f\",\"lon\":[37.67904,37.67904,37.415627,37.659039,37.67904,37.583802,37.470973,37.470973,37.564132,37.470973,37.67904,37.67904,37.67904,37.7053,37.408139,37.516865,37.67904,37.516865,37.659039,37.408139,37.583802,37.564132,37.402405,37.516865,37.564132,37.385214,37.385214,37.385214,37.408139,37.67904,37.60349,37.385214,37.67904,37.659039,37.408139,37.659039,37.659039,37.67904,37.67904,37.67904,37.67904,37.67904,37.470973,37.67904,37.408139,37.67904,37.60349,37.67904,37.659039,37.67904,37.415627,37.60349,37.659039,37.385214,37.67904,37.446522,37.7053,37.564132,37.564132,37.60349,37.583802,37.385214,37.385214,37.385214,37.67904,37.564132,37.564132,37.564132,37.564132,37.516865,37.67904,37.67904,37.67904,37.583802,37.67904,37.659039,37.67904,37.67904,37.67904,37.67904,37.67904,37.67904,37.67904,37.446522,37.385214,37.719289,37.67904,37.67904,37.67904,37.385214,37.385214,37.415627,37.67904,37.408139,37.60349,37.415627,37.67904],\"marker\":{\"color\":\"#00cc96\",\"size\":[36,36,4,10,36,6,4,4,14,4,36,36,36,2,6,4,36,4,10,6,6,14,1,4,14,11,11,11,6,36,6,11,36,10,6,10,10,36,36,36,36,36,4,36,6,36,6,36,10,36,4,6,10,11,36,2,2,14,14,6,6,11,11,11,36,14,14,14,14,4,36,36,36,6,36,10,36,36,36,36,36,36,36,2,11,1,36,36,36,11,11,4,36,6,6,4,36],\"sizemode\":\"area\",\"sizeref\":0.14},\"mode\":\"markers\",\"name\":\"\\u0410\\u0440\\u0431\\u0430\\u0442\\u0441\\u043a\\u043e-\\u041f\\u043e\\u043a\\u0440\\u043e\\u0432\\u0441\\u043a\\u0430\\u044f\",\"showlegend\":true,\"subplot\":\"mapbox\",\"type\":\"scattermapbox\"},{\"hovertemplate\":\"address.metro.line_name=\\u0421\\u0435\\u0440\\u043f\\u0443\\u0445\\u043e\\u0432\\u0441\\u043a\\u043e-\\u0422\\u0438\\u043c\\u0438\\u0440\\u044f\\u0437\\u0435\\u0432\\u0441\\u043a\\u0430\\u044f<br>size=%{marker.size}<br>address.metro.lat=%{lat}<br>address.metro.lng=%{lon}<extra></extra>\",\"lat\":[55.794054,55.794054,55.808056,55.70961,55.568201,55.771653,55.726548,55.794054,55.726548,55.794054,55.610962,55.70961,55.794054,55.568201,55.70961,55.682099,55.70961,55.640538,55.808056,55.864273,55.70961,55.808056,55.808056,55.808056,55.808056,55.794054,55.662379,55.808056,55.70961,55.682099,55.682099,55.70961,55.808056,55.568201,55.794054,55.662379,55.568201,55.794054,55.70961,55.70961,55.662379,55.682099,55.662379,55.771653,55.808056,55.794054,55.794054,55.662379,55.794054,55.899034,55.794054,55.808056,55.794054,55.794054,55.81866,55.794054,55.70961,55.70961,55.70961,55.81866,55.736795,55.899034,55.662379,55.70961,55.794054,55.682099,55.808056,55.808056,55.794054,55.682099,55.682099,55.808056,55.771653],\"legendgroup\":\"\\u0421\\u0435\\u0440\\u043f\\u0443\\u0445\\u043e\\u0432\\u0441\\u043a\\u043e-\\u0422\\u0438\\u043c\\u0438\\u0440\\u044f\\u0437\\u0435\\u0432\\u0441\\u043a\\u0430\\u044f\",\"lon\":[37.587163,37.587163,37.581734,37.622569,37.576856,37.620466,37.624792,37.587163,37.624792,37.587163,37.602386,37.622569,37.587163,37.576856,37.622569,37.620917,37.622569,37.606065,37.581734,37.605066,37.622569,37.581734,37.581734,37.581734,37.581734,37.587163,37.605274,37.581734,37.622569,37.620917,37.620917,37.622569,37.581734,37.576856,37.587163,37.605274,37.576856,37.587163,37.622569,37.622569,37.605274,37.620917,37.605274,37.620466,37.581734,37.587163,37.587163,37.605274,37.587163,37.586473,37.587163,37.581734,37.587163,37.587163,37.574498,37.587163,37.622569,37.622569,37.622569,37.574498,37.618594,37.586473,37.605274,37.622569,37.587163,37.620917,37.581734,37.581734,37.587163,37.620917,37.620917,37.581734,37.620466],\"marker\":{\"color\":\"#ab63fa\",\"size\":[17,17,14,13,4,3,2,17,2,17,1,13,17,4,13,7,13,1,14,1,13,14,14,14,14,17,6,14,13,7,7,13,14,4,17,6,4,17,13,13,6,7,6,3,14,17,17,6,17,2,17,14,17,17,2,17,13,13,13,2,1,2,6,13,17,7,14,14,17,7,7,14,3],\"sizemode\":\"area\",\"sizeref\":0.14},\"mode\":\"markers\",\"name\":\"\\u0421\\u0435\\u0440\\u043f\\u0443\\u0445\\u043e\\u0432\\u0441\\u043a\\u043e-\\u0422\\u0438\\u043c\\u0438\\u0440\\u044f\\u0437\\u0435\\u0432\\u0441\\u043a\\u0430\\u044f\",\"showlegend\":true,\"subplot\":\"mapbox\",\"type\":\"scattermapbox\"},{\"hovertemplate\":\"address.metro.line_name=\\u0422\\u0430\\u0433\\u0430\\u043d\\u0441\\u043a\\u043e-\\u041a\\u0440\\u0430\\u0441\\u043d\\u043e\\u043f\\u0440\\u0435\\u0441\\u043d\\u0435\\u043d\\u0441\\u043a\\u0430\\u044f<br>size=%{marker.size}<br>address.metro.lat=%{lat}<br>address.metro.lng=%{lon}<extra></extra>\",\"lat\":[55.763944,55.773505,55.777201,55.765607,55.763944,55.760793,55.760793,55.760793,55.725546,55.761498,55.859676,55.761498,55.761498,55.793581,55.773505,55.760793,55.760793,55.760793,55.709211,55.709211,55.709211,55.709211,55.709211,55.777201,55.709211,55.761498,55.773505,55.709211,55.709211,55.709211,55.773505,55.765607,55.777201,55.84926,55.84926,55.84926,55.763944,55.763944,55.773505,55.761498,55.777201,55.8094],\"legendgroup\":\"\\u0422\\u0430\\u0433\\u0430\\u043d\\u0441\\u043a\\u043e-\\u041a\\u0440\\u0430\\u0441\\u043d\\u043e\\u043f\\u0440\\u0435\\u0441\\u043d\\u0435\\u043d\\u0441\\u043a\\u0430\\u044f\",\"lon\":[37.562271,37.545518,37.517895,37.604356,37.562271,37.581242,37.581242,37.581242,37.685197,37.624423,37.436808,37.624423,37.624423,37.493317,37.545518,37.581242,37.581242,37.581242,37.732117,37.732117,37.732117,37.732117,37.732117,37.517895,37.732117,37.624423,37.545518,37.732117,37.732117,37.732117,37.545518,37.604356,37.517895,37.44076,37.44076,37.44076,37.562271,37.562271,37.545518,37.624423,37.517895,37.463241],\"marker\":{\"color\":\"#FFA15A\",\"size\":[4,5,4,2,4,6,6,6,1,5,1,5,5,1,5,6,6,6,9,9,9,9,9,4,9,5,5,9,9,9,5,2,4,3,3,3,4,4,5,5,4,1],\"sizemode\":\"area\",\"sizeref\":0.14},\"mode\":\"markers\",\"name\":\"\\u0422\\u0430\\u0433\\u0430\\u043d\\u0441\\u043a\\u043e-\\u041a\\u0440\\u0430\\u0441\\u043d\\u043e\\u043f\\u0440\\u0435\\u0441\\u043d\\u0435\\u043d\\u0441\\u043a\\u0430\\u044f\",\"showlegend\":true,\"subplot\":\"mapbox\",\"type\":\"scattermapbox\"},{\"hovertemplate\":\"address.metro.line_name=\\u041a\\u043e\\u043b\\u044c\\u0446\\u0435\\u0432\\u0430\\u044f<br>size=%{marker.size}<br>address.metro.lat=%{lat}<br>address.metro.lng=%{lon}<extra></extra>\",\"lat\":[55.74361,55.775179,55.775179,55.779584,55.729264,55.742396,55.775179,55.779584,55.779584,55.775179,55.760378,55.775179,55.779584,55.728994,55.775179,55.728994,55.728994,55.760378,55.760378,55.729264,55.779606,55.779584,55.758631,55.729264,55.74361,55.775179,55.775179,55.775179,55.775179,55.742396,55.735221,55.760378,55.728994,55.728994,55.742396,55.775179,55.775179,55.729264,55.74361,55.775179,55.779584,55.779606,55.728994,55.74361,55.729264,55.735221,55.742396,55.775179,55.735221,55.775179],\"legendgroup\":\"\\u041a\\u043e\\u043b\\u044c\\u0446\\u0435\\u0432\\u0430\\u044f\",\"lon\":[37.56735,37.582303,37.582303,37.633646,37.611049,37.653334,37.582303,37.633646,37.633646,37.582303,37.577114,37.582303,37.633646,37.622533,37.582303,37.622533,37.622533,37.577114,37.577114,37.611049,37.601252,37.633646,37.661059,37.611049,37.56735,37.582303,37.582303,37.582303,37.582303,37.653334,37.593095,37.577114,37.622533,37.622533,37.653334,37.582303,37.582303,37.611049,37.56735,37.582303,37.633646,37.601252,37.622533,37.56735,37.611049,37.593095,37.653334,37.582303,37.593095,37.582303],\"marker\":{\"color\":\"#19d3f3\",\"size\":[14,56,56,6,5,4,56,6,6,56,4,56,6,6,56,6,6,4,4,5,2,6,10,5,14,56,56,56,56,4,8,4,6,6,4,56,56,5,14,56,6,2,6,14,5,8,4,56,8,56],\"sizemode\":\"area\",\"sizeref\":0.14},\"mode\":\"markers\",\"name\":\"\\u041a\\u043e\\u043b\\u044c\\u0446\\u0435\\u0432\\u0430\\u044f\",\"showlegend\":true,\"subplot\":\"mapbox\",\"type\":\"scattermapbox\"},{\"hovertemplate\":\"address.metro.line_name=\\u0421\\u043e\\u043a\\u043e\\u043b\\u044c\\u043d\\u0438\\u0447\\u0435\\u0441\\u043a\\u0430\\u044f<br>size=%{marker.size}<br>address.metro.lat=%{lat}<br>address.metro.lng=%{lon}<extra></extra>\",\"lat\":[55.633,55.789282,55.768307,55.796322,55.774072,55.633,55.796322,55.633,55.745297,55.633,55.780014,55.727462,55.633,55.774072,55.633,55.757228,55.736163,55.796322,55.780014,55.752123,55.633,55.796322,55.722388,55.796322,55.745297,55.736163,55.745297,55.796322,55.774072,55.633,55.633,55.780014,55.780014,55.780014,55.780014,55.796322,55.633,55.676549,55.633,55.774072,55.633,55.633,55.633,55.796322,55.633,55.633,55.663146,55.780014,55.736163,55.633,55.722388,55.633,55.663146,55.736163,55.789282,55.559765,55.745297,55.69329,55.69329,55.796322,55.722388,55.633,55.736163],\"legendgroup\":\"\\u0421\\u043e\\u043a\\u043e\\u043b\\u044c\\u043d\\u0438\\u0447\\u0435\\u0441\\u043a\\u0430\\u044f\",\"lon\":[37.4419,37.679895,37.6478,37.713582,37.654565,37.4419,37.713582,37.4419,37.604217,37.4419,37.666097,37.58022,37.4419,37.654565,37.4419,37.615078,37.595027,37.713582,37.666097,37.610388,37.4419,37.713582,37.562041,37.713582,37.604217,37.595027,37.604217,37.713582,37.654565,37.4419,37.4419,37.666097,37.666097,37.666097,37.666097,37.713582,37.4419,37.504584,37.4419,37.654565,37.4419,37.4419,37.4419,37.713582,37.4419,37.4419,37.482852,37.666097,37.595027,37.4419,37.562041,37.4419,37.482852,37.595027,37.679895,37.468716,37.604217,37.534511,37.534511,37.713582,37.562041,37.4419,37.595027],\"marker\":{\"color\":\"#FF6692\",\"size\":[19,2,1,9,4,19,9,19,4,19,7,1,19,4,19,1,8,9,7,1,19,9,3,9,4,8,4,9,4,19,19,7,7,7,7,9,19,1,19,4,19,19,19,9,19,19,2,7,8,19,3,19,2,8,2,1,4,2,2,9,3,19,8],\"sizemode\":\"area\",\"sizeref\":0.14},\"mode\":\"markers\",\"name\":\"\\u0421\\u043e\\u043a\\u043e\\u043b\\u044c\\u043d\\u0438\\u0447\\u0435\\u0441\\u043a\\u0430\\u044f\",\"showlegend\":true,\"subplot\":\"mapbox\",\"type\":\"scattermapbox\"},{\"hovertemplate\":\"address.metro.line_name=\\u041a\\u0430\\u043b\\u0443\\u0436\\u0441\\u043a\\u043e-\\u0420\\u0438\\u0436\\u0441\\u043a\\u0430\\u044f<br>size=%{marker.size}<br>address.metro.lat=%{lat}<br>address.metro.lng=%{lon}<extra></extra>\",\"lat\":[55.656682,55.687147,55.718828,55.677671,55.718828,55.807794,55.677671,55.807794,55.807794,55.656682,55.844597,55.807794,55.772315,55.656682,55.61873,55.656682,55.687147,55.807794,55.844597,55.656682,55.656682,55.70678,55.756498,55.70678,55.70678,55.70678,55.844597,55.656682,55.677671,55.656682,55.687147,55.677671,55.61873,55.772315,55.772315,55.70678,55.718828,55.844597,55.844597,55.870641,55.61873,55.656682,55.70678,55.656682,55.718828,55.844597,55.807794,55.677671,55.807794],\"legendgroup\":\"\\u041a\\u0430\\u043b\\u0443\\u0436\\u0441\\u043a\\u043e-\\u0420\\u0438\\u0436\\u0441\\u043a\\u0430\\u044f\",\"lon\":[37.540075,37.5723,37.607892,37.562595,37.607892,37.638699,37.562595,37.638699,37.638699,37.540075,37.637811,37.638699,37.63285,37.540075,37.505912,37.540075,37.5723,37.638699,37.637811,37.540075,37.540075,37.58499,37.631326,37.58499,37.58499,37.58499,37.637811,37.540075,37.562595,37.540075,37.5723,37.562595,37.505912,37.63285,37.63285,37.58499,37.607892,37.637811,37.637811,37.664341,37.505912,37.540075,37.58499,37.540075,37.607892,37.637811,37.638699,37.562595,37.638699],\"marker\":{\"color\":\"#B6E880\",\"size\":[10,3,4,5,4,7,5,7,7,10,6,7,3,10,3,10,3,7,6,10,10,6,1,6,6,6,6,10,5,10,3,5,3,3,3,6,4,6,6,1,3,10,6,10,4,6,7,5,7],\"sizemode\":\"area\",\"sizeref\":0.14},\"mode\":\"markers\",\"name\":\"\\u041a\\u0430\\u043b\\u0443\\u0436\\u0441\\u043a\\u043e-\\u0420\\u0438\\u0436\\u0441\\u043a\\u0430\\u044f\",\"showlegend\":true,\"subplot\":\"mapbox\",\"type\":\"scattermapbox\"},{\"hovertemplate\":\"address.metro.line_name=\\u041c\\u0426\\u041a<br>size=%{marker.size}<br>address.metro.lat=%{lat}<br>address.metro.lng=%{lon}<extra></extra>\",\"lat\":[55.825833,55.747222,55.740833,55.740833,55.825833,55.740833,55.740833,55.740833,55.740833,55.740833,55.69,55.825833,55.720278,55.69,55.720278,55.740833,55.799167,55.788611,55.720278,55.799167,55.787778,55.825833,55.740833,55.740833,55.720278,55.698333,55.741111],\"legendgroup\":\"\\u041c\\u0426\\u041a\",\"lon\":[37.496111,37.532222,37.533333,37.533333,37.496111,37.533333,37.533333,37.533333,37.533333,37.533333,37.618889,37.496111,37.563056,37.618889,37.563056,37.533333,37.498889,37.742778,37.563056,37.498889,37.504444,37.496111,37.533333,37.533333,37.563056,37.648333,37.734444],\"marker\":{\"color\":\"#FF97FF\",\"size\":[4,17,35,35,4,35,35,35,35,35,2,4,4,2,4,35,2,1,4,2,1,4,35,35,4,1,1],\"sizemode\":\"area\",\"sizeref\":0.14},\"mode\":\"markers\",\"name\":\"\\u041c\\u0426\\u041a\",\"showlegend\":true,\"subplot\":\"mapbox\",\"type\":\"scattermapbox\"},{\"hovertemplate\":\"address.metro.line_name=\\u0411\\u043e\\u043b\\u044c\\u0448\\u0430\\u044f \\u043a\\u043e\\u043b\\u044c\\u0446\\u0435\\u0432\\u0430\\u044f \\u043b\\u0438\\u043d\\u0438\\u044f<br>size=%{marker.size}<br>address.metro.lat=%{lat}<br>address.metro.lng=%{lon}<extra></extra>\",\"lat\":[55.7491,55.7491,55.7491,55.7491,55.7491,55.7491,55.7491,55.7491,55.7491,55.7491,55.7491,55.7491,55.75723,55.7491,55.75723,55.7491,55.7491,55.7491],\"legendgroup\":\"\\u0411\\u043e\\u043b\\u044c\\u0448\\u0430\\u044f \\u043a\\u043e\\u043b\\u044c\\u0446\\u0435\\u0432\\u0430\\u044f \\u043b\\u0438\\u043d\\u0438\\u044f\",\"lon\":[37.5395,37.5395,37.5395,37.5395,37.5395,37.5395,37.5395,37.5395,37.5395,37.5395,37.5395,37.5395,37.52571,37.5395,37.52571,37.5395,37.5395,37.5395],\"marker\":{\"color\":\"#FECB52\",\"size\":[17,17,17,17,17,17,17,17,17,17,17,17,2,17,2,17,17,17],\"sizemode\":\"area\",\"sizeref\":0.14},\"mode\":\"markers\",\"name\":\"\\u0411\\u043e\\u043b\\u044c\\u0448\\u0430\\u044f \\u043a\\u043e\\u043b\\u044c\\u0446\\u0435\\u0432\\u0430\\u044f \\u043b\\u0438\\u043d\\u0438\\u044f\",\"showlegend\":true,\"subplot\":\"mapbox\",\"type\":\"scattermapbox\"},{\"hovertemplate\":\"address.metro.line_name=\\u041c\\u0426\\u0414 - 2<br>size=%{marker.size}<br>address.metro.lat=%{lat}<br>address.metro.lng=%{lon}<extra></extra>\",\"lat\":[55.814247,55.814247,55.745358,55.757622,55.808056],\"legendgroup\":\"\\u041c\\u0426\\u0414 - 2\",\"lon\":[37.47678,37.47678,37.688839,37.660767,37.581734],\"marker\":{\"color\":\"#636efa\",\"size\":[2,2,1,10,14],\"sizemode\":\"area\",\"sizeref\":0.14},\"mode\":\"markers\",\"name\":\"\\u041c\\u0426\\u0414 - 2\",\"showlegend\":true,\"subplot\":\"mapbox\",\"type\":\"scattermapbox\"},{\"hovertemplate\":\"address.metro.line_name=\\u041b\\u044e\\u0431\\u043b\\u0438\\u043d\\u0441\\u043a\\u043e-\\u0414\\u043c\\u0438\\u0442\\u0440\\u043e\\u0432\\u0441\\u043a\\u0430\\u044f<br>size=%{marker.size}<br>address.metro.lat=%{lat}<br>address.metro.lng=%{lon}<extra></extra>\",\"lat\":[55.848889,55.848889,55.813333,55.793723,55.793723,55.732278,55.732278,55.793723,55.781667,55.793723,55.766106,55.766106,55.766106,55.71807,55.848889,55.766106,55.781667,55.793723,55.706156,55.813333,55.781667,55.793723,55.732278,55.793723],\"legendgroup\":\"\\u041b\\u044e\\u0431\\u043b\\u0438\\u043d\\u0441\\u043a\\u043e-\\u0414\\u043c\\u0438\\u0442\\u0440\\u043e\\u0432\\u0441\\u043a\\u0430\\u044f\",\"lon\":[37.571111,37.571111,37.602778,37.61618,37.61618,37.665325,37.665325,37.61618,37.613889,37.61618,37.635688,37.635688,37.635688,37.676259,37.571111,37.635688,37.613889,37.61618,37.68544,37.602778,37.613889,37.61618,37.665325,37.61618],\"marker\":{\"color\":\"#EF553B\",\"size\":[3,3,2,7,7,3,3,7,3,7,4,4,4,1,3,4,3,7,1,2,3,7,3,7],\"sizemode\":\"area\",\"sizeref\":0.14},\"mode\":\"markers\",\"name\":\"\\u041b\\u044e\\u0431\\u043b\\u0438\\u043d\\u0441\\u043a\\u043e-\\u0414\\u043c\\u0438\\u0442\\u0440\\u043e\\u0432\\u0441\\u043a\\u0430\\u044f\",\"showlegend\":true,\"subplot\":\"mapbox\",\"type\":\"scattermapbox\"},{\"hovertemplate\":\"address.metro.line_name=\\u041c\\u0426\\u0414 - 1<br>size=%{marker.size}<br>address.metro.lat=%{lat}<br>address.metro.lng=%{lon}<extra></extra>\",\"lat\":[55.666801,55.723713,55.723713,55.723713,55.754292,55.754292,55.754292,55.754292,56.0048],\"legendgroup\":\"\\u041c\\u0426\\u0414 - 1\",\"lon\":[37.424618,37.397259,37.397259,37.397259,37.531551,37.531551,37.531551,37.531551,37.29057],\"marker\":{\"color\":\"#00cc96\",\"size\":[1,3,3,3,4,4,4,4,1],\"sizemode\":\"area\",\"sizeref\":0.14},\"mode\":\"markers\",\"name\":\"\\u041c\\u0426\\u0414 - 1\",\"showlegend\":true,\"subplot\":\"mapbox\",\"type\":\"scattermapbox\"},{\"hovertemplate\":\"address.metro.line_name=\\u041c\\u043e\\u0441\\u043a\\u043e\\u0432\\u0441\\u043a\\u043e-\\u041f\\u0435\\u0442\\u0440\\u043e\\u0433\\u0440\\u0430\\u0434\\u0441\\u043a\\u0430\\u044f<br>size=%{marker.size}<br>address.metro.lat=%{lat}<br>address.metro.lng=%{lon}<extra></extra>\",\"lat\":[59.956112,59.956112,59.966389],\"legendgroup\":\"\\u041c\\u043e\\u0441\\u043a\\u043e\\u0432\\u0441\\u043a\\u043e-\\u041f\\u0435\\u0442\\u0440\\u043e\\u0433\\u0440\\u0430\\u0434\\u0441\\u043a\\u0430\\u044f\",\"lon\":[30.31889,30.31889,30.311293],\"marker\":{\"color\":\"#ab63fa\",\"size\":[2,2,1],\"sizemode\":\"area\",\"sizeref\":0.14},\"mode\":\"markers\",\"name\":\"\\u041c\\u043e\\u0441\\u043a\\u043e\\u0432\\u0441\\u043a\\u043e-\\u041f\\u0435\\u0442\\u0440\\u043e\\u0433\\u0440\\u0430\\u0434\\u0441\\u043a\\u0430\\u044f\",\"showlegend\":true,\"subplot\":\"mapbox\",\"type\":\"scattermapbox\"},{\"hovertemplate\":\"address.metro.line_name=\\u041a\\u0430\\u043b\\u0438\\u043d\\u0438\\u043d\\u0441\\u043a\\u0430\\u044f<br>size=%{marker.size}<br>address.metro.lat=%{lat}<br>address.metro.lng=%{lon}<extra></extra>\",\"lat\":[55.740746,55.740746,55.751933,55.740746,55.747115,55.751933,55.75809,55.75809,55.747115,55.75809],\"legendgroup\":\"\\u041a\\u0430\\u043b\\u0438\\u043d\\u0438\\u043d\\u0441\\u043a\\u0430\\u044f\",\"lon\":[37.65604,37.65604,37.717444,37.65604,37.680726,37.717444,37.751703,37.751703,37.680726,37.751703],\"marker\":{\"color\":\"#FFA15A\",\"size\":[3,3,2,3,2,2,3,3,2,3],\"sizemode\":\"area\",\"sizeref\":0.14},\"mode\":\"markers\",\"name\":\"\\u041a\\u0430\\u043b\\u0438\\u043d\\u0438\\u043d\\u0441\\u043a\\u0430\\u044f\",\"showlegend\":true,\"subplot\":\"mapbox\",\"type\":\"scattermapbox\"},{\"hovertemplate\":\"address.metro.line_name=\\u0411\\u0443\\u0442\\u043e\\u0432\\u0441\\u043a\\u0430\\u044f<br>size=%{marker.size}<br>address.metro.lat=%{lat}<br>address.metro.lng=%{lon}<extra></extra>\",\"lat\":[55.545207,55.545207,55.545207],\"legendgroup\":\"\\u0411\\u0443\\u0442\\u043e\\u0432\\u0441\\u043a\\u0430\\u044f\",\"lon\":[37.542329,37.542329,37.542329],\"marker\":{\"color\":\"#19d3f3\",\"size\":[3,3,3],\"sizemode\":\"area\",\"sizeref\":0.14},\"mode\":\"markers\",\"name\":\"\\u0411\\u0443\\u0442\\u043e\\u0432\\u0441\\u043a\\u0430\\u044f\",\"showlegend\":true,\"subplot\":\"mapbox\",\"type\":\"scattermapbox\"},{\"hovertemplate\":\"address.metro.line_name=\\u0421\\u043e\\u043b\\u043d\\u0446\\u0435\\u0432\\u0441\\u043a\\u0430\\u044f<br>size=%{marker.size}<br>address.metro.lat=%{lat}<br>address.metro.lng=%{lon}<extra></extra>\",\"lat\":[55.7232,55.7232,55.7232,55.6961,55.647,55.6588,55.7055],\"legendgroup\":\"\\u0421\\u043e\\u043b\\u043d\\u0446\\u0435\\u0432\\u0441\\u043a\\u0430\\u044f\",\"lon\":[37.5038,37.5038,37.5038,37.505,37.3701,37.4174,37.5225],\"marker\":{\"color\":\"#FF6692\",\"size\":[3,3,3,1,1,1,1],\"sizemode\":\"area\",\"sizeref\":0.14},\"mode\":\"markers\",\"name\":\"\\u0421\\u043e\\u043b\\u043d\\u0446\\u0435\\u0432\\u0441\\u043a\\u0430\\u044f\",\"showlegend\":true,\"subplot\":\"mapbox\",\"type\":\"scattermapbox\"},{\"hovertemplate\":\"address.metro.line_name=\\u041a\\u0430\\u0445\\u043e\\u0432\\u0441\\u043a\\u0430\\u044f<br>size=%{marker.size}<br>address.metro.lat=%{lat}<br>address.metro.lng=%{lon}<extra></extra>\",\"lat\":[55.652923],\"legendgroup\":\"\\u041a\\u0430\\u0445\\u043e\\u0432\\u0441\\u043a\\u0430\\u044f\",\"lon\":[37.596573],\"marker\":{\"color\":\"#B6E880\",\"size\":[1],\"sizemode\":\"area\",\"sizeref\":0.14},\"mode\":\"markers\",\"name\":\"\\u041a\\u0430\\u0445\\u043e\\u0432\\u0441\\u043a\\u0430\\u044f\",\"showlegend\":true,\"subplot\":\"mapbox\",\"type\":\"scattermapbox\"}],                        {\"template\":{\"data\":{\"bar\":[{\"error_x\":{\"color\":\"#2a3f5f\"},\"error_y\":{\"color\":\"#2a3f5f\"},\"marker\":{\"line\":{\"color\":\"#E5ECF6\",\"width\":0.5},\"pattern\":{\"fillmode\":\"overlay\",\"size\":10,\"solidity\":0.2}},\"type\":\"bar\"}],\"barpolar\":[{\"marker\":{\"line\":{\"color\":\"#E5ECF6\",\"width\":0.5},\"pattern\":{\"fillmode\":\"overlay\",\"size\":10,\"solidity\":0.2}},\"type\":\"barpolar\"}],\"carpet\":[{\"aaxis\":{\"endlinecolor\":\"#2a3f5f\",\"gridcolor\":\"white\",\"linecolor\":\"white\",\"minorgridcolor\":\"white\",\"startlinecolor\":\"#2a3f5f\"},\"baxis\":{\"endlinecolor\":\"#2a3f5f\",\"gridcolor\":\"white\",\"linecolor\":\"white\",\"minorgridcolor\":\"white\",\"startlinecolor\":\"#2a3f5f\"},\"type\":\"carpet\"}],\"choropleth\":[{\"colorbar\":{\"outlinewidth\":0,\"ticks\":\"\"},\"type\":\"choropleth\"}],\"contour\":[{\"colorbar\":{\"outlinewidth\":0,\"ticks\":\"\"},\"colorscale\":[[0.0,\"#0d0887\"],[0.1111111111111111,\"#46039f\"],[0.2222222222222222,\"#7201a8\"],[0.3333333333333333,\"#9c179e\"],[0.4444444444444444,\"#bd3786\"],[0.5555555555555556,\"#d8576b\"],[0.6666666666666666,\"#ed7953\"],[0.7777777777777778,\"#fb9f3a\"],[0.8888888888888888,\"#fdca26\"],[1.0,\"#f0f921\"]],\"type\":\"contour\"}],\"contourcarpet\":[{\"colorbar\":{\"outlinewidth\":0,\"ticks\":\"\"},\"type\":\"contourcarpet\"}],\"heatmap\":[{\"colorbar\":{\"outlinewidth\":0,\"ticks\":\"\"},\"colorscale\":[[0.0,\"#0d0887\"],[0.1111111111111111,\"#46039f\"],[0.2222222222222222,\"#7201a8\"],[0.3333333333333333,\"#9c179e\"],[0.4444444444444444,\"#bd3786\"],[0.5555555555555556,\"#d8576b\"],[0.6666666666666666,\"#ed7953\"],[0.7777777777777778,\"#fb9f3a\"],[0.8888888888888888,\"#fdca26\"],[1.0,\"#f0f921\"]],\"type\":\"heatmap\"}],\"heatmapgl\":[{\"colorbar\":{\"outlinewidth\":0,\"ticks\":\"\"},\"colorscale\":[[0.0,\"#0d0887\"],[0.1111111111111111,\"#46039f\"],[0.2222222222222222,\"#7201a8\"],[0.3333333333333333,\"#9c179e\"],[0.4444444444444444,\"#bd3786\"],[0.5555555555555556,\"#d8576b\"],[0.6666666666666666,\"#ed7953\"],[0.7777777777777778,\"#fb9f3a\"],[0.8888888888888888,\"#fdca26\"],[1.0,\"#f0f921\"]],\"type\":\"heatmapgl\"}],\"histogram\":[{\"marker\":{\"pattern\":{\"fillmode\":\"overlay\",\"size\":10,\"solidity\":0.2}},\"type\":\"histogram\"}],\"histogram2d\":[{\"colorbar\":{\"outlinewidth\":0,\"ticks\":\"\"},\"colorscale\":[[0.0,\"#0d0887\"],[0.1111111111111111,\"#46039f\"],[0.2222222222222222,\"#7201a8\"],[0.3333333333333333,\"#9c179e\"],[0.4444444444444444,\"#bd3786\"],[0.5555555555555556,\"#d8576b\"],[0.6666666666666666,\"#ed7953\"],[0.7777777777777778,\"#fb9f3a\"],[0.8888888888888888,\"#fdca26\"],[1.0,\"#f0f921\"]],\"type\":\"histogram2d\"}],\"histogram2dcontour\":[{\"colorbar\":{\"outlinewidth\":0,\"ticks\":\"\"},\"colorscale\":[[0.0,\"#0d0887\"],[0.1111111111111111,\"#46039f\"],[0.2222222222222222,\"#7201a8\"],[0.3333333333333333,\"#9c179e\"],[0.4444444444444444,\"#bd3786\"],[0.5555555555555556,\"#d8576b\"],[0.6666666666666666,\"#ed7953\"],[0.7777777777777778,\"#fb9f3a\"],[0.8888888888888888,\"#fdca26\"],[1.0,\"#f0f921\"]],\"type\":\"histogram2dcontour\"}],\"mesh3d\":[{\"colorbar\":{\"outlinewidth\":0,\"ticks\":\"\"},\"type\":\"mesh3d\"}],\"parcoords\":[{\"line\":{\"colorbar\":{\"outlinewidth\":0,\"ticks\":\"\"}},\"type\":\"parcoords\"}],\"pie\":[{\"automargin\":true,\"type\":\"pie\"}],\"scatter\":[{\"marker\":{\"colorbar\":{\"outlinewidth\":0,\"ticks\":\"\"}},\"type\":\"scatter\"}],\"scatter3d\":[{\"line\":{\"colorbar\":{\"outlinewidth\":0,\"ticks\":\"\"}},\"marker\":{\"colorbar\":{\"outlinewidth\":0,\"ticks\":\"\"}},\"type\":\"scatter3d\"}],\"scattercarpet\":[{\"marker\":{\"colorbar\":{\"outlinewidth\":0,\"ticks\":\"\"}},\"type\":\"scattercarpet\"}],\"scattergeo\":[{\"marker\":{\"colorbar\":{\"outlinewidth\":0,\"ticks\":\"\"}},\"type\":\"scattergeo\"}],\"scattergl\":[{\"marker\":{\"colorbar\":{\"outlinewidth\":0,\"ticks\":\"\"}},\"type\":\"scattergl\"}],\"scattermapbox\":[{\"marker\":{\"colorbar\":{\"outlinewidth\":0,\"ticks\":\"\"}},\"type\":\"scattermapbox\"}],\"scatterpolar\":[{\"marker\":{\"colorbar\":{\"outlinewidth\":0,\"ticks\":\"\"}},\"type\":\"scatterpolar\"}],\"scatterpolargl\":[{\"marker\":{\"colorbar\":{\"outlinewidth\":0,\"ticks\":\"\"}},\"type\":\"scatterpolargl\"}],\"scatterternary\":[{\"marker\":{\"colorbar\":{\"outlinewidth\":0,\"ticks\":\"\"}},\"type\":\"scatterternary\"}],\"surface\":[{\"colorbar\":{\"outlinewidth\":0,\"ticks\":\"\"},\"colorscale\":[[0.0,\"#0d0887\"],[0.1111111111111111,\"#46039f\"],[0.2222222222222222,\"#7201a8\"],[0.3333333333333333,\"#9c179e\"],[0.4444444444444444,\"#bd3786\"],[0.5555555555555556,\"#d8576b\"],[0.6666666666666666,\"#ed7953\"],[0.7777777777777778,\"#fb9f3a\"],[0.8888888888888888,\"#fdca26\"],[1.0,\"#f0f921\"]],\"type\":\"surface\"}],\"table\":[{\"cells\":{\"fill\":{\"color\":\"#EBF0F8\"},\"line\":{\"color\":\"white\"}},\"header\":{\"fill\":{\"color\":\"#C8D4E3\"},\"line\":{\"color\":\"white\"}},\"type\":\"table\"}]},\"layout\":{\"annotationdefaults\":{\"arrowcolor\":\"#2a3f5f\",\"arrowhead\":0,\"arrowwidth\":1},\"autotypenumbers\":\"strict\",\"coloraxis\":{\"colorbar\":{\"outlinewidth\":0,\"ticks\":\"\"}},\"colorscale\":{\"diverging\":[[0,\"#8e0152\"],[0.1,\"#c51b7d\"],[0.2,\"#de77ae\"],[0.3,\"#f1b6da\"],[0.4,\"#fde0ef\"],[0.5,\"#f7f7f7\"],[0.6,\"#e6f5d0\"],[0.7,\"#b8e186\"],[0.8,\"#7fbc41\"],[0.9,\"#4d9221\"],[1,\"#276419\"]],\"sequential\":[[0.0,\"#0d0887\"],[0.1111111111111111,\"#46039f\"],[0.2222222222222222,\"#7201a8\"],[0.3333333333333333,\"#9c179e\"],[0.4444444444444444,\"#bd3786\"],[0.5555555555555556,\"#d8576b\"],[0.6666666666666666,\"#ed7953\"],[0.7777777777777778,\"#fb9f3a\"],[0.8888888888888888,\"#fdca26\"],[1.0,\"#f0f921\"]],\"sequentialminus\":[[0.0,\"#0d0887\"],[0.1111111111111111,\"#46039f\"],[0.2222222222222222,\"#7201a8\"],[0.3333333333333333,\"#9c179e\"],[0.4444444444444444,\"#bd3786\"],[0.5555555555555556,\"#d8576b\"],[0.6666666666666666,\"#ed7953\"],[0.7777777777777778,\"#fb9f3a\"],[0.8888888888888888,\"#fdca26\"],[1.0,\"#f0f921\"]]},\"colorway\":[\"#636efa\",\"#EF553B\",\"#00cc96\",\"#ab63fa\",\"#FFA15A\",\"#19d3f3\",\"#FF6692\",\"#B6E880\",\"#FF97FF\",\"#FECB52\"],\"font\":{\"color\":\"#2a3f5f\"},\"geo\":{\"bgcolor\":\"white\",\"lakecolor\":\"white\",\"landcolor\":\"#E5ECF6\",\"showlakes\":true,\"showland\":true,\"subunitcolor\":\"white\"},\"hoverlabel\":{\"align\":\"left\"},\"hovermode\":\"closest\",\"mapbox\":{\"style\":\"light\"},\"paper_bgcolor\":\"white\",\"plot_bgcolor\":\"#E5ECF6\",\"polar\":{\"angularaxis\":{\"gridcolor\":\"white\",\"linecolor\":\"white\",\"ticks\":\"\"},\"bgcolor\":\"#E5ECF6\",\"radialaxis\":{\"gridcolor\":\"white\",\"linecolor\":\"white\",\"ticks\":\"\"}},\"scene\":{\"xaxis\":{\"backgroundcolor\":\"#E5ECF6\",\"gridcolor\":\"white\",\"gridwidth\":2,\"linecolor\":\"white\",\"showbackground\":true,\"ticks\":\"\",\"zerolinecolor\":\"white\"},\"yaxis\":{\"backgroundcolor\":\"#E5ECF6\",\"gridcolor\":\"white\",\"gridwidth\":2,\"linecolor\":\"white\",\"showbackground\":true,\"ticks\":\"\",\"zerolinecolor\":\"white\"},\"zaxis\":{\"backgroundcolor\":\"#E5ECF6\",\"gridcolor\":\"white\",\"gridwidth\":2,\"linecolor\":\"white\",\"showbackground\":true,\"ticks\":\"\",\"zerolinecolor\":\"white\"}},\"shapedefaults\":{\"line\":{\"color\":\"#2a3f5f\"}},\"ternary\":{\"aaxis\":{\"gridcolor\":\"white\",\"linecolor\":\"white\",\"ticks\":\"\"},\"baxis\":{\"gridcolor\":\"white\",\"linecolor\":\"white\",\"ticks\":\"\"},\"bgcolor\":\"#E5ECF6\",\"caxis\":{\"gridcolor\":\"white\",\"linecolor\":\"white\",\"ticks\":\"\"}},\"title\":{\"x\":0.05},\"xaxis\":{\"automargin\":true,\"gridcolor\":\"white\",\"linecolor\":\"white\",\"ticks\":\"\",\"title\":{\"standoff\":15},\"zerolinecolor\":\"white\",\"zerolinewidth\":2},\"yaxis\":{\"automargin\":true,\"gridcolor\":\"white\",\"linecolor\":\"white\",\"ticks\":\"\",\"title\":{\"standoff\":15},\"zerolinecolor\":\"white\",\"zerolinewidth\":2}}},\"mapbox\":{\"domain\":{\"x\":[0.0,1.0],\"y\":[0.0,1.0]},\"center\":{\"lat\":55.76826045660903,\"lon\":37.55288216288387},\"zoom\":8,\"style\":\"stamen-terrain\"},\"legend\":{\"title\":{\"text\":\"address.metro.line_name\"},\"tracegroupgap\":0,\"itemsizing\":\"constant\"},\"margin\":{\"t\":60}},                        {\"responsive\": true}                    ).then(function(){\n",
       "                            \n",
       "var gd = document.getElementById('77f80e61-0362-4210-92c0-7ca8c4ce28db');\n",
       "var x = new MutationObserver(function (mutations, observer) {{\n",
       "        var display = window.getComputedStyle(gd).display;\n",
       "        if (!display || display === 'none') {{\n",
       "            console.log([gd, 'removed!']);\n",
       "            Plotly.purge(gd);\n",
       "            observer.disconnect();\n",
       "        }}\n",
       "}});\n",
       "\n",
       "// Listen for the removal of the full notebook cells\n",
       "var notebookContainer = gd.closest('#notebook-container');\n",
       "if (notebookContainer) {{\n",
       "    x.observe(notebookContainer, {childList: true});\n",
       "}}\n",
       "\n",
       "// Listen for the clearing of the current output cell\n",
       "var outputEl = gd.closest('.output');\n",
       "if (outputEl) {{\n",
       "    x.observe(outputEl, {childList: true});\n",
       "}}\n",
       "\n",
       "                        })                };                });            </script>        </div>"
      ]
     },
     "metadata": {},
     "output_type": "display_data"
    }
   ],
   "source": [
    "data_science = vacny_df_no_nan_metro\n",
    "df = data_science.dropna(subset=['address.metro.station_name','address.metro.line_name','address.metro.lat', 'address.metro.lng'])\n",
    "counter=list()\n",
    "stations = df['address.metro.station_name'].tolist()\n",
    "for station in df['address.metro.station_name']:\n",
    "    counter.append(stations.count(station))\n",
    "df.insert(0,'count_station', pd.Series(counter))\n",
    "fig = px.scatter_mapbox(df, lat='address.metro.lat', lon='address.metro.lng', color='address.metro.line_name',\n",
    "                        size=pd.Series(counter), mapbox_style ='stamen-terrain')\n",
    "\n",
    "fig.show()"
   ]
  },
  {
   "cell_type": "markdown",
   "metadata": {},
   "source": [
    "Какие выводы можно сделать из построенных графиков?\n",
    "\n",
    "По итогам исследования, выяснилось, что больше всего вакансий, на станциях: Технопарк,Белорусская,Бауманская. Также, можем увидеть, что самый топовый работодатель - это Сбербанк, и самый часто требуемый опыт работы - это от 1 до 3 лет."
   ]
  }
 ],
 "metadata": {
  "colab": {
   "collapsed_sections": [],
   "name": "stats.ipynb",
   "provenance": [],
   "version": "0.3.2"
  },
  "kernelspec": {
   "display_name": "Python 3 (ipykernel)",
   "language": "python",
   "name": "python3"
  },
  "language_info": {
   "codemirror_mode": {
    "name": "ipython",
    "version": 3
   },
   "file_extension": ".py",
   "mimetype": "text/x-python",
   "name": "python",
   "nbconvert_exporter": "python",
   "pygments_lexer": "ipython3",
   "version": "3.9.7"
  }
 },
 "nbformat": 4,
 "nbformat_minor": 1
}
